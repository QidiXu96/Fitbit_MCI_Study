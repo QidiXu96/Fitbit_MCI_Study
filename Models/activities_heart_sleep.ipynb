{
 "cells": [
  {
   "cell_type": "code",
   "execution_count": 1,
   "metadata": {},
   "outputs": [
    {
     "name": "stderr",
     "output_type": "stream",
     "text": [
      "/Users/xuqidi/myenv/lib/python3.7/site-packages/woodwork/__init__.py:23: FutureWarning: Woodwork may not support Python 3.7 in next non-bugfix release.\n",
      "  \"Woodwork may not support Python 3.7 in next non-bugfix release.\", FutureWarning\n",
      "/Users/xuqidi/myenv/lib/python3.7/site-packages/featuretools/__init__.py:67: FutureWarning: Featuretools may not support Python 3.7 in next non-bugfix release.\n",
      "  FutureWarning,\n"
     ]
    }
   ],
   "source": [
    "import pandas as pd\n",
    "import numpy as np\n",
    "import featuretools as ft\n",
    "import matplotlib.pyplot as plt\n",
    "import sklearn\n",
    "import shap\n",
    "from catboost import CatBoostClassifier\n",
    "from sklearn.preprocessing import StandardScaler\n",
    "from sklearn.model_selection import KFold\n",
    "from sklearn.model_selection import RepeatedKFold\n",
    "from sklearn.model_selection import LeaveOneOut\n",
    "from sklearn.metrics import roc_curve, roc_auc_score, auc, precision_score, recall_score, f1_score"
   ]
  },
  {
   "cell_type": "code",
   "execution_count": 2,
   "metadata": {},
   "outputs": [],
   "source": [
    "import warnings\n",
    "warnings.filterwarnings(\"ignore\", \"is_categorical_dtype\")"
   ]
  },
  {
   "cell_type": "markdown",
   "metadata": {},
   "source": [
    "## Data"
   ]
  },
  {
   "cell_type": "code",
   "execution_count": 3,
   "metadata": {},
   "outputs": [],
   "source": [
    "valid_days = pd.read_csv('included_days.txt', sep='\\t') "
   ]
  },
  {
   "cell_type": "code",
   "execution_count": 4,
   "metadata": {},
   "outputs": [],
   "source": [
    "activities = pd.read_csv('activities_final.txt', sep='\\t') \n",
    "activities = activities.drop(['activity_Run', 'activity_Walk', 'gender', 'race', 'caloriesBMR', 'activeScore'], axis = 1)"
   ]
  },
  {
   "cell_type": "code",
   "execution_count": 5,
   "metadata": {},
   "outputs": [],
   "source": [
    "#remove partial days in activities \n",
    "activity = pd.merge(activities, valid_days, left_on=['User', 'Date'], right_on=['User', 'Day'])\n",
    "activity.drop('Day', axis=1, inplace=True)"
   ]
  },
  {
   "cell_type": "code",
   "execution_count": 6,
   "metadata": {},
   "outputs": [],
   "source": [
    "sleep = pd.read_csv('sleep_final.txt', sep='\\t')"
   ]
  },
  {
   "cell_type": "code",
   "execution_count": 7,
   "metadata": {},
   "outputs": [],
   "source": [
    "#divide into main sleep and naps\n",
    "def classify_sleep(row):\n",
    "    main_sleep_conditions = all(pd.isna(row[key]) for key in ['asleep_count', 'asleep_minutes', \n",
    "                                                             'awake_count', 'awake_minutes',\n",
    "                                                             'restless_minutes', 'restless_count'])\n",
    "    nap_conditions = all(pd.isna(row[key]) for key in ['deep_count', 'deep_minutes', 'deep_thirtyDayAvgMinutes', \n",
    "                                                      'light_count', 'light_minutes', 'light_thirtyDayAvgMinutes',\n",
    "                                                      'rem_count', 'rem_minutes', 'rem_thirtyDayAvgMinutes',\n",
    "                                                      'wake_count', 'wake_minutes', 'wake_thirtyDayAvgMinutes'])\n",
    "    if nap_conditions:\n",
    "        return \"Nap\"\n",
    "    elif main_sleep_conditions:\n",
    "        return \"Main Sleep\"\n",
    "    else:\n",
    "        return \"Inconclusive\" \n",
    "\n",
    "sleep['classification'] = sleep.apply(classify_sleep, axis=1)"
   ]
  },
  {
   "cell_type": "code",
   "execution_count": 8,
   "metadata": {},
   "outputs": [],
   "source": [
    "mainsleep = sleep[sleep['classification']=='Main Sleep']\n",
    "mainsleep = mainsleep.drop(['startTime', 'endTime', \n",
    "                'duration', 'isMainSleep', 'classification',\n",
    "                'gender', 'race'], axis=1) \n",
    "mainsleep = mainsleep.dropna(axis = 1)"
   ]
  },
  {
   "cell_type": "markdown",
   "metadata": {},
   "source": [
    "## Activities + Heart rate + Main sleep"
   ]
  },
  {
   "cell_type": "code",
   "execution_count": 9,
   "metadata": {},
   "outputs": [],
   "source": [
    "common_features = ['label', 'User', 'age', 'Date']\n",
    "df = pd.merge(activity, mainsleep, on=common_features, how='inner')"
   ]
  },
  {
   "cell_type": "code",
   "execution_count": 10,
   "metadata": {},
   "outputs": [],
   "source": [
    "unique_df = df[['User', 'label']].drop_duplicates()\n",
    "unique_df.set_index('User', inplace=True)"
   ]
  },
  {
   "cell_type": "code",
   "execution_count": 11,
   "metadata": {},
   "outputs": [],
   "source": [
    "df = df.drop(['label', 'Date'], axis = 1)"
   ]
  },
  {
   "cell_type": "markdown",
   "metadata": {},
   "source": [
    "## Featuretools"
   ]
  },
  {
   "cell_type": "code",
   "execution_count": 12,
   "metadata": {},
   "outputs": [
    {
     "data": {
      "text/plain": [
       "Entityset: data_activities_heart_mainsleep\n",
       "  DataFrames:\n",
       "    AHM [Rows: 524, Columns: 58]\n",
       "  Relationships:\n",
       "    No relationships"
      ]
     },
     "execution_count": 12,
     "metadata": {},
     "output_type": "execute_result"
    }
   ],
   "source": [
    "es = ft.EntitySet(id = 'data_activities_heart_mainsleep')\n",
    "es.add_dataframe(dataframe_name = 'AHM', dataframe = df, make_index = True, index = 'ahm_index')"
   ]
  },
  {
   "cell_type": "code",
   "execution_count": 13,
   "metadata": {},
   "outputs": [
    {
     "data": {
      "text/plain": [
       "Entityset: data_activities_heart_mainsleep\n",
       "  DataFrames:\n",
       "    AHM [Rows: 524, Columns: 57]\n",
       "    person [Rows: 20, Columns: 2]\n",
       "  Relationships:\n",
       "    AHM.User -> person.User"
      ]
     },
     "execution_count": 13,
     "metadata": {},
     "output_type": "execute_result"
    }
   ],
   "source": [
    "es.normalize_dataframe(base_dataframe_name='AHM', new_dataframe_name='person', index = 'User', \n",
    "            additional_columns = ['age'])"
   ]
  },
  {
   "cell_type": "code",
   "execution_count": 14,
   "metadata": {},
   "outputs": [
    {
     "name": "stdout",
     "output_type": "stream",
     "text": [
      "Built 332 features\n",
      "Elapsed: 00:00 | Progress: 100%|████████████████████████████████████████████████\n"
     ]
    }
   ],
   "source": [
    "feature_matrix, feature_names = ft.dfs(entityset=es, \n",
    "target_dataframe_name = 'person', \n",
    "max_depth = 2, \n",
    "verbose = 1 \n",
    ")"
   ]
  },
  {
   "cell_type": "markdown",
   "metadata": {},
   "source": [
    "## Feature Selection"
   ]
  },
  {
   "cell_type": "code",
   "execution_count": 15,
   "metadata": {},
   "outputs": [],
   "source": [
    "y = unique_df['label']\n",
    "X = feature_matrix"
   ]
  },
  {
   "cell_type": "code",
   "execution_count": 16,
   "metadata": {},
   "outputs": [
    {
     "name": "stdout",
     "output_type": "stream",
     "text": [
      "Skipping AUC calculation for this fold due to single class in y_true.\n"
     ]
    }
   ],
   "source": [
    "alpha = 0.02\n",
    "kf = KFold(n_splits=5, shuffle=True, random_state=42) \n",
    "\n",
    "ix_training, ix_test = [], []\n",
    "\n",
    "for fold in kf.split(X):\n",
    "    ix_training.append(fold[0]), ix_test.append(fold[1])\n",
    "\n",
    "models = []\n",
    "auc_scores = []\n",
    "feature_occurrences = {} \n",
    "\n",
    "for i, (train_outer_ix, test_outer_ix) in enumerate(zip(ix_training, ix_test)): \n",
    "    X_train, y_train = X.iloc[train_outer_ix], y.iloc[train_outer_ix]\n",
    "    X_test, y_test = X.iloc[test_outer_ix], y.iloc[test_outer_ix]\n",
    "    \n",
    "    #model\n",
    "    model = CatBoostClassifier(iterations=200, learning_rate=0.01, depth=10, l2_leaf_reg=4, random_seed=8, \n",
    "                               loss_function='Logloss')\n",
    "    model.fit(X_train, y_train, cat_features = [], verbose = 0)\n",
    "    \n",
    "    #SHAP in training\n",
    "    explainer = shap.TreeExplainer(model)\n",
    "    shap_values = explainer.shap_values(X_train) \n",
    "    shap_importance = np.mean(np.abs(np.array(shap_values)), axis = 0)\n",
    "    important_features = np.array(X_train.columns)[shap_importance > alpha]\n",
    "\n",
    "    #count\n",
    "    for feature in important_features:\n",
    "        if feature in feature_occurrences:\n",
    "            feature_occurrences[feature] += 1\n",
    "        else:\n",
    "            feature_occurrences[feature] = 1\n",
    "\n",
    "    #test with selected features\n",
    "    X_train_selected = X_train[important_features]\n",
    "    X_test_selected = X_test[important_features]\n",
    "\n",
    "    model.fit(X_train_selected, y_train, cat_features = [], verbose = 0)\n",
    "    \n",
    "    yhat_probs = model.predict_proba(X_test_selected)[:, 1]\n",
    "    \n",
    "    try:\n",
    "        auc = roc_auc_score(y_test, yhat_probs)\n",
    "        auc_scores.append(auc)\n",
    "    except ValueError:\n",
    "        print(\"Skipping AUC calculation for this fold due to single class in y_true.\")\n",
    "        auc_scores.append(float('nan'))\n",
    "        \n",
    "    models.append(model)\n"
   ]
  },
  {
   "cell_type": "code",
   "execution_count": 17,
   "metadata": {},
   "outputs": [
    {
     "name": "stdout",
     "output_type": "stream",
     "text": [
      "The mean AUC of the 5 folds is  1.0\n",
      "The std AUC of the 5 folds is  0.0\n"
     ]
    }
   ],
   "source": [
    "print('The mean AUC of the 5 folds is ', np.nanmean(auc_scores))\n",
    "print('The std AUC of the 5 folds is ', np.nanstd(auc_scores))"
   ]
  },
  {
   "cell_type": "code",
   "execution_count": 18,
   "metadata": {},
   "outputs": [],
   "source": [
    "final_selected_features = [feature for feature, count in feature_occurrences.items() if count >= 2]"
   ]
  },
  {
   "cell_type": "code",
   "execution_count": 19,
   "metadata": {},
   "outputs": [],
   "source": [
    "X_filtered = X[final_selected_features]"
   ]
  },
  {
   "cell_type": "code",
   "execution_count": 20,
   "metadata": {},
   "outputs": [
    {
     "name": "stdout",
     "output_type": "stream",
     "text": [
      "(20, 15)\n",
      "(20,)\n"
     ]
    }
   ],
   "source": [
    "print(X_filtered.shape)\n",
    "print(y.shape)"
   ]
  },
  {
   "cell_type": "code",
   "execution_count": 21,
   "metadata": {},
   "outputs": [
    {
     "data": {
      "text/plain": [
       "Index(['MAX(AHM.lightlyActiveMinutes)', 'MEAN(AHM.deep_thirtyDayAvgMinutes)',\n",
       "       'SKEW(AHM.heartRateZone_Fat_Burn_caloriesOut)',\n",
       "       'STD(AHM.heartRateZone_Peak_max)',\n",
       "       'SUM(AHM.heartRateZone_Fat_Burn_caloriesOut)',\n",
       "       'SUM(AHM.heartRateZone_Fat_Burn_minutes)',\n",
       "       'SUM(AHM.lightlyActiveMinutes)', 'MEAN(AHM.restingHeartRate)',\n",
       "       'MIN(AHM.restingHeartRate)', 'STD(AHM.heartRateZone_Cardio_min)',\n",
       "       'SUM(AHM.activity_lightlyActive)', 'SUM(AHM.restingHeartRate)',\n",
       "       'MEAN(AHM.heartRateZone_Fat_Burn_minutes)',\n",
       "       'SKEW(AHM.heartRateZone_Cardio_min)',\n",
       "       'SKEW(AHM.heartRateZone_Peak_max)'],\n",
       "      dtype='object')"
      ]
     },
     "execution_count": 21,
     "metadata": {},
     "output_type": "execute_result"
    }
   ],
   "source": [
    "X_filtered.columns"
   ]
  },
  {
   "cell_type": "code",
   "execution_count": 22,
   "metadata": {},
   "outputs": [],
   "source": [
    "new_labels = ['MAX(lightly active minutes)', 'MEAN(deep sleep minutes)','SKEW(heart rate zone fat burn calories out)',\n",
    "'STD(heart rate zone peak max)','SUM(heart rate zone fat burn calories out)','SUM(heart rate zone fat burn minutes)', \n",
    "'SUM(lightly active minutes)','MEAN(resting heart rate)', 'MIN(resting heart rate)',\n",
    "'STD(heart rate zone cardio min)', 'SUM(lightly active distance)','SUM(resting heart rate)', \n",
    "'MEAN(heart rate zone fat burn minutes)','SKEW(heart rate zone cardio min)', 'SKEW(heart rate zone peak max)']\n",
    "X_filtered.columns = new_labels"
   ]
  },
  {
   "cell_type": "code",
   "execution_count": 23,
   "metadata": {},
   "outputs": [],
   "source": [
    "from sklearn.preprocessing import StandardScaler\n",
    "scaler_z = StandardScaler()\n",
    "original_index = X_filtered.index\n",
    "scaled_data = scaler_z.fit_transform(X_filtered)\n",
    "X_filtered = pd.DataFrame(scaled_data, index=original_index, columns=X_filtered.columns)"
   ]
  },
  {
   "cell_type": "markdown",
   "metadata": {},
   "source": [
    "## Evaluation"
   ]
  },
  {
   "cell_type": "markdown",
   "metadata": {},
   "source": [
    "### CatBoost Repeated K fold"
   ]
  },
  {
   "cell_type": "code",
   "execution_count": 24,
   "metadata": {},
   "outputs": [
    {
     "name": "stdout",
     "output_type": "stream",
     "text": [
      "Skipping AUC calculation for this fold due to single class in y_true.\n",
      "Skipping AUC calculation for this fold due to single class in y_true.\n",
      "Skipping AUC calculation for this fold due to single class in y_true.\n",
      "Skipping AUC calculation for this fold due to single class in y_true.\n"
     ]
    }
   ],
   "source": [
    "rkf = RepeatedKFold(n_splits=5, n_repeats=5, random_state=42)\n",
    "\n",
    "models = []\n",
    "r_auc_scores = []\n",
    "all_shap_values = []\n",
    "all_X_tests = []\n",
    "\n",
    "tprs = []\n",
    "mean_fpr = np.linspace(0,1,100)\n",
    "\n",
    "fold_results = []\n",
    "\n",
    "precision_scores = []\n",
    "recall_scores = []\n",
    "f1_scores = []\n",
    "\n",
    "for i, (train_outer_ix, test_outer_ix) in enumerate(rkf.split(X_filtered)): \n",
    "    X_train, y_train = X_filtered.iloc[train_outer_ix], y.iloc[train_outer_ix]\n",
    "    X_test, y_test = X_filtered.iloc[test_outer_ix], y.iloc[test_outer_ix]\n",
    "    \n",
    "    model = CatBoostClassifier(iterations=200, learning_rate=0.01, depth=8, l2_leaf_reg=3, random_seed=7, \n",
    "                               loss_function='Logloss')\n",
    "    model.fit(X_train, y_train, cat_features=[], verbose=0)\n",
    "    \n",
    "    #test\n",
    "    yhat_probs = model.predict_proba(X_test)[:, 1]\n",
    "    yhat_labels = model.predict(X_test)\n",
    "    \n",
    "    #store\n",
    "    for User, true_label, pred_label, pred_prob in zip(X_filtered.iloc[test_outer_ix].index.values, y_test, yhat_labels, yhat_probs):\n",
    "        fold_results.append([User, true_label, pred_prob, pred_label])\n",
    "    \n",
    "    #auc\n",
    "    try:\n",
    "        auc = roc_auc_score(y_test, yhat_probs)\n",
    "        r_auc_scores.append(auc)\n",
    "    except ValueError:\n",
    "        print(\"Skipping AUC calculation for this fold due to single class in y_true.\")\n",
    "        r_auc_scores.append(float('nan')) \n",
    "\n",
    "    #ROC\n",
    "    if len(np.unique(y_test)) > 1: \n",
    "        fpr, tpr, t = roc_curve(y_test, yhat_probs)\n",
    "        tprs.append(np.interp(mean_fpr, fpr, tpr))\n",
    "    else:\n",
    "        continue\n",
    "    \n",
    "    #other metrics\n",
    "    precision = precision_score(y_test, yhat_labels)\n",
    "    recall = recall_score(y_test, yhat_labels)\n",
    "    f1 = f1_score(y_test, yhat_labels)\n",
    "    \n",
    "    precision_scores.append(precision)\n",
    "    recall_scores.append(recall)\n",
    "    f1_scores.append(f1)\n",
    "        \n",
    "    #compute SHAP values for the current test set\n",
    "    explainer = shap.Explainer(model)\n",
    "    shap_values = explainer.shap_values(X_test)\n",
    "    all_shap_values.append(shap_values)\n",
    "    all_X_tests.append(X_test)\n",
    "\n",
    "    models.append(model)"
   ]
  },
  {
   "cell_type": "code",
   "execution_count": 25,
   "metadata": {},
   "outputs": [
    {
     "name": "stdout",
     "output_type": "stream",
     "text": [
      "Mean AUC using Kfold after feature selection: 1.0\n"
     ]
    }
   ],
   "source": [
    "mean_auc = np.nanmean(r_auc_scores)\n",
    "print(\"Mean AUC using Kfold after feature selection:\", mean_auc)"
   ]
  },
  {
   "cell_type": "code",
   "execution_count": 26,
   "metadata": {},
   "outputs": [
    {
     "name": "stdout",
     "output_type": "stream",
     "text": [
      "Mean precision score is: 1.0\n",
      "Mean recall score is: 0.9365079365079364\n",
      "Mean F1 score is: 0.9587301587301589\n"
     ]
    }
   ],
   "source": [
    "print('Mean precision score is:', np.mean(precision_scores))\n",
    "print('Mean recall score is:', np.mean(recall_scores))\n",
    "print('Mean F1 score is:', np.mean(f1_scores))"
   ]
  },
  {
   "cell_type": "code",
   "execution_count": 27,
   "metadata": {},
   "outputs": [],
   "source": [
    "results_df = pd.DataFrame(fold_results, columns=['User', 'True Label', 'Predicted Probability', 'Predicted Label'])\n",
    "results_df.to_csv('detail_info_AHM.csv', index=False)"
   ]
  },
  {
   "cell_type": "code",
   "execution_count": 28,
   "metadata": {},
   "outputs": [
    {
     "data": {
      "image/png": "[encoded data removed]",
      "text/plain": [
       "<Figure size 800x750 with 2 Axes>"
      ]
     },
     "metadata": {},
     "output_type": "display_data"
    }
   ],
   "source": [
    "aggregated_shap_values = np.vstack(all_shap_values)\n",
    "aggregated_X_test = pd.concat(all_X_tests)\n",
    "shap.summary_plot(aggregated_shap_values, aggregated_X_test, show = False)\n",
    "plt.savefig('SHAP Final.pdf', dpi=1000, bbox_inches='tight')\n",
    "plt.show()"
   ]
  },
  {
   "cell_type": "markdown",
   "metadata": {},
   "source": [
    "#### LOOCV"
   ]
  },
  {
   "cell_type": "code",
   "execution_count": 29,
   "metadata": {},
   "outputs": [],
   "source": [
    "cv = LeaveOneOut()\n",
    "\n",
    "models = []\n",
    "all_y_test = []\n",
    "all_yhat_probs = []\n",
    "all_results = []\n",
    "\n",
    "for train_ix, test_ix in cv.split(X_filtered):\n",
    "    X_train, y_train = X_filtered.iloc[train_ix], y.iloc[train_ix]\n",
    "    X_test, y_test = X_filtered.iloc[test_ix], y.iloc[test_ix]\n",
    "    \n",
    "    userids_test = X_filtered.iloc[test_ix].index.values\n",
    "\n",
    "    model = CatBoostClassifier(iterations=100, learning_rate=0.01, depth=8, l2_leaf_reg=3, random_seed=7, \n",
    "                               loss_function='Logloss')\n",
    "    model.fit(X_train, y_train, cat_features = [], verbose = 0)\n",
    "\n",
    "    yhat_probs = model.predict_proba(X_test)[:, 1]\n",
    "    \n",
    "    #predict labels\n",
    "    yhat_labels = model.predict(X_test)\n",
    "    \n",
    "    #store results\n",
    "    fold_results = pd.DataFrame({\n",
    "        'User': userids_test,\n",
    "        'true_label': y_test.values,\n",
    "        'predicted_proba': yhat_probs,\n",
    "        'predicted_label': yhat_labels\n",
    "    })\n",
    "    all_results.append(fold_results)\n",
    "    \n",
    "    all_y_test.extend(y_test)\n",
    "    all_yhat_probs.extend(yhat_probs)\n",
    "        \n",
    "    models.append(model)\n",
    "results_df = pd.concat(all_results, ignore_index=True)"
   ]
  },
  {
   "cell_type": "code",
   "execution_count": 30,
   "metadata": {},
   "outputs": [
    {
     "name": "stdout",
     "output_type": "stream",
     "text": [
      "AUC Score across all LOO iterations: 1.0000\n"
     ]
    }
   ],
   "source": [
    "auc = roc_auc_score(all_y_test, all_yhat_probs)\n",
    "print(f\"AUC Score across all LOO iterations: {auc:.4f}\")"
   ]
  },
  {
   "cell_type": "code",
   "execution_count": 31,
   "metadata": {},
   "outputs": [
    {
     "data": {
      "text/plain": [
       "[0.5487166090499948,\n",
       " 0.5263404400150474,\n",
       " 0.5452307287515076,\n",
       " 0.4879224302988943,\n",
       " 0.5147349003764359,\n",
       " 0.4383922397333248,\n",
       " 0.49172611973726493,\n",
       " 0.42821357916413666,\n",
       " 0.5488300729836689,\n",
       " 0.5344119044772107,\n",
       " 0.4837441460616968,\n",
       " 0.47801815747994236,\n",
       " 0.5028041353861398,\n",
       " 0.5179360377347348,\n",
       " 0.511299549214439,\n",
       " 0.43986217790022236,\n",
       " 0.5517226467683007,\n",
       " 0.48007727076525125,\n",
       " 0.5234965248647643,\n",
       " 0.4369329361278588]"
      ]
     },
     "execution_count": 31,
     "metadata": {},
     "output_type": "execute_result"
    }
   ],
   "source": [
    "all_yhat_probs"
   ]
  },
  {
   "cell_type": "code",
   "execution_count": 32,
   "metadata": {},
   "outputs": [],
   "source": [
    "results_df.to_csv('detail_info_AHM_Loocv.csv', index=False)"
   ]
  },
  {
   "cell_type": "markdown",
   "metadata": {},
   "source": [
    "### RF"
   ]
  },
  {
   "cell_type": "code",
   "execution_count": 33,
   "metadata": {},
   "outputs": [
    {
     "name": "stdout",
     "output_type": "stream",
     "text": [
      "Skipping AUC calculation for this fold due to single class in y_true.\n",
      "Skipping AUC calculation for this fold due to single class in y_true.\n",
      "Skipping AUC calculation for this fold due to single class in y_true.\n",
      "Skipping AUC calculation for this fold due to single class in y_true.\n"
     ]
    }
   ],
   "source": [
    "from sklearn.ensemble import RandomForestClassifier\n",
    "\n",
    "rkf = RepeatedKFold(n_splits=5, n_repeats=5, random_state=42)\n",
    "\n",
    "models = []\n",
    "r_auc_scores = []\n",
    "\n",
    "for i, (train_outer_ix, test_outer_ix) in enumerate(rkf.split(X_filtered)): \n",
    "    X_train, y_train = X_filtered.iloc[train_outer_ix], y.iloc[train_outer_ix]\n",
    "    X_test, y_test = X_filtered.iloc[test_outer_ix], y.iloc[test_outer_ix]\n",
    "    \n",
    "    model = RandomForestClassifier(n_estimators=100, max_depth=8, random_state=7)\n",
    "    model.fit(X_train, y_train)\n",
    "    \n",
    "    #test\n",
    "    yhat_probs = model.predict_proba(X_test)[:, 1]\n",
    "    \n",
    "    #auc\n",
    "    try:\n",
    "        auc = roc_auc_score(y_test, yhat_probs)\n",
    "        r_auc_scores.append(auc)\n",
    "    except ValueError:\n",
    "        print(\"Skipping AUC calculation for this fold due to single class in y_true.\")\n",
    "        r_auc_scores.append(float('nan')) \n",
    "    \n",
    "    models.append(model)"
   ]
  },
  {
   "cell_type": "code",
   "execution_count": 34,
   "metadata": {},
   "outputs": [
    {
     "name": "stdout",
     "output_type": "stream",
     "text": [
      "Mean AUC using Repeated Kfold after feature selection: 0.9880952380952381\n"
     ]
    }
   ],
   "source": [
    "mean_auc = np.nanmean(r_auc_scores)\n",
    "print(\"Mean AUC using Repeated Kfold after feature selection:\", mean_auc)"
   ]
  },
  {
   "cell_type": "code",
   "execution_count": 35,
   "metadata": {},
   "outputs": [],
   "source": [
    "cv = LeaveOneOut()\n",
    "\n",
    "models = []\n",
    "all_y_test = []\n",
    "all_yhat_probs = []\n",
    "\n",
    "for train_ix, test_ix in cv.split(X_filtered):\n",
    "    X_train, y_train = X_filtered.iloc[train_ix], y.iloc[train_ix]\n",
    "    X_test, y_test = X_filtered.iloc[test_ix], y.iloc[test_ix]\n",
    "\n",
    "    model = RandomForestClassifier(n_estimators=100, max_depth=8, random_state=7)\n",
    "    model.fit(X_train, y_train)\n",
    "\n",
    "    yhat_probs = model.predict_proba(X_test)[:, 1]\n",
    "    \n",
    "    all_y_test.extend(y_test)\n",
    "    all_yhat_probs.extend(yhat_probs)\n",
    "        \n",
    "    models.append(model)\n"
   ]
  },
  {
   "cell_type": "code",
   "execution_count": 36,
   "metadata": {},
   "outputs": [
    {
     "name": "stdout",
     "output_type": "stream",
     "text": [
      "AUC Score across all LOO iterations: 0.9375\n"
     ]
    }
   ],
   "source": [
    "auc = roc_auc_score(all_y_test, all_yhat_probs)\n",
    "print(f\"AUC Score across all LOO iterations: {auc:.4f}\")"
   ]
  },
  {
   "cell_type": "markdown",
   "metadata": {},
   "source": [
    "### XGBoost"
   ]
  },
  {
   "cell_type": "code",
   "execution_count": 37,
   "metadata": {},
   "outputs": [
    {
     "name": "stdout",
     "output_type": "stream",
     "text": [
      "Skipping AUC calculation for this fold due to single class in y_true.\n",
      "Skipping AUC calculation for this fold due to single class in y_true.\n",
      "Skipping AUC calculation for this fold due to single class in y_true.\n",
      "Skipping AUC calculation for this fold due to single class in y_true.\n"
     ]
    }
   ],
   "source": [
    "import xgboost as xgb\n",
    "rkf = RepeatedKFold(n_splits=5, n_repeats=5, random_state=42)\n",
    "\n",
    "models = []\n",
    "r_auc_scores = []\n",
    "\n",
    "for i, (train_outer_ix, test_outer_ix) in enumerate(rkf.split(X_filtered)): \n",
    "    X_train, y_train = X_filtered.iloc[train_outer_ix], y.iloc[train_outer_ix]\n",
    "    X_test, y_test = X_filtered.iloc[test_outer_ix], y.iloc[test_outer_ix]\n",
    "    \n",
    "    model = xgb.XGBClassifier(n_estimators=200, learning_rate=0.01, max_depth=8, \n",
    "                              random_state=7, use_label_encoder=False, eval_metric=\"logloss\")\n",
    "    model.fit(X_train, y_train, verbose=10)\n",
    "    \n",
    "    #test\n",
    "    yhat_probs = model.predict_proba(X_test)[:, 1]\n",
    "    \n",
    "    #auc\n",
    "    try:\n",
    "        auc = roc_auc_score(y_test, yhat_probs)\n",
    "        r_auc_scores.append(auc)\n",
    "    except ValueError:\n",
    "        print(\"Skipping AUC calculation for this fold due to single class in y_true.\")\n",
    "        r_auc_scores.append(float('nan')) \n",
    "    \n",
    "    models.append(model)"
   ]
  },
  {
   "cell_type": "code",
   "execution_count": 38,
   "metadata": {},
   "outputs": [
    {
     "name": "stdout",
     "output_type": "stream",
     "text": [
      "Mean AUC using Repeated Kfold after feature selection: 0.9365079365079364\n"
     ]
    }
   ],
   "source": [
    "mean_auc = np.nanmean(r_auc_scores)\n",
    "print(\"Mean AUC using Repeated Kfold after feature selection:\", mean_auc)"
   ]
  },
  {
   "cell_type": "code",
   "execution_count": 39,
   "metadata": {},
   "outputs": [],
   "source": [
    "cv = LeaveOneOut()\n",
    "\n",
    "models = []\n",
    "all_y_test = []\n",
    "all_yhat_probs = []\n",
    "\n",
    "for train_ix, test_ix in cv.split(X_filtered):\n",
    "    X_train, y_train = X_filtered.iloc[train_ix], y.iloc[train_ix]\n",
    "    X_test, y_test = X_filtered.iloc[test_ix], y.iloc[test_ix]\n",
    "\n",
    "    model = xgb.XGBClassifier(n_estimators=200, learning_rate=0.01, max_depth=8, \n",
    "                              random_state=7, use_label_encoder=False, eval_metric=\"logloss\")\n",
    "    model.fit(X_train, y_train, verbose=10)\n",
    "\n",
    "    yhat_probs = model.predict_proba(X_test)[:, 1]\n",
    "    \n",
    "    all_y_test.extend(y_test)\n",
    "    all_yhat_probs.extend(yhat_probs)\n",
    "        \n",
    "    models.append(model)"
   ]
  },
  {
   "cell_type": "code",
   "execution_count": 40,
   "metadata": {},
   "outputs": [
    {
     "name": "stdout",
     "output_type": "stream",
     "text": [
      "AUC Score across all LOO iterations: 0.9167\n"
     ]
    }
   ],
   "source": [
    "auc = roc_auc_score(all_y_test, all_yhat_probs)\n",
    "print(f\"AUC Score across all LOO iterations: {auc:.4f}\")"
   ]
  },
  {
   "cell_type": "markdown",
   "metadata": {},
   "source": [
    "### SVM"
   ]
  },
  {
   "cell_type": "code",
   "execution_count": 41,
   "metadata": {},
   "outputs": [
    {
     "name": "stdout",
     "output_type": "stream",
     "text": [
      "Skipping AUC calculation for this fold due to single class in y_true.\n",
      "Skipping AUC calculation for this fold due to single class in y_true.\n",
      "Skipping AUC calculation for this fold due to single class in y_true.\n",
      "Skipping AUC calculation for this fold due to single class in y_true.\n"
     ]
    }
   ],
   "source": [
    "from sklearn.svm import SVC\n",
    "\n",
    "rkf = RepeatedKFold(n_splits=5, n_repeats=5, random_state=42)\n",
    "\n",
    "models = []\n",
    "r_auc_scores = []\n",
    "\n",
    "for i, (train_outer_ix, test_outer_ix) in enumerate(rkf.split(X_filtered)): \n",
    "    X_train, y_train = X_filtered.iloc[train_outer_ix], y.iloc[train_outer_ix]\n",
    "    X_test, y_test = X_filtered.iloc[test_outer_ix], y.iloc[test_outer_ix]\n",
    "    \n",
    "    model = SVC(probability=True, kernel='linear', random_state=7)\n",
    "    model.fit(X_train, y_train)\n",
    "    \n",
    "    #test\n",
    "    yhat_probs = model.predict_proba(X_test)[:, 1]\n",
    "    \n",
    "    #auc\n",
    "    try:\n",
    "        auc = roc_auc_score(y_test, yhat_probs)\n",
    "        r_auc_scores.append(auc)\n",
    "    except ValueError:\n",
    "        print(\"Skipping AUC calculation for this fold due to single class in y_true.\")\n",
    "        r_auc_scores.append(float('nan')) \n",
    "    \n",
    "    models.append(model)"
   ]
  },
  {
   "cell_type": "code",
   "execution_count": 42,
   "metadata": {},
   "outputs": [
    {
     "name": "stdout",
     "output_type": "stream",
     "text": [
      "Mean AUC using Repeated Kfold after feature selection: 0.9484126984126983\n"
     ]
    }
   ],
   "source": [
    "mean_auc = np.nanmean(r_auc_scores)\n",
    "print(\"Mean AUC using Repeated Kfold after feature selection:\", mean_auc)"
   ]
  },
  {
   "cell_type": "code",
   "execution_count": 43,
   "metadata": {},
   "outputs": [],
   "source": [
    "cv = LeaveOneOut()\n",
    "\n",
    "models = []\n",
    "all_y_test = []\n",
    "all_yhat_probs = []\n",
    "\n",
    "for train_ix, test_ix in cv.split(X_filtered):\n",
    "    X_train, y_train = X_filtered.iloc[train_ix], y.iloc[train_ix]\n",
    "    X_test, y_test = X_filtered.iloc[test_ix], y.iloc[test_ix]\n",
    "\n",
    "    model = SVC(probability=True, kernel='sigmoid', random_state=7)\n",
    "    model.fit(X_train, y_train)\n",
    "    \n",
    "    yhat_probs = model.predict_proba(X_test)[:, 1]\n",
    "    \n",
    "    all_y_test.extend(y_test)\n",
    "    all_yhat_probs.extend(yhat_probs)\n",
    "        \n",
    "    models.append(model)\n"
   ]
  },
  {
   "cell_type": "code",
   "execution_count": 44,
   "metadata": {},
   "outputs": [
    {
     "name": "stdout",
     "output_type": "stream",
     "text": [
      "AUC Score across all LOO iterations: 0.9271\n"
     ]
    }
   ],
   "source": [
    "auc = roc_auc_score(all_y_test, all_yhat_probs)\n",
    "print(f\"AUC Score across all LOO iterations: {auc:.4f}\")"
   ]
  },
  {
   "cell_type": "markdown",
   "metadata": {},
   "source": [
    "### LR"
   ]
  },
  {
   "cell_type": "code",
   "execution_count": 45,
   "metadata": {},
   "outputs": [
    {
     "name": "stdout",
     "output_type": "stream",
     "text": [
      "Skipping AUC calculation for this fold due to single class in y_true.\n",
      "Skipping AUC calculation for this fold due to single class in y_true.\n",
      "Skipping AUC calculation for this fold due to single class in y_true.\n",
      "Skipping AUC calculation for this fold due to single class in y_true.\n"
     ]
    }
   ],
   "source": [
    "from sklearn.linear_model import LogisticRegression\n",
    "\n",
    "rkf = RepeatedKFold(n_splits=5, n_repeats=5, random_state=42)\n",
    "\n",
    "models = []\n",
    "r_auc_scores = []\n",
    "\n",
    "for i, (train_outer_ix, test_outer_ix) in enumerate(rkf.split(X_filtered)): \n",
    "    X_train, y_train = X_filtered.iloc[train_outer_ix], y.iloc[train_outer_ix]\n",
    "    X_test, y_test = X_filtered.iloc[test_outer_ix], y.iloc[test_outer_ix]\n",
    "    \n",
    "    model = LogisticRegression(random_state=7, max_iter=200)\n",
    "    model.fit(X_train, y_train)\n",
    "    \n",
    "    #test\n",
    "    yhat_probs = model.predict_proba(X_test)[:, 1]\n",
    "    \n",
    "    #auc\n",
    "    try:\n",
    "        auc = roc_auc_score(y_test, yhat_probs)\n",
    "        r_auc_scores.append(auc)\n",
    "    except ValueError:\n",
    "        print(\"Skipping AUC calculation for this fold due to single class in y_true.\")\n",
    "        r_auc_scores.append(float('nan')) \n",
    "    \n",
    "    models.append(model)"
   ]
  },
  {
   "cell_type": "code",
   "execution_count": 46,
   "metadata": {},
   "outputs": [
    {
     "name": "stdout",
     "output_type": "stream",
     "text": [
      "Mean AUC using Repeated Kfold after feature selection: 0.9365079365079364\n"
     ]
    }
   ],
   "source": [
    "mean_auc = np.nanmean(r_auc_scores)\n",
    "print(\"Mean AUC using Repeated Kfold after feature selection:\", mean_auc)"
   ]
  },
  {
   "cell_type": "code",
   "execution_count": 47,
   "metadata": {},
   "outputs": [],
   "source": [
    "cv = LeaveOneOut()\n",
    "\n",
    "models = []\n",
    "all_y_test = []\n",
    "all_yhat_probs = []\n",
    "\n",
    "for train_ix, test_ix in cv.split(X_filtered):\n",
    "    X_train, y_train = X_filtered.iloc[train_ix], y.iloc[train_ix]\n",
    "    X_test, y_test = X_filtered.iloc[test_ix], y.iloc[test_ix]\n",
    "\n",
    "    model = LogisticRegression(random_state=7, max_iter=200)\n",
    "    model.fit(X_train, y_train)\n",
    "    \n",
    "    yhat_probs = model.predict_proba(X_test)[:, 1]\n",
    "    \n",
    "    all_y_test.extend(y_test)\n",
    "    all_yhat_probs.extend(yhat_probs)\n",
    "        \n",
    "    models.append(model)\n"
   ]
  },
  {
   "cell_type": "code",
   "execution_count": 48,
   "metadata": {},
   "outputs": [
    {
     "name": "stdout",
     "output_type": "stream",
     "text": [
      "AUC Score across all LOO iterations: 0.9271\n"
     ]
    }
   ],
   "source": [
    "auc = roc_auc_score(all_y_test, all_yhat_probs)\n",
    "print(f\"AUC Score across all LOO iterations: {auc:.4f}\")"
   ]
  },
  {
   "cell_type": "markdown",
   "metadata": {},
   "source": [
    "### GNB"
   ]
  },
  {
   "cell_type": "code",
   "execution_count": 49,
   "metadata": {},
   "outputs": [
    {
     "name": "stdout",
     "output_type": "stream",
     "text": [
      "Skipping AUC calculation for this fold due to single class in y_true.\n",
      "Skipping AUC calculation for this fold due to single class in y_true.\n",
      "Skipping AUC calculation for this fold due to single class in y_true.\n",
      "Skipping AUC calculation for this fold due to single class in y_true.\n"
     ]
    }
   ],
   "source": [
    "from sklearn.naive_bayes import GaussianNB\n",
    "\n",
    "rkf = RepeatedKFold(n_splits=5, n_repeats=5, random_state=42)\n",
    "\n",
    "models = []\n",
    "r_auc_scores = []\n",
    "\n",
    "for i, (train_outer_ix, test_outer_ix) in enumerate(rkf.split(X_filtered)): \n",
    "    X_train, y_train = X_filtered.iloc[train_outer_ix], y.iloc[train_outer_ix]\n",
    "    X_test, y_test = X_filtered.iloc[test_outer_ix], y.iloc[test_outer_ix]\n",
    "    \n",
    "    model = GaussianNB()\n",
    "    model.fit(X_train, y_train)\n",
    "    \n",
    "    #test\n",
    "    yhat_probs = model.predict_proba(X_test)[:, 1]\n",
    "    \n",
    "    #auc\n",
    "    try:\n",
    "        auc = roc_auc_score(y_test, yhat_probs)\n",
    "        r_auc_scores.append(auc)\n",
    "    except ValueError:\n",
    "        print(\"Skipping AUC calculation for this fold due to single class in y_true.\")\n",
    "        r_auc_scores.append(float('nan')) \n",
    "    \n",
    "    models.append(model)"
   ]
  },
  {
   "cell_type": "code",
   "execution_count": 50,
   "metadata": {},
   "outputs": [
    {
     "name": "stdout",
     "output_type": "stream",
     "text": [
      "Mean AUC using Repeated Kfold after feature selection: 0.9722222222222221\n"
     ]
    }
   ],
   "source": [
    "mean_auc = np.nanmean(r_auc_scores)\n",
    "print(\"Mean AUC using Repeated Kfold after feature selection:\", mean_auc)"
   ]
  },
  {
   "cell_type": "code",
   "execution_count": 51,
   "metadata": {},
   "outputs": [],
   "source": [
    "cv = LeaveOneOut()\n",
    "\n",
    "models = []\n",
    "all_y_test = []\n",
    "all_yhat_probs = []\n",
    "\n",
    "for train_ix, test_ix in cv.split(X_filtered):\n",
    "    X_train, y_train = X_filtered.iloc[train_ix], y.iloc[train_ix]\n",
    "    X_test, y_test = X_filtered.iloc[test_ix], y.iloc[test_ix]\n",
    "\n",
    "    model = GaussianNB()\n",
    "    model.fit(X_train, y_train)\n",
    "    \n",
    "    yhat_probs = model.predict_proba(X_test)[:, 1]\n",
    "    \n",
    "    all_y_test.extend(y_test)\n",
    "    all_yhat_probs.extend(yhat_probs)\n",
    "        \n",
    "    models.append(model)\n"
   ]
  },
  {
   "cell_type": "code",
   "execution_count": 52,
   "metadata": {},
   "outputs": [
    {
     "name": "stdout",
     "output_type": "stream",
     "text": [
      "AUC Score across all LOO iterations: 0.9167\n"
     ]
    }
   ],
   "source": [
    "auc = roc_auc_score(all_y_test, all_yhat_probs)\n",
    "print(f\"AUC Score across all LOO iterations: {auc:.4f}\")"
   ]
  },
  {
   "cell_type": "code",
   "execution_count": null,
   "metadata": {},
   "outputs": [],
   "source": []
  },
  {
   "cell_type": "code",
   "execution_count": null,
   "metadata": {},
   "outputs": [],
   "source": []
  },
  {
   "cell_type": "markdown",
   "metadata": {},
   "source": [
    "## Activities + Heart Rate + Naps"
   ]
  },
  {
   "cell_type": "code",
   "execution_count": 53,
   "metadata": {},
   "outputs": [],
   "source": [
    "naps = sleep[sleep['classification']=='Nap']\n",
    "naps = naps.drop(['startTime', 'endTime', 'duration', 'isMainSleep', 'classification', 'gender', 'race'], axis=1) \n",
    "naps = naps.dropna(axis = 1)"
   ]
  },
  {
   "cell_type": "code",
   "execution_count": 54,
   "metadata": {},
   "outputs": [],
   "source": [
    "common_features = ['label', 'User', 'age', 'Date']\n",
    "df = pd.merge(activity, naps, on=common_features, how='inner')"
   ]
  },
  {
   "cell_type": "code",
   "execution_count": 55,
   "metadata": {},
   "outputs": [],
   "source": [
    "unique_df = df[['User', 'label']].drop_duplicates()\n",
    "unique_df.set_index('User', inplace=True)"
   ]
  },
  {
   "cell_type": "code",
   "execution_count": 56,
   "metadata": {},
   "outputs": [],
   "source": [
    "df = df.drop(['label', 'Date'], axis = 1)"
   ]
  },
  {
   "cell_type": "markdown",
   "metadata": {},
   "source": [
    "## Featuretools"
   ]
  },
  {
   "cell_type": "code",
   "execution_count": 57,
   "metadata": {},
   "outputs": [
    {
     "data": {
      "text/plain": [
       "Entityset: data_activities_nap\n",
       "  DataFrames:\n",
       "    AHN [Rows: 171, Columns: 52]\n",
       "  Relationships:\n",
       "    No relationships"
      ]
     },
     "execution_count": 57,
     "metadata": {},
     "output_type": "execute_result"
    }
   ],
   "source": [
    "es = ft.EntitySet(id = 'data_activities_nap')\n",
    "es.add_dataframe(dataframe_name = 'AHN', dataframe = df, make_index = True, index = 'ahn_index')"
   ]
  },
  {
   "cell_type": "code",
   "execution_count": 58,
   "metadata": {},
   "outputs": [
    {
     "data": {
      "text/plain": [
       "Entityset: data_activities_nap\n",
       "  DataFrames:\n",
       "    AHN [Rows: 171, Columns: 51]\n",
       "    person [Rows: 15, Columns: 2]\n",
       "  Relationships:\n",
       "    AHN.User -> person.User"
      ]
     },
     "execution_count": 58,
     "metadata": {},
     "output_type": "execute_result"
    }
   ],
   "source": [
    "es.normalize_dataframe(base_dataframe_name='AHN', new_dataframe_name='person', index = 'User', \n",
    "            additional_columns = ['age'])"
   ]
  },
  {
   "cell_type": "code",
   "execution_count": 59,
   "metadata": {},
   "outputs": [
    {
     "name": "stdout",
     "output_type": "stream",
     "text": [
      "Built 296 features\n",
      "Elapsed: 00:00 | Progress: 100%|████████████████████████████████████████████████\n"
     ]
    }
   ],
   "source": [
    "feature_matrix, feature_names = ft.dfs(entityset=es, \n",
    "target_dataframe_name = 'person', \n",
    "max_depth = 2, \n",
    "verbose = 1 \n",
    ")"
   ]
  },
  {
   "cell_type": "markdown",
   "metadata": {},
   "source": [
    "## Feature Selection"
   ]
  },
  {
   "cell_type": "code",
   "execution_count": 60,
   "metadata": {},
   "outputs": [],
   "source": [
    "y = unique_df['label']\n",
    "X = feature_matrix"
   ]
  },
  {
   "cell_type": "code",
   "execution_count": 61,
   "metadata": {},
   "outputs": [
    {
     "name": "stdout",
     "output_type": "stream",
     "text": [
      "Skipping AUC calculation for this fold due to single class in y_true.\n",
      "Skipping AUC calculation for this fold due to single class in y_true.\n"
     ]
    }
   ],
   "source": [
    "alpha = 0.02\n",
    "kf = KFold(n_splits=5, shuffle=True, random_state=40) \n",
    "\n",
    "ix_training, ix_test = [], []\n",
    "\n",
    "for fold in kf.split(X):\n",
    "    ix_training.append(fold[0]), ix_test.append(fold[1])\n",
    "\n",
    "models = []\n",
    "auc_scores = []\n",
    "feature_occurrences = {} \n",
    "\n",
    "for i, (train_outer_ix, test_outer_ix) in enumerate(zip(ix_training, ix_test)): \n",
    "    X_train, y_train = X.iloc[train_outer_ix], y.iloc[train_outer_ix]\n",
    "    X_test, y_test = X.iloc[test_outer_ix], y.iloc[test_outer_ix]\n",
    "    \n",
    "    #model\n",
    "    model = CatBoostClassifier(iterations=200, learning_rate=0.01, depth=10, l2_leaf_reg=3, random_seed=7, \n",
    "                               loss_function='Logloss')\n",
    "    model.fit(X_train, y_train, cat_features = [], verbose = 0)\n",
    "\n",
    "    #SHAP in training\n",
    "    explainer = shap.TreeExplainer(model)\n",
    "    shap_values = explainer.shap_values(X_train) \n",
    "    shap_importance = np.mean(np.abs(np.array(shap_values)), axis = 0)\n",
    "    important_features = np.array(X_train.columns)[shap_importance > alpha]\n",
    "\n",
    "    #count\n",
    "    for feature in important_features:\n",
    "        if feature in feature_occurrences:\n",
    "            feature_occurrences[feature] += 1\n",
    "        else:\n",
    "            feature_occurrences[feature] = 1\n",
    "\n",
    "    #test with selected features\n",
    "    X_train_selected = X_train[important_features]\n",
    "    X_test_selected = X_test[important_features]\n",
    "\n",
    "    model.fit(X_train_selected, y_train, cat_features = [], verbose = 0)\n",
    "    \n",
    "    yhat_probs = model.predict_proba(X_test_selected)[:, 1]\n",
    "    \n",
    "    try:\n",
    "        auc = roc_auc_score(y_test, yhat_probs)\n",
    "        auc_scores.append(auc)\n",
    "    except ValueError:\n",
    "        print(\"Skipping AUC calculation for this fold due to single class in y_true.\")\n",
    "        auc_scores.append(float('nan'))\n",
    "        \n",
    "    models.append(model)\n"
   ]
  },
  {
   "cell_type": "code",
   "execution_count": 62,
   "metadata": {},
   "outputs": [
    {
     "name": "stdout",
     "output_type": "stream",
     "text": [
      "The mean AUC of the 5 folds is  0.8333333333333334\n",
      "The std AUC of the 5 folds is  0.23570226039551584\n"
     ]
    }
   ],
   "source": [
    "print('The mean AUC of the 5 folds is ', np.nanmean(auc_scores))\n",
    "print('The std AUC of the 5 folds is ', np.nanstd(auc_scores))"
   ]
  },
  {
   "cell_type": "code",
   "execution_count": 63,
   "metadata": {},
   "outputs": [],
   "source": [
    "final_selected_features = [feature for feature, count in feature_occurrences.items() if count >= 2]"
   ]
  },
  {
   "cell_type": "code",
   "execution_count": 64,
   "metadata": {},
   "outputs": [
    {
     "name": "stdout",
     "output_type": "stream",
     "text": [
      "(15, 13)\n",
      "(15,)\n"
     ]
    }
   ],
   "source": [
    "X_filtered = X[final_selected_features]\n",
    "print(X_filtered.shape)\n",
    "print(y.shape)"
   ]
  },
  {
   "cell_type": "code",
   "execution_count": 65,
   "metadata": {},
   "outputs": [
    {
     "data": {
      "text/plain": [
       "Index(['MAX(AHN.activityCalories)', 'SKEW(AHN.activity_lightlyActive)',\n",
       "       'SKEW(AHN.activity_tracker)', 'SKEW(AHN.heartRateZone_Cardio_minutes)',\n",
       "       'SKEW(AHN.lightlyActiveMinutes)', 'SKEW(AHN.marginalCalories)',\n",
       "       'SKEW(AHN.steps)', 'SKEW(AHN.timeInBed)', 'SKEW(AHN.total)',\n",
       "       'SKEW(AHN.veryActiveMinutes)', 'STD(AHN.activity_lightlyActive)',\n",
       "       'SKEW(AHN.activityCalories)', 'SKEW(AHN.fairlyActiveMinutes)'],\n",
       "      dtype='object')"
      ]
     },
     "execution_count": 65,
     "metadata": {},
     "output_type": "execute_result"
    }
   ],
   "source": [
    "X_filtered.columns"
   ]
  },
  {
   "cell_type": "code",
   "execution_count": 66,
   "metadata": {},
   "outputs": [],
   "source": [
    "from sklearn.preprocessing import StandardScaler\n",
    "scaler_z = StandardScaler()\n",
    "original_index = X_filtered.index\n",
    "scaled_data = scaler_z.fit_transform(X_filtered)\n",
    "X_filtered = pd.DataFrame(scaled_data, index=original_index, columns=X_filtered.columns)"
   ]
  },
  {
   "cell_type": "code",
   "execution_count": 67,
   "metadata": {},
   "outputs": [],
   "source": [
    "from sklearn.impute import KNNImputer\n",
    "original_index = X_filtered.index\n",
    "imputer = KNNImputer(n_neighbors=4)\n",
    "X_imputed = imputer.fit_transform(X_filtered)\n",
    "X_filtered = pd.DataFrame(X_imputed, index=original_index, columns=X_filtered.columns)"
   ]
  },
  {
   "cell_type": "markdown",
   "metadata": {},
   "source": [
    "## Evaluation"
   ]
  },
  {
   "cell_type": "markdown",
   "metadata": {},
   "source": [
    "### CatBoost Repeated K fold"
   ]
  },
  {
   "cell_type": "code",
   "execution_count": 68,
   "metadata": {},
   "outputs": [
    {
     "name": "stdout",
     "output_type": "stream",
     "text": [
      "Skipping AUC calculation for this fold due to single class in y_true.\n",
      "Skipping AUC calculation for this fold due to single class in y_true.\n",
      "Skipping AUC calculation for this fold due to single class in y_true.\n",
      "Skipping AUC calculation for this fold due to single class in y_true.\n",
      "Skipping AUC calculation for this fold due to single class in y_true.\n",
      "Skipping AUC calculation for this fold due to single class in y_true.\n",
      "Skipping AUC calculation for this fold due to single class in y_true.\n"
     ]
    }
   ],
   "source": [
    "rkf = RepeatedKFold(n_splits=5, n_repeats=5, random_state=42)\n",
    "\n",
    "models = []\n",
    "r_auc_scores = []\n",
    "all_shap_values = []\n",
    "all_X_tests = []\n",
    "\n",
    "tprs = []\n",
    "mean_fpr = np.linspace(0,1,100)\n",
    "\n",
    "for i, (train_outer_ix, test_outer_ix) in enumerate(rkf.split(X_filtered)): \n",
    "    X_train, y_train = X_filtered.iloc[train_outer_ix], y.iloc[train_outer_ix]\n",
    "    X_test, y_test = X_filtered.iloc[test_outer_ix], y.iloc[test_outer_ix]\n",
    "    \n",
    "    model = CatBoostClassifier(iterations=200, learning_rate=0.01, depth=8, l2_leaf_reg=3, random_seed=7, \n",
    "                               loss_function='Logloss')\n",
    "    model.fit(X_train, y_train, cat_features=[], verbose=0)\n",
    "    \n",
    "    #test\n",
    "    yhat_probs = model.predict_proba(X_test)[:, 1]\n",
    "    \n",
    "    #auc\n",
    "    try:\n",
    "        auc = roc_auc_score(y_test, yhat_probs)\n",
    "        r_auc_scores.append(auc)\n",
    "    except ValueError:\n",
    "        print(\"Skipping AUC calculation for this fold due to single class in y_true.\")\n",
    "        r_auc_scores.append(float('nan')) \n",
    "\n",
    "    #ROC\n",
    "    if len(np.unique(y_test)) > 1: \n",
    "        fpr, tpr, t = roc_curve(y_test, yhat_probs)\n",
    "        tprs.append(np.interp(mean_fpr, fpr, tpr))\n",
    "    else:\n",
    "        continue\n",
    "    \n",
    "    #compute SHAP values for the current test set\n",
    "    explainer = shap.Explainer(model)\n",
    "    shap_values = explainer.shap_values(X_test)\n",
    "    all_shap_values.append(shap_values)\n",
    "    all_X_tests.append(X_test)\n",
    "    \n",
    "    models.append(model)"
   ]
  },
  {
   "cell_type": "code",
   "execution_count": 69,
   "metadata": {},
   "outputs": [
    {
     "name": "stdout",
     "output_type": "stream",
     "text": [
      "Mean AUC using Kfold after feature selection: 0.9444444444444444\n"
     ]
    }
   ],
   "source": [
    "mean_auc = np.nanmean(r_auc_scores)\n",
    "print(\"Mean AUC using Kfold after feature selection:\", mean_auc)"
   ]
  },
  {
   "cell_type": "markdown",
   "metadata": {},
   "source": [
    "#### LOOCV"
   ]
  },
  {
   "cell_type": "code",
   "execution_count": 70,
   "metadata": {},
   "outputs": [],
   "source": [
    "cv = LeaveOneOut()\n",
    "\n",
    "models = []\n",
    "all_y_test = []\n",
    "all_yhat_probs = []\n",
    "all_results = []\n",
    "\n",
    "for train_ix, test_ix in cv.split(X_filtered):\n",
    "    X_train, y_train = X_filtered.iloc[train_ix], y.iloc[train_ix]\n",
    "    X_test, y_test = X_filtered.iloc[test_ix], y.iloc[test_ix]\n",
    "    \n",
    "    userids_test = X_filtered.iloc[test_ix].index.values\n",
    "\n",
    "    model = CatBoostClassifier(iterations=200, learning_rate=0.01, depth=8, l2_leaf_reg=3, random_seed=7, \n",
    "                               loss_function='Logloss')\n",
    "    model.fit(X_train, y_train, cat_features = [], verbose = 0)\n",
    "\n",
    "    yhat_probs = model.predict_proba(X_test)[:, 1]\n",
    "    \n",
    "    all_y_test.extend(y_test)\n",
    "    all_yhat_probs.extend(yhat_probs)\n",
    "        \n",
    "    models.append(model)"
   ]
  },
  {
   "cell_type": "code",
   "execution_count": 71,
   "metadata": {},
   "outputs": [
    {
     "name": "stdout",
     "output_type": "stream",
     "text": [
      "AUC Score across all LOO iterations: 0.8864\n"
     ]
    }
   ],
   "source": [
    "auc = roc_auc_score(all_y_test, all_yhat_probs)\n",
    "print(f\"AUC Score across all LOO iterations: {auc:.4f}\")"
   ]
  },
  {
   "cell_type": "markdown",
   "metadata": {},
   "source": [
    "### XGBoost"
   ]
  },
  {
   "cell_type": "code",
   "execution_count": 72,
   "metadata": {},
   "outputs": [
    {
     "name": "stdout",
     "output_type": "stream",
     "text": [
      "Skipping AUC calculation for this fold due to single class in y_true.\n",
      "Skipping AUC calculation for this fold due to single class in y_true.\n",
      "Skipping AUC calculation for this fold due to single class in y_true.\n",
      "Skipping AUC calculation for this fold due to single class in y_true.\n",
      "Skipping AUC calculation for this fold due to single class in y_true.\n",
      "Skipping AUC calculation for this fold due to single class in y_true.\n",
      "Skipping AUC calculation for this fold due to single class in y_true.\n"
     ]
    }
   ],
   "source": [
    "import xgboost as xgb\n",
    "rkf = RepeatedKFold(n_splits=5, n_repeats=5, random_state=42)\n",
    "\n",
    "models = []\n",
    "r_auc_scores = []\n",
    "\n",
    "for i, (train_outer_ix, test_outer_ix) in enumerate(rkf.split(X_filtered)): \n",
    "    X_train, y_train = X_filtered.iloc[train_outer_ix], y.iloc[train_outer_ix]\n",
    "    X_test, y_test = X_filtered.iloc[test_outer_ix], y.iloc[test_outer_ix]\n",
    "    \n",
    "    model = xgb.XGBClassifier(n_estimators=200, learning_rate=0.01, max_depth=8, \n",
    "                              random_state=7, use_label_encoder=False, eval_metric=\"logloss\")\n",
    "    model.fit(X_train, y_train, verbose=0)\n",
    "    \n",
    "    #test\n",
    "    yhat_probs = model.predict_proba(X_test)[:, 1]\n",
    "    \n",
    "    #auc\n",
    "    try:\n",
    "        auc = roc_auc_score(y_test, yhat_probs)\n",
    "        r_auc_scores.append(auc)\n",
    "    except ValueError:\n",
    "        print(\"Skipping AUC calculation for this fold due to single class in y_true.\")\n",
    "        r_auc_scores.append(float('nan')) \n",
    "    \n",
    "    models.append(model)"
   ]
  },
  {
   "cell_type": "code",
   "execution_count": 73,
   "metadata": {},
   "outputs": [
    {
     "name": "stdout",
     "output_type": "stream",
     "text": [
      "Mean AUC using Repeated Kfold after feature selection: 0.9027777777777778\n"
     ]
    }
   ],
   "source": [
    "mean_auc = np.nanmean(r_auc_scores)\n",
    "print(\"Mean AUC using Repeated Kfold after feature selection:\", mean_auc)"
   ]
  },
  {
   "cell_type": "code",
   "execution_count": 74,
   "metadata": {},
   "outputs": [],
   "source": [
    "cv = LeaveOneOut()\n",
    "\n",
    "models = []\n",
    "all_y_test = []\n",
    "all_yhat_probs = []\n",
    "\n",
    "for train_ix, test_ix in cv.split(X_filtered):\n",
    "    X_train, y_train = X_filtered.iloc[train_ix], y.iloc[train_ix]\n",
    "    X_test, y_test = X_filtered.iloc[test_ix], y.iloc[test_ix]\n",
    "\n",
    "    model = xgb.XGBClassifier(n_estimators=100, learning_rate=0.01, max_depth=8, \n",
    "                              random_state=7, use_label_encoder=False, eval_metric=\"logloss\")\n",
    "    model.fit(X_train, y_train, verbose=0)\n",
    "\n",
    "    yhat_probs = model.predict_proba(X_test)[:, 1]\n",
    "    \n",
    "    all_y_test.extend(y_test)\n",
    "    all_yhat_probs.extend(yhat_probs)\n",
    "        \n",
    "    models.append(model)"
   ]
  },
  {
   "cell_type": "code",
   "execution_count": 75,
   "metadata": {},
   "outputs": [
    {
     "name": "stdout",
     "output_type": "stream",
     "text": [
      "AUC Score across all LOO iterations: 0.9091\n"
     ]
    }
   ],
   "source": [
    "auc = roc_auc_score(all_y_test, all_yhat_probs)\n",
    "print(f\"AUC Score across all LOO iterations: {auc:.4f}\")"
   ]
  },
  {
   "cell_type": "code",
   "execution_count": null,
   "metadata": {},
   "outputs": [],
   "source": []
  },
  {
   "cell_type": "markdown",
   "metadata": {},
   "source": [
    "### RF"
   ]
  },
  {
   "cell_type": "code",
   "execution_count": 76,
   "metadata": {},
   "outputs": [
    {
     "name": "stdout",
     "output_type": "stream",
     "text": [
      "Skipping AUC calculation for this fold due to single class in y_true.\n",
      "Skipping AUC calculation for this fold due to single class in y_true.\n",
      "Skipping AUC calculation for this fold due to single class in y_true.\n",
      "Skipping AUC calculation for this fold due to single class in y_true.\n",
      "Skipping AUC calculation for this fold due to single class in y_true.\n",
      "Skipping AUC calculation for this fold due to single class in y_true.\n",
      "Skipping AUC calculation for this fold due to single class in y_true.\n"
     ]
    }
   ],
   "source": [
    "from sklearn.ensemble import RandomForestClassifier\n",
    "\n",
    "rkf = RepeatedKFold(n_splits=5, n_repeats=5, random_state=42)\n",
    "\n",
    "models = []\n",
    "r_auc_scores = []\n",
    "\n",
    "for i, (train_outer_ix, test_outer_ix) in enumerate(rkf.split(X_filtered)): \n",
    "    X_train, y_train = X_filtered.iloc[train_outer_ix], y.iloc[train_outer_ix]\n",
    "    X_test, y_test = X_filtered.iloc[test_outer_ix], y.iloc[test_outer_ix]\n",
    "    \n",
    "    model = RandomForestClassifier(n_estimators=100, max_depth=8, random_state=7)\n",
    "    model.fit(X_train, y_train)\n",
    "    \n",
    "    #test\n",
    "    yhat_probs = model.predict_proba(X_test)[:, 1]\n",
    "    \n",
    "    #auc\n",
    "    try:\n",
    "        auc = roc_auc_score(y_test, yhat_probs)\n",
    "        r_auc_scores.append(auc)\n",
    "    except ValueError:\n",
    "        print(\"Skipping AUC calculation for this fold due to single class in y_true.\")\n",
    "        r_auc_scores.append(float('nan')) \n",
    "    \n",
    "    models.append(model)"
   ]
  },
  {
   "cell_type": "code",
   "execution_count": 77,
   "metadata": {},
   "outputs": [
    {
     "name": "stdout",
     "output_type": "stream",
     "text": [
      "Mean AUC using Repeated Kfold after feature selection: 0.9166666666666666\n"
     ]
    }
   ],
   "source": [
    "mean_auc = np.nanmean(r_auc_scores)\n",
    "print(\"Mean AUC using Repeated Kfold after feature selection:\", mean_auc)"
   ]
  },
  {
   "cell_type": "code",
   "execution_count": 78,
   "metadata": {},
   "outputs": [],
   "source": [
    "cv = LeaveOneOut()\n",
    "\n",
    "models = []\n",
    "all_y_test = []\n",
    "all_yhat_probs = []\n",
    "\n",
    "for train_ix, test_ix in cv.split(X_filtered):\n",
    "    X_train, y_train = X_filtered.iloc[train_ix], y.iloc[train_ix]\n",
    "    X_test, y_test = X_filtered.iloc[test_ix], y.iloc[test_ix]\n",
    "\n",
    "    model = RandomForestClassifier(n_estimators=200, max_depth=8, random_state=7)\n",
    "    model.fit(X_train, y_train)\n",
    "\n",
    "    yhat_probs = model.predict_proba(X_test)[:, 1]\n",
    "    \n",
    "    all_y_test.extend(y_test)\n",
    "    all_yhat_probs.extend(yhat_probs)\n",
    "        \n",
    "    models.append(model)\n"
   ]
  },
  {
   "cell_type": "code",
   "execution_count": 79,
   "metadata": {},
   "outputs": [
    {
     "name": "stdout",
     "output_type": "stream",
     "text": [
      "AUC Score across all LOO iterations: 0.8636\n"
     ]
    }
   ],
   "source": [
    "auc = roc_auc_score(all_y_test, all_yhat_probs)\n",
    "print(f\"AUC Score across all LOO iterations: {auc:.4f}\")"
   ]
  },
  {
   "cell_type": "markdown",
   "metadata": {},
   "source": [
    "### SVM"
   ]
  },
  {
   "cell_type": "code",
   "execution_count": 80,
   "metadata": {},
   "outputs": [
    {
     "name": "stdout",
     "output_type": "stream",
     "text": [
      "Skipping AUC calculation for this fold due to single class in y_true.\n",
      "Skipping AUC calculation for this fold due to single class in y_true.\n",
      "Skipping AUC calculation for this fold due to single class in y_true.\n",
      "Skipping AUC calculation for this fold due to single class in y_true.\n",
      "Skipping AUC calculation for this fold due to single class in y_true.\n",
      "Skipping AUC calculation for this fold due to single class in y_true.\n",
      "Skipping AUC calculation for this fold due to single class in y_true.\n"
     ]
    }
   ],
   "source": [
    "from sklearn.svm import SVC\n",
    "\n",
    "rkf = RepeatedKFold(n_splits=5, n_repeats=5, random_state=42)\n",
    "\n",
    "models = []\n",
    "r_auc_scores = []\n",
    "\n",
    "for i, (train_outer_ix, test_outer_ix) in enumerate(rkf.split(X_filtered)): \n",
    "    X_train, y_train = X_filtered.iloc[train_outer_ix], y.iloc[train_outer_ix]\n",
    "    X_test, y_test = X_filtered.iloc[test_outer_ix], y.iloc[test_outer_ix]\n",
    "    \n",
    "    model = SVC(probability=True, kernel='linear', random_state=7)\n",
    "    model.fit(X_train, y_train)\n",
    "    \n",
    "    #test\n",
    "    yhat_probs = model.predict_proba(X_test)[:, 1]\n",
    "    \n",
    "    #auc\n",
    "    try:\n",
    "        auc = roc_auc_score(y_test, yhat_probs)\n",
    "        r_auc_scores.append(auc)\n",
    "    except ValueError:\n",
    "        print(\"Skipping AUC calculation for this fold due to single class in y_true.\")\n",
    "        r_auc_scores.append(float('nan')) \n",
    "    \n",
    "    models.append(model)"
   ]
  },
  {
   "cell_type": "code",
   "execution_count": 81,
   "metadata": {},
   "outputs": [
    {
     "name": "stdout",
     "output_type": "stream",
     "text": [
      "Mean AUC using Repeated Kfold after feature selection: 0.8611111111111112\n"
     ]
    }
   ],
   "source": [
    "mean_auc = np.nanmean(r_auc_scores)\n",
    "print(\"Mean AUC using Repeated Kfold after feature selection:\", mean_auc)"
   ]
  },
  {
   "cell_type": "code",
   "execution_count": 82,
   "metadata": {},
   "outputs": [],
   "source": [
    "cv = LeaveOneOut()\n",
    "\n",
    "models = []\n",
    "all_y_test = []\n",
    "all_yhat_probs = []\n",
    "\n",
    "for train_ix, test_ix in cv.split(X_filtered):\n",
    "    X_train, y_train = X_filtered.iloc[train_ix], y.iloc[train_ix]\n",
    "    X_test, y_test = X_filtered.iloc[test_ix], y.iloc[test_ix]\n",
    "\n",
    "    model = SVC(probability=True, kernel='linear', random_state=7)\n",
    "    model.fit(X_train, y_train)\n",
    "    \n",
    "    yhat_probs = model.predict_proba(X_test)[:, 1]\n",
    "    \n",
    "    all_y_test.extend(y_test)\n",
    "    all_yhat_probs.extend(yhat_probs)\n",
    "        \n",
    "    models.append(model)"
   ]
  },
  {
   "cell_type": "code",
   "execution_count": 83,
   "metadata": {},
   "outputs": [
    {
     "name": "stdout",
     "output_type": "stream",
     "text": [
      "AUC Score across all LOO iterations: 0.8409\n"
     ]
    }
   ],
   "source": [
    "auc = roc_auc_score(all_y_test, all_yhat_probs)\n",
    "print(f\"AUC Score across all LOO iterations: {auc:.4f}\")"
   ]
  },
  {
   "cell_type": "code",
   "execution_count": null,
   "metadata": {},
   "outputs": [],
   "source": []
  },
  {
   "cell_type": "markdown",
   "metadata": {},
   "source": [
    "### LR"
   ]
  },
  {
   "cell_type": "code",
   "execution_count": 84,
   "metadata": {},
   "outputs": [
    {
     "name": "stdout",
     "output_type": "stream",
     "text": [
      "Skipping AUC calculation for this fold due to single class in y_true.\n",
      "Skipping AUC calculation for this fold due to single class in y_true.\n",
      "Skipping AUC calculation for this fold due to single class in y_true.\n",
      "Skipping AUC calculation for this fold due to single class in y_true.\n",
      "Skipping AUC calculation for this fold due to single class in y_true.\n",
      "Skipping AUC calculation for this fold due to single class in y_true.\n",
      "Skipping AUC calculation for this fold due to single class in y_true.\n",
      "Skipping AUC calculation for this fold due to single class in y_true.\n",
      "Skipping AUC calculation for this fold due to single class in y_true.\n",
      "Skipping AUC calculation for this fold due to single class in y_true.\n",
      "Skipping AUC calculation for this fold due to single class in y_true.\n",
      "Skipping AUC calculation for this fold due to single class in y_true.\n"
     ]
    }
   ],
   "source": [
    "from sklearn.linear_model import LogisticRegression\n",
    "\n",
    "rkf = RepeatedKFold(n_splits=5, n_repeats=5, random_state=4)\n",
    "\n",
    "models = []\n",
    "r_auc_scores = []\n",
    "\n",
    "for i, (train_outer_ix, test_outer_ix) in enumerate(rkf.split(X_filtered)): \n",
    "    X_train, y_train = X_filtered.iloc[train_outer_ix], y.iloc[train_outer_ix]\n",
    "    X_test, y_test = X_filtered.iloc[test_outer_ix], y.iloc[test_outer_ix]\n",
    "    \n",
    "    model = LogisticRegression(random_state=8, max_iter=200)\n",
    "    model.fit(X_train, y_train)\n",
    "    \n",
    "    #test\n",
    "    yhat_probs = model.predict_proba(X_test)[:, 1]\n",
    "    \n",
    "    #auc\n",
    "    try:\n",
    "        auc = roc_auc_score(y_test, yhat_probs)\n",
    "        r_auc_scores.append(auc)\n",
    "    except ValueError:\n",
    "        print(\"Skipping AUC calculation for this fold due to single class in y_true.\")\n",
    "        r_auc_scores.append(float('nan')) \n",
    "    \n",
    "    models.append(model)"
   ]
  },
  {
   "cell_type": "code",
   "execution_count": 85,
   "metadata": {},
   "outputs": [
    {
     "name": "stdout",
     "output_type": "stream",
     "text": [
      "Mean AUC using Repeated Kfold after feature selection: 0.9615384615384616\n"
     ]
    }
   ],
   "source": [
    "mean_auc = np.nanmean(r_auc_scores)\n",
    "print(\"Mean AUC using Repeated Kfold after feature selection:\", mean_auc)"
   ]
  },
  {
   "cell_type": "code",
   "execution_count": 86,
   "metadata": {},
   "outputs": [],
   "source": [
    "cv = LeaveOneOut()\n",
    "\n",
    "models = []\n",
    "all_y_test = []\n",
    "all_yhat_probs = []\n",
    "\n",
    "for train_ix, test_ix in cv.split(X_filtered):\n",
    "    X_train, y_train = X_filtered.iloc[train_ix], y.iloc[train_ix]\n",
    "    X_test, y_test = X_filtered.iloc[test_ix], y.iloc[test_ix]\n",
    "\n",
    "    model = LogisticRegression(random_state=8, max_iter=200)\n",
    "    model.fit(X_train, y_train)\n",
    "    \n",
    "    yhat_probs = model.predict_proba(X_test)[:, 1]\n",
    "    \n",
    "    all_y_test.extend(y_test)\n",
    "    all_yhat_probs.extend(yhat_probs)\n",
    "        \n",
    "    models.append(model)"
   ]
  },
  {
   "cell_type": "code",
   "execution_count": 87,
   "metadata": {},
   "outputs": [
    {
     "name": "stdout",
     "output_type": "stream",
     "text": [
      "AUC Score across all LOO iterations: 0.9545\n"
     ]
    }
   ],
   "source": [
    "auc = roc_auc_score(all_y_test, all_yhat_probs)\n",
    "print(f\"AUC Score across all LOO iterations: {auc:.4f}\")"
   ]
  },
  {
   "cell_type": "code",
   "execution_count": null,
   "metadata": {},
   "outputs": [],
   "source": []
  },
  {
   "cell_type": "markdown",
   "metadata": {},
   "source": [
    "### GNB"
   ]
  },
  {
   "cell_type": "code",
   "execution_count": 88,
   "metadata": {},
   "outputs": [
    {
     "name": "stdout",
     "output_type": "stream",
     "text": [
      "Skipping AUC calculation for this fold due to single class in y_true.\n",
      "Skipping AUC calculation for this fold due to single class in y_true.\n",
      "Skipping AUC calculation for this fold due to single class in y_true.\n",
      "Skipping AUC calculation for this fold due to single class in y_true.\n",
      "Skipping AUC calculation for this fold due to single class in y_true.\n",
      "Skipping AUC calculation for this fold due to single class in y_true.\n",
      "Skipping AUC calculation for this fold due to single class in y_true.\n"
     ]
    }
   ],
   "source": [
    "from sklearn.naive_bayes import GaussianNB\n",
    "\n",
    "rkf = RepeatedKFold(n_splits=5, n_repeats=5, random_state=42)\n",
    "\n",
    "models = []\n",
    "r_auc_scores = []\n",
    "\n",
    "for i, (train_outer_ix, test_outer_ix) in enumerate(rkf.split(X_filtered)): \n",
    "    X_train, y_train = X_filtered.iloc[train_outer_ix], y.iloc[train_outer_ix]\n",
    "    X_test, y_test = X_filtered.iloc[test_outer_ix], y.iloc[test_outer_ix]\n",
    "    \n",
    "    model = GaussianNB()\n",
    "    model.fit(X_train, y_train)\n",
    "    \n",
    "    #test\n",
    "    yhat_probs = model.predict_proba(X_test)[:, 1]\n",
    "    \n",
    "    #auc\n",
    "    try:\n",
    "        auc = roc_auc_score(y_test, yhat_probs)\n",
    "        r_auc_scores.append(auc)\n",
    "    except ValueError:\n",
    "        print(\"Skipping AUC calculation for this fold due to single class in y_true.\")\n",
    "        r_auc_scores.append(float('nan')) \n",
    "    \n",
    "    models.append(model)"
   ]
  },
  {
   "cell_type": "code",
   "execution_count": 89,
   "metadata": {},
   "outputs": [
    {
     "name": "stdout",
     "output_type": "stream",
     "text": [
      "Mean AUC using Repeated Kfold after feature selection: 0.7777777777777778\n"
     ]
    }
   ],
   "source": [
    "mean_auc = np.nanmean(r_auc_scores)\n",
    "print(\"Mean AUC using Repeated Kfold after feature selection:\", mean_auc)"
   ]
  },
  {
   "cell_type": "code",
   "execution_count": 90,
   "metadata": {},
   "outputs": [],
   "source": [
    "cv = LeaveOneOut()\n",
    "\n",
    "models = []\n",
    "all_y_test = []\n",
    "all_yhat_probs = []\n",
    "\n",
    "for train_ix, test_ix in cv.split(X_filtered):\n",
    "    X_train, y_train = X_filtered.iloc[train_ix], y.iloc[train_ix]\n",
    "    X_test, y_test = X_filtered.iloc[test_ix], y.iloc[test_ix]\n",
    "\n",
    "    model = GaussianNB()\n",
    "    model.fit(X_train, y_train)\n",
    "    \n",
    "    yhat_probs = model.predict_proba(X_test)[:, 1]\n",
    "    \n",
    "    all_y_test.extend(y_test)\n",
    "    all_yhat_probs.extend(yhat_probs)\n",
    "        \n",
    "    models.append(model)\n"
   ]
  },
  {
   "cell_type": "code",
   "execution_count": 91,
   "metadata": {},
   "outputs": [
    {
     "name": "stdout",
     "output_type": "stream",
     "text": [
      "AUC Score across all LOO iterations: 0.6705\n"
     ]
    }
   ],
   "source": [
    "auc = roc_auc_score(all_y_test, all_yhat_probs)\n",
    "print(f\"AUC Score across all LOO iterations: {auc:.4f}\")"
   ]
  },
  {
   "cell_type": "code",
   "execution_count": null,
   "metadata": {},
   "outputs": [],
   "source": []
  },
  {
   "cell_type": "code",
   "execution_count": null,
   "metadata": {},
   "outputs": [],
   "source": []
  }
 ],
 "metadata": {
  "kernelspec": {
   "display_name": "My Virtual Environment",
   "language": "python",
   "name": "myenv"
  },
  "language_info": {
   "codemirror_mode": {
    "name": "ipython",
    "version": 3
   },
   "file_extension": ".py",
   "mimetype": "text/x-python",
   "name": "python",
   "nbconvert_exporter": "python",
   "pygments_lexer": "ipython3",
   "version": "3.7.6"
  }
 },
 "nbformat": 4,
 "nbformat_minor": 4
}
