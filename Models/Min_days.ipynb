{
 "cells": [
  {
   "cell_type": "code",
   "execution_count": 1,
   "metadata": {},
   "outputs": [],
   "source": [
    "import pandas as pd\n",
    "import numpy as np\n",
    "import matplotlib.pyplot as plt\n",
    "import featuretools as ft\n",
    "import sklearn\n",
    "from sklearn.model_selection import train_test_split\n",
    "import shap\n",
    "from catboost import CatBoostClassifier\n",
    "from sklearn.preprocessing import StandardScaler\n",
    "from sklearn.metrics import roc_auc_score\n",
    "from sklearn.model_selection import KFold\n",
    "from sklearn.model_selection import RepeatedKFold\n",
    "from sklearn.model_selection import LeaveOneOut"
   ]
  },
  {
   "cell_type": "code",
   "execution_count": 2,
   "metadata": {},
   "outputs": [],
   "source": [
    "import warnings\n",
    "warnings.filterwarnings(\"ignore\", \"is_categorical_dtype\")"
   ]
  },
  {
   "cell_type": "markdown",
   "metadata": {},
   "source": [
    "# Data"
   ]
  },
  {
   "cell_type": "code",
   "execution_count": 3,
   "metadata": {},
   "outputs": [],
   "source": [
    "#activities + heart\n",
    "activities = pd.read_csv('activities_final.txt', sep='\\t')\n",
    "activities = activities.drop(['activity_Run', 'activity_Walk', 'race', 'gender', 'activeScore', 'caloriesBMR'], axis = 1)"
   ]
  },
  {
   "cell_type": "code",
   "execution_count": 4,
   "metadata": {},
   "outputs": [],
   "source": [
    "#remove partial days\n",
    "valid_days = pd.read_csv('included_days.txt', sep='\\t') \n",
    "activity = pd.merge(activities, valid_days, left_on=['User', 'Date'], right_on=['User', 'Day'])\n",
    "activity.drop('Day', axis=1, inplace=True)"
   ]
  },
  {
   "cell_type": "code",
   "execution_count": 5,
   "metadata": {},
   "outputs": [],
   "source": [
    "sleep = pd.read_csv('sleep_final.txt', sep='\\t')"
   ]
  },
  {
   "cell_type": "code",
   "execution_count": 6,
   "metadata": {},
   "outputs": [],
   "source": [
    "def classify_sleep(row):\n",
    "    main_sleep_conditions = all(pd.isna(row[key]) for key in ['asleep_count', 'asleep_minutes', \n",
    "                                                             'awake_count', 'awake_minutes',\n",
    "                                                             'restless_minutes', 'restless_count'])\n",
    "    nap_conditions = all(pd.isna(row[key]) for key in ['deep_count', 'deep_minutes', 'deep_thirtyDayAvgMinutes', \n",
    "                                                      'light_count', 'light_minutes', 'light_thirtyDayAvgMinutes',\n",
    "                                                      'rem_count', 'rem_minutes', 'rem_thirtyDayAvgMinutes',\n",
    "                                                      'wake_count', 'wake_minutes', 'wake_thirtyDayAvgMinutes'])\n",
    "    if nap_conditions:\n",
    "        return \"Nap\"\n",
    "    elif main_sleep_conditions:\n",
    "        return \"Main Sleep\"\n",
    "    else:\n",
    "        return \"Inconclusive\"\n",
    "\n",
    "sleep['classification'] = sleep.apply(classify_sleep, axis=1)"
   ]
  },
  {
   "cell_type": "code",
   "execution_count": 7,
   "metadata": {},
   "outputs": [],
   "source": [
    "#mainsleep\n",
    "mainsleep = sleep[sleep['classification']=='Main Sleep']\n",
    "mainsleep = mainsleep.drop(['startTime', 'endTime', 'gender', 'race',\n",
    "                'duration', 'isMainSleep', 'classification'], axis=1) \n",
    "mainsleep = mainsleep.dropna(axis = 1) "
   ]
  },
  {
   "cell_type": "code",
   "execution_count": 8,
   "metadata": {},
   "outputs": [],
   "source": [
    "common_features = ['label', 'User', 'age', 'Date']\n",
    "df = pd.merge(activity, mainsleep, on=common_features, how='inner')\n",
    "df = df.drop_duplicates(subset=['User', 'Date'], keep='first').reset_index(drop=True)"
   ]
  },
  {
   "cell_type": "code",
   "execution_count": 9,
   "metadata": {},
   "outputs": [],
   "source": [
    "unique_df = df[['User', 'label']].drop_duplicates()"
   ]
  },
  {
   "cell_type": "markdown",
   "metadata": {},
   "source": [
    "# Basic functions"
   ]
  },
  {
   "cell_type": "code",
   "execution_count": 10,
   "metadata": {},
   "outputs": [],
   "source": [
    "# function engineering\n",
    "def feature_engineer(data):\n",
    "    es = ft.EntitySet(id = 'days_n_activities_heartrate_mainsleep')\n",
    "    es.add_dataframe(dataframe_name = 'days_n', dataframe = data, make_index = True, index = 'days_n_index')\n",
    "    es.normalize_dataframe(base_dataframe_name='days_n', new_dataframe_name='person', index = 'User', \n",
    "            additional_columns = ['age'])\n",
    "    days_n_feature_matrix, feature_names = ft.dfs(entityset=es, target_dataframe_name = 'person', \n",
    "                                                  max_depth = 2, verbose = 1)\n",
    "    return days_n_feature_matrix"
   ]
  },
  {
   "cell_type": "code",
   "execution_count": 11,
   "metadata": {},
   "outputs": [],
   "source": [
    "# preliminary predictive model + feature selection\n",
    "def preliminary_model(X, y):\n",
    "    alpha = 0.02\n",
    "    kf = KFold(n_splits=5, shuffle=True, random_state=42) \n",
    "\n",
    "    ix_training, ix_test = [], []\n",
    "\n",
    "    for fold in kf.split(X):\n",
    "        ix_training.append(fold[0]), ix_test.append(fold[1])\n",
    "\n",
    "    models = []\n",
    "    auc_scores = []\n",
    "    feature_occurrences = {} \n",
    "\n",
    "    for i, (train_outer_ix, test_outer_ix) in enumerate(zip(ix_training, ix_test)): \n",
    "        X_train, y_train = X.iloc[train_outer_ix], y.iloc[train_outer_ix]\n",
    "        X_test, y_test = X.iloc[test_outer_ix], y.iloc[test_outer_ix]\n",
    "    \n",
    "        #model\n",
    "        model = CatBoostClassifier(iterations=200, learning_rate=0.01, depth=8, l2_leaf_reg=3, random_seed=8, \n",
    "                               loss_function='Logloss')\n",
    "        model.fit(X_train, y_train, cat_features = [], verbose = 0)\n",
    "    \n",
    "        #SHAP in training\n",
    "        explainer = shap.TreeExplainer(model)\n",
    "        shap_values = explainer.shap_values(X_train) \n",
    "        shap_importance = np.mean(np.abs(np.array(shap_values)), axis = 0)\n",
    "        important_features = np.array(X_train.columns)[shap_importance > alpha]\n",
    "\n",
    "        #count\n",
    "        for feature in important_features:\n",
    "            if feature in feature_occurrences:\n",
    "                feature_occurrences[feature] += 1\n",
    "            else:\n",
    "                feature_occurrences[feature] = 1\n",
    "                \n",
    "    models.append(model)\n",
    "\n",
    "    final_selected_features = [feature for feature, count in feature_occurrences.items() if count >= 2]\n",
    "    return final_selected_features"
   ]
  },
  {
   "cell_type": "code",
   "execution_count": 12,
   "metadata": {},
   "outputs": [],
   "source": [
    "# final model - repeated kfold cv\n",
    "def final_model1(X_days_n_filtered, y):\n",
    "    scaler_z = StandardScaler()\n",
    "    X_days_n_filtered = pd.DataFrame(scaler_z.fit_transform(X_days_n_filtered), columns=X_days_n_filtered.columns)\n",
    "    \n",
    "    rkf = RepeatedKFold(n_splits=5, n_repeats=5, random_state=42)\n",
    "\n",
    "    models = []\n",
    "    r_auc_scores = []\n",
    "    all_shap_values = []\n",
    "    all_X_tests = []\n",
    "    \n",
    "    for i, (train_outer_ix, test_outer_ix) in enumerate(rkf.split(X_days_n_filtered)): \n",
    "        X_train, y_train = X_days_n_filtered.iloc[train_outer_ix], y.iloc[train_outer_ix]\n",
    "        X_test, y_test = X_days_n_filtered.iloc[test_outer_ix], y.iloc[test_outer_ix]\n",
    "    \n",
    "        model = CatBoostClassifier(iterations=200, learning_rate=0.01, depth=8, l2_leaf_reg=3, random_seed=7, \n",
    "                                   loss_function='Logloss')\n",
    "        model.fit(X_train, y_train, cat_features=[], verbose=0)\n",
    "    \n",
    "        # test\n",
    "        yhat_probs = model.predict_proba(X_test)[:, 1]\n",
    "    \n",
    "        # auc\n",
    "        try:\n",
    "            auc = roc_auc_score(y_test, yhat_probs)\n",
    "            r_auc_scores.append(auc)\n",
    "        except ValueError:\n",
    "            print(\"Skipping AUC calculation for this fold due to single class in y_true.\")\n",
    "            r_auc_scores.append(float('nan')) \n",
    "    \n",
    "        models.append(model)\n",
    "        \n",
    "    return r_auc_scores"
   ]
  },
  {
   "cell_type": "code",
   "execution_count": 13,
   "metadata": {},
   "outputs": [],
   "source": [
    "# final model - loocv\n",
    "def final_model2(X_days_n_filtered, y):\n",
    "    scaler_z = StandardScaler()\n",
    "    X_days_n_filtered = pd.DataFrame(scaler_z.fit_transform(X_days_n_filtered), columns=X_days_n_filtered.columns)\n",
    "    \n",
    "    cv = LeaveOneOut()\n",
    "\n",
    "    models = []\n",
    "    all_y_test = []\n",
    "    all_yhat_probs = []\n",
    "\n",
    "    for train_ix, test_ix in cv.split(X_days_n_filtered):\n",
    "        X_train, y_train = X_days_n_filtered.iloc[train_ix], y.iloc[train_ix]\n",
    "        X_test, y_test = X_days_n_filtered.iloc[test_ix], y.iloc[test_ix]\n",
    "    \n",
    "        userids_test = X_days_n_filtered.iloc[test_ix].index.values\n",
    "\n",
    "        model = CatBoostClassifier(iterations=200, learning_rate=0.01, depth=8, l2_leaf_reg=3, random_seed=7, \n",
    "                               loss_function='Logloss')\n",
    "        model.fit(X_train, y_train, cat_features = [], verbose = 0)\n",
    "\n",
    "        yhat_probs = model.predict_proba(X_test)[:, 1]\n",
    "    \n",
    "        all_y_test.extend(y_test)\n",
    "        all_yhat_probs.extend(yhat_probs)\n",
    "        \n",
    "        models.append(model)\n",
    "        \n",
    "    return all_y_test, all_yhat_probs"
   ]
  },
  {
   "cell_type": "markdown",
   "metadata": {},
   "source": [
    "# Merge"
   ]
  },
  {
   "cell_type": "code",
   "execution_count": 14,
   "metadata": {},
   "outputs": [],
   "source": [
    "unique_df.set_index('User', inplace=True)\n",
    "y = unique_df['label']"
   ]
  },
  {
   "cell_type": "code",
   "execution_count": 15,
   "metadata": {},
   "outputs": [
    {
     "name": "stdout",
     "output_type": "stream",
     "text": [
      "Built 332 features\n",
      "Elapsed: 00:00 | Progress: 100%|████████████████████████████████████████████████\n"
     ]
    },
    {
     "name": "stderr",
     "output_type": "stream",
     "text": [
      "The provided callable <function mean at 0x103faa5c0> is currently using SeriesGroupBy.mean. In a future version of pandas, the provided callable will be used directly. To keep current behavior pass the string \"mean\" instead.\n",
      "The provided callable <function amax at 0x103fa98a0> is currently using SeriesGroupBy.max. In a future version of pandas, the provided callable will be used directly. To keep current behavior pass the string \"max\" instead.\n",
      "The provided callable <function sum at 0x103fa8f40> is currently using SeriesGroupBy.sum. In a future version of pandas, the provided callable will be used directly. To keep current behavior pass the string \"sum\" instead.\n",
      "The provided callable <function std at 0x103faa7a0> is currently using SeriesGroupBy.std. In a future version of pandas, the provided callable will be used directly. To keep current behavior pass the string \"std\" instead.\n",
      "The provided callable <function amin at 0x103fa9a80> is currently using SeriesGroupBy.min. In a future version of pandas, the provided callable will be used directly. To keep current behavior pass the string \"min\" instead.\n"
     ]
    },
    {
     "name": "stdout",
     "output_type": "stream",
     "text": [
      "Skipping AUC calculation for this fold due to single class in y_true.\n",
      "Skipping AUC calculation for this fold due to single class in y_true.\n",
      "Skipping AUC calculation for this fold due to single class in y_true.\n",
      "Skipping AUC calculation for this fold due to single class in y_true.\n",
      "Built 332 features\n",
      "Elapsed: 00:00 | Progress: 100%|████████████████████████████████████████████████\n"
     ]
    },
    {
     "name": "stderr",
     "output_type": "stream",
     "text": [
      "The provided callable <function mean at 0x103faa5c0> is currently using SeriesGroupBy.mean. In a future version of pandas, the provided callable will be used directly. To keep current behavior pass the string \"mean\" instead.\n",
      "The provided callable <function amax at 0x103fa98a0> is currently using SeriesGroupBy.max. In a future version of pandas, the provided callable will be used directly. To keep current behavior pass the string \"max\" instead.\n",
      "The provided callable <function sum at 0x103fa8f40> is currently using SeriesGroupBy.sum. In a future version of pandas, the provided callable will be used directly. To keep current behavior pass the string \"sum\" instead.\n",
      "The provided callable <function std at 0x103faa7a0> is currently using SeriesGroupBy.std. In a future version of pandas, the provided callable will be used directly. To keep current behavior pass the string \"std\" instead.\n",
      "The provided callable <function amin at 0x103fa9a80> is currently using SeriesGroupBy.min. In a future version of pandas, the provided callable will be used directly. To keep current behavior pass the string \"min\" instead.\n"
     ]
    },
    {
     "name": "stdout",
     "output_type": "stream",
     "text": [
      "Skipping AUC calculation for this fold due to single class in y_true.\n",
      "Skipping AUC calculation for this fold due to single class in y_true.\n",
      "Skipping AUC calculation for this fold due to single class in y_true.\n",
      "Skipping AUC calculation for this fold due to single class in y_true.\n",
      "Built 332 features\n",
      "Elapsed: 00:00 | Progress: 100%|████████████████████████████████████████████████\n"
     ]
    },
    {
     "name": "stderr",
     "output_type": "stream",
     "text": [
      "The provided callable <function mean at 0x103faa5c0> is currently using SeriesGroupBy.mean. In a future version of pandas, the provided callable will be used directly. To keep current behavior pass the string \"mean\" instead.\n",
      "The provided callable <function amax at 0x103fa98a0> is currently using SeriesGroupBy.max. In a future version of pandas, the provided callable will be used directly. To keep current behavior pass the string \"max\" instead.\n",
      "The provided callable <function sum at 0x103fa8f40> is currently using SeriesGroupBy.sum. In a future version of pandas, the provided callable will be used directly. To keep current behavior pass the string \"sum\" instead.\n",
      "The provided callable <function std at 0x103faa7a0> is currently using SeriesGroupBy.std. In a future version of pandas, the provided callable will be used directly. To keep current behavior pass the string \"std\" instead.\n",
      "The provided callable <function amin at 0x103fa9a80> is currently using SeriesGroupBy.min. In a future version of pandas, the provided callable will be used directly. To keep current behavior pass the string \"min\" instead.\n"
     ]
    },
    {
     "name": "stdout",
     "output_type": "stream",
     "text": [
      "Skipping AUC calculation for this fold due to single class in y_true.\n",
      "Skipping AUC calculation for this fold due to single class in y_true.\n",
      "Skipping AUC calculation for this fold due to single class in y_true.\n",
      "Skipping AUC calculation for this fold due to single class in y_true.\n",
      "Built 332 features\n",
      "Elapsed: 00:00 | Progress: 100%|████████████████████████████████████████████████\n"
     ]
    },
    {
     "name": "stderr",
     "output_type": "stream",
     "text": [
      "The provided callable <function mean at 0x103faa5c0> is currently using SeriesGroupBy.mean. In a future version of pandas, the provided callable will be used directly. To keep current behavior pass the string \"mean\" instead.\n",
      "The provided callable <function amax at 0x103fa98a0> is currently using SeriesGroupBy.max. In a future version of pandas, the provided callable will be used directly. To keep current behavior pass the string \"max\" instead.\n",
      "The provided callable <function sum at 0x103fa8f40> is currently using SeriesGroupBy.sum. In a future version of pandas, the provided callable will be used directly. To keep current behavior pass the string \"sum\" instead.\n",
      "The provided callable <function std at 0x103faa7a0> is currently using SeriesGroupBy.std. In a future version of pandas, the provided callable will be used directly. To keep current behavior pass the string \"std\" instead.\n",
      "The provided callable <function amin at 0x103fa9a80> is currently using SeriesGroupBy.min. In a future version of pandas, the provided callable will be used directly. To keep current behavior pass the string \"min\" instead.\n"
     ]
    },
    {
     "name": "stdout",
     "output_type": "stream",
     "text": [
      "Skipping AUC calculation for this fold due to single class in y_true.\n",
      "Skipping AUC calculation for this fold due to single class in y_true.\n",
      "Skipping AUC calculation for this fold due to single class in y_true.\n",
      "Skipping AUC calculation for this fold due to single class in y_true.\n",
      "Built 332 features\n",
      "Elapsed: 00:00 | Progress: 100%|████████████████████████████████████████████████\n"
     ]
    },
    {
     "name": "stderr",
     "output_type": "stream",
     "text": [
      "The provided callable <function mean at 0x103faa5c0> is currently using SeriesGroupBy.mean. In a future version of pandas, the provided callable will be used directly. To keep current behavior pass the string \"mean\" instead.\n",
      "The provided callable <function amax at 0x103fa98a0> is currently using SeriesGroupBy.max. In a future version of pandas, the provided callable will be used directly. To keep current behavior pass the string \"max\" instead.\n",
      "The provided callable <function sum at 0x103fa8f40> is currently using SeriesGroupBy.sum. In a future version of pandas, the provided callable will be used directly. To keep current behavior pass the string \"sum\" instead.\n",
      "The provided callable <function std at 0x103faa7a0> is currently using SeriesGroupBy.std. In a future version of pandas, the provided callable will be used directly. To keep current behavior pass the string \"std\" instead.\n",
      "The provided callable <function amin at 0x103fa9a80> is currently using SeriesGroupBy.min. In a future version of pandas, the provided callable will be used directly. To keep current behavior pass the string \"min\" instead.\n"
     ]
    },
    {
     "name": "stdout",
     "output_type": "stream",
     "text": [
      "Skipping AUC calculation for this fold due to single class in y_true.\n",
      "Skipping AUC calculation for this fold due to single class in y_true.\n",
      "Skipping AUC calculation for this fold due to single class in y_true.\n",
      "Skipping AUC calculation for this fold due to single class in y_true.\n",
      "Built 332 features\n",
      "Elapsed: 00:00 | Progress: 100%|████████████████████████████████████████████████\n"
     ]
    },
    {
     "name": "stderr",
     "output_type": "stream",
     "text": [
      "The provided callable <function mean at 0x103faa5c0> is currently using SeriesGroupBy.mean. In a future version of pandas, the provided callable will be used directly. To keep current behavior pass the string \"mean\" instead.\n",
      "The provided callable <function amax at 0x103fa98a0> is currently using SeriesGroupBy.max. In a future version of pandas, the provided callable will be used directly. To keep current behavior pass the string \"max\" instead.\n",
      "The provided callable <function sum at 0x103fa8f40> is currently using SeriesGroupBy.sum. In a future version of pandas, the provided callable will be used directly. To keep current behavior pass the string \"sum\" instead.\n",
      "The provided callable <function std at 0x103faa7a0> is currently using SeriesGroupBy.std. In a future version of pandas, the provided callable will be used directly. To keep current behavior pass the string \"std\" instead.\n",
      "The provided callable <function amin at 0x103fa9a80> is currently using SeriesGroupBy.min. In a future version of pandas, the provided callable will be used directly. To keep current behavior pass the string \"min\" instead.\n"
     ]
    },
    {
     "name": "stdout",
     "output_type": "stream",
     "text": [
      "Skipping AUC calculation for this fold due to single class in y_true.\n",
      "Skipping AUC calculation for this fold due to single class in y_true.\n",
      "Skipping AUC calculation for this fold due to single class in y_true.\n",
      "Skipping AUC calculation for this fold due to single class in y_true.\n",
      "Built 332 features\n",
      "Elapsed: 00:00 | Progress: 100%|████████████████████████████████████████████████\n"
     ]
    },
    {
     "name": "stderr",
     "output_type": "stream",
     "text": [
      "The provided callable <function mean at 0x103faa5c0> is currently using SeriesGroupBy.mean. In a future version of pandas, the provided callable will be used directly. To keep current behavior pass the string \"mean\" instead.\n",
      "The provided callable <function amax at 0x103fa98a0> is currently using SeriesGroupBy.max. In a future version of pandas, the provided callable will be used directly. To keep current behavior pass the string \"max\" instead.\n",
      "The provided callable <function sum at 0x103fa8f40> is currently using SeriesGroupBy.sum. In a future version of pandas, the provided callable will be used directly. To keep current behavior pass the string \"sum\" instead.\n",
      "The provided callable <function std at 0x103faa7a0> is currently using SeriesGroupBy.std. In a future version of pandas, the provided callable will be used directly. To keep current behavior pass the string \"std\" instead.\n",
      "The provided callable <function amin at 0x103fa9a80> is currently using SeriesGroupBy.min. In a future version of pandas, the provided callable will be used directly. To keep current behavior pass the string \"min\" instead.\n"
     ]
    },
    {
     "name": "stdout",
     "output_type": "stream",
     "text": [
      "Skipping AUC calculation for this fold due to single class in y_true.\n",
      "Skipping AUC calculation for this fold due to single class in y_true.\n",
      "Skipping AUC calculation for this fold due to single class in y_true.\n",
      "Skipping AUC calculation for this fold due to single class in y_true.\n",
      "Built 332 features\n",
      "Elapsed: 00:00 | Progress: 100%|████████████████████████████████████████████████\n"
     ]
    },
    {
     "name": "stderr",
     "output_type": "stream",
     "text": [
      "The provided callable <function mean at 0x103faa5c0> is currently using SeriesGroupBy.mean. In a future version of pandas, the provided callable will be used directly. To keep current behavior pass the string \"mean\" instead.\n",
      "The provided callable <function amax at 0x103fa98a0> is currently using SeriesGroupBy.max. In a future version of pandas, the provided callable will be used directly. To keep current behavior pass the string \"max\" instead.\n",
      "The provided callable <function sum at 0x103fa8f40> is currently using SeriesGroupBy.sum. In a future version of pandas, the provided callable will be used directly. To keep current behavior pass the string \"sum\" instead.\n",
      "The provided callable <function std at 0x103faa7a0> is currently using SeriesGroupBy.std. In a future version of pandas, the provided callable will be used directly. To keep current behavior pass the string \"std\" instead.\n",
      "The provided callable <function amin at 0x103fa9a80> is currently using SeriesGroupBy.min. In a future version of pandas, the provided callable will be used directly. To keep current behavior pass the string \"min\" instead.\n"
     ]
    },
    {
     "name": "stdout",
     "output_type": "stream",
     "text": [
      "Skipping AUC calculation for this fold due to single class in y_true.\n",
      "Skipping AUC calculation for this fold due to single class in y_true.\n",
      "Skipping AUC calculation for this fold due to single class in y_true.\n",
      "Skipping AUC calculation for this fold due to single class in y_true.\n",
      "Built 332 features\n",
      "Elapsed: 00:00 | Progress: 100%|████████████████████████████████████████████████\n"
     ]
    },
    {
     "name": "stderr",
     "output_type": "stream",
     "text": [
      "The provided callable <function mean at 0x103faa5c0> is currently using SeriesGroupBy.mean. In a future version of pandas, the provided callable will be used directly. To keep current behavior pass the string \"mean\" instead.\n",
      "The provided callable <function amax at 0x103fa98a0> is currently using SeriesGroupBy.max. In a future version of pandas, the provided callable will be used directly. To keep current behavior pass the string \"max\" instead.\n",
      "The provided callable <function sum at 0x103fa8f40> is currently using SeriesGroupBy.sum. In a future version of pandas, the provided callable will be used directly. To keep current behavior pass the string \"sum\" instead.\n",
      "The provided callable <function std at 0x103faa7a0> is currently using SeriesGroupBy.std. In a future version of pandas, the provided callable will be used directly. To keep current behavior pass the string \"std\" instead.\n",
      "The provided callable <function amin at 0x103fa9a80> is currently using SeriesGroupBy.min. In a future version of pandas, the provided callable will be used directly. To keep current behavior pass the string \"min\" instead.\n"
     ]
    },
    {
     "name": "stdout",
     "output_type": "stream",
     "text": [
      "Skipping AUC calculation for this fold due to single class in y_true.\n",
      "Skipping AUC calculation for this fold due to single class in y_true.\n",
      "Skipping AUC calculation for this fold due to single class in y_true.\n",
      "Skipping AUC calculation for this fold due to single class in y_true.\n",
      "Built 332 features\n",
      "Elapsed: 00:00 | Progress: 100%|████████████████████████████████████████████████\n"
     ]
    },
    {
     "name": "stderr",
     "output_type": "stream",
     "text": [
      "The provided callable <function mean at 0x103faa5c0> is currently using SeriesGroupBy.mean. In a future version of pandas, the provided callable will be used directly. To keep current behavior pass the string \"mean\" instead.\n",
      "The provided callable <function amax at 0x103fa98a0> is currently using SeriesGroupBy.max. In a future version of pandas, the provided callable will be used directly. To keep current behavior pass the string \"max\" instead.\n",
      "The provided callable <function sum at 0x103fa8f40> is currently using SeriesGroupBy.sum. In a future version of pandas, the provided callable will be used directly. To keep current behavior pass the string \"sum\" instead.\n",
      "The provided callable <function std at 0x103faa7a0> is currently using SeriesGroupBy.std. In a future version of pandas, the provided callable will be used directly. To keep current behavior pass the string \"std\" instead.\n",
      "The provided callable <function amin at 0x103fa9a80> is currently using SeriesGroupBy.min. In a future version of pandas, the provided callable will be used directly. To keep current behavior pass the string \"min\" instead.\n"
     ]
    },
    {
     "name": "stdout",
     "output_type": "stream",
     "text": [
      "Skipping AUC calculation for this fold due to single class in y_true.\n",
      "Skipping AUC calculation for this fold due to single class in y_true.\n",
      "Skipping AUC calculation for this fold due to single class in y_true.\n",
      "Skipping AUC calculation for this fold due to single class in y_true.\n",
      "Built 332 features\n",
      "Elapsed: 00:00 | Progress: 100%|████████████████████████████████████████████████\n"
     ]
    },
    {
     "name": "stderr",
     "output_type": "stream",
     "text": [
      "The provided callable <function mean at 0x103faa5c0> is currently using SeriesGroupBy.mean. In a future version of pandas, the provided callable will be used directly. To keep current behavior pass the string \"mean\" instead.\n",
      "The provided callable <function amax at 0x103fa98a0> is currently using SeriesGroupBy.max. In a future version of pandas, the provided callable will be used directly. To keep current behavior pass the string \"max\" instead.\n",
      "The provided callable <function sum at 0x103fa8f40> is currently using SeriesGroupBy.sum. In a future version of pandas, the provided callable will be used directly. To keep current behavior pass the string \"sum\" instead.\n",
      "The provided callable <function std at 0x103faa7a0> is currently using SeriesGroupBy.std. In a future version of pandas, the provided callable will be used directly. To keep current behavior pass the string \"std\" instead.\n",
      "The provided callable <function amin at 0x103fa9a80> is currently using SeriesGroupBy.min. In a future version of pandas, the provided callable will be used directly. To keep current behavior pass the string \"min\" instead.\n"
     ]
    },
    {
     "name": "stdout",
     "output_type": "stream",
     "text": [
      "Skipping AUC calculation for this fold due to single class in y_true.\n",
      "Skipping AUC calculation for this fold due to single class in y_true.\n",
      "Skipping AUC calculation for this fold due to single class in y_true.\n",
      "Skipping AUC calculation for this fold due to single class in y_true.\n",
      "Built 332 features\n",
      "Elapsed: 00:00 | Progress: 100%|████████████████████████████████████████████████\n"
     ]
    },
    {
     "name": "stderr",
     "output_type": "stream",
     "text": [
      "The provided callable <function mean at 0x103faa5c0> is currently using SeriesGroupBy.mean. In a future version of pandas, the provided callable will be used directly. To keep current behavior pass the string \"mean\" instead.\n",
      "The provided callable <function amax at 0x103fa98a0> is currently using SeriesGroupBy.max. In a future version of pandas, the provided callable will be used directly. To keep current behavior pass the string \"max\" instead.\n",
      "The provided callable <function sum at 0x103fa8f40> is currently using SeriesGroupBy.sum. In a future version of pandas, the provided callable will be used directly. To keep current behavior pass the string \"sum\" instead.\n",
      "The provided callable <function std at 0x103faa7a0> is currently using SeriesGroupBy.std. In a future version of pandas, the provided callable will be used directly. To keep current behavior pass the string \"std\" instead.\n",
      "The provided callable <function amin at 0x103fa9a80> is currently using SeriesGroupBy.min. In a future version of pandas, the provided callable will be used directly. To keep current behavior pass the string \"min\" instead.\n"
     ]
    },
    {
     "name": "stdout",
     "output_type": "stream",
     "text": [
      "Skipping AUC calculation for this fold due to single class in y_true.\n",
      "Skipping AUC calculation for this fold due to single class in y_true.\n",
      "Skipping AUC calculation for this fold due to single class in y_true.\n",
      "Skipping AUC calculation for this fold due to single class in y_true.\n",
      "Built 332 features\n",
      "Elapsed: 00:00 | Progress: 100%|████████████████████████████████████████████████\n"
     ]
    },
    {
     "name": "stderr",
     "output_type": "stream",
     "text": [
      "The provided callable <function mean at 0x103faa5c0> is currently using SeriesGroupBy.mean. In a future version of pandas, the provided callable will be used directly. To keep current behavior pass the string \"mean\" instead.\n",
      "The provided callable <function amax at 0x103fa98a0> is currently using SeriesGroupBy.max. In a future version of pandas, the provided callable will be used directly. To keep current behavior pass the string \"max\" instead.\n",
      "The provided callable <function sum at 0x103fa8f40> is currently using SeriesGroupBy.sum. In a future version of pandas, the provided callable will be used directly. To keep current behavior pass the string \"sum\" instead.\n",
      "The provided callable <function std at 0x103faa7a0> is currently using SeriesGroupBy.std. In a future version of pandas, the provided callable will be used directly. To keep current behavior pass the string \"std\" instead.\n",
      "The provided callable <function amin at 0x103fa9a80> is currently using SeriesGroupBy.min. In a future version of pandas, the provided callable will be used directly. To keep current behavior pass the string \"min\" instead.\n"
     ]
    },
    {
     "name": "stdout",
     "output_type": "stream",
     "text": [
      "Skipping AUC calculation for this fold due to single class in y_true.\n",
      "Skipping AUC calculation for this fold due to single class in y_true.\n",
      "Skipping AUC calculation for this fold due to single class in y_true.\n",
      "Skipping AUC calculation for this fold due to single class in y_true.\n",
      "Built 332 features\n",
      "Elapsed: 00:00 | Progress: 100%|████████████████████████████████████████████████\n"
     ]
    },
    {
     "name": "stderr",
     "output_type": "stream",
     "text": [
      "The provided callable <function mean at 0x103faa5c0> is currently using SeriesGroupBy.mean. In a future version of pandas, the provided callable will be used directly. To keep current behavior pass the string \"mean\" instead.\n",
      "The provided callable <function amax at 0x103fa98a0> is currently using SeriesGroupBy.max. In a future version of pandas, the provided callable will be used directly. To keep current behavior pass the string \"max\" instead.\n",
      "The provided callable <function sum at 0x103fa8f40> is currently using SeriesGroupBy.sum. In a future version of pandas, the provided callable will be used directly. To keep current behavior pass the string \"sum\" instead.\n",
      "The provided callable <function std at 0x103faa7a0> is currently using SeriesGroupBy.std. In a future version of pandas, the provided callable will be used directly. To keep current behavior pass the string \"std\" instead.\n",
      "The provided callable <function amin at 0x103fa9a80> is currently using SeriesGroupBy.min. In a future version of pandas, the provided callable will be used directly. To keep current behavior pass the string \"min\" instead.\n"
     ]
    },
    {
     "name": "stdout",
     "output_type": "stream",
     "text": [
      "Skipping AUC calculation for this fold due to single class in y_true.\n",
      "Skipping AUC calculation for this fold due to single class in y_true.\n",
      "Skipping AUC calculation for this fold due to single class in y_true.\n",
      "Skipping AUC calculation for this fold due to single class in y_true.\n",
      "Built 332 features\n",
      "Elapsed: 00:00 | Progress: 100%|████████████████████████████████████████████████\n"
     ]
    },
    {
     "name": "stderr",
     "output_type": "stream",
     "text": [
      "The provided callable <function mean at 0x103faa5c0> is currently using SeriesGroupBy.mean. In a future version of pandas, the provided callable will be used directly. To keep current behavior pass the string \"mean\" instead.\n",
      "The provided callable <function amax at 0x103fa98a0> is currently using SeriesGroupBy.max. In a future version of pandas, the provided callable will be used directly. To keep current behavior pass the string \"max\" instead.\n",
      "The provided callable <function sum at 0x103fa8f40> is currently using SeriesGroupBy.sum. In a future version of pandas, the provided callable will be used directly. To keep current behavior pass the string \"sum\" instead.\n",
      "The provided callable <function std at 0x103faa7a0> is currently using SeriesGroupBy.std. In a future version of pandas, the provided callable will be used directly. To keep current behavior pass the string \"std\" instead.\n",
      "The provided callable <function amin at 0x103fa9a80> is currently using SeriesGroupBy.min. In a future version of pandas, the provided callable will be used directly. To keep current behavior pass the string \"min\" instead.\n"
     ]
    },
    {
     "name": "stdout",
     "output_type": "stream",
     "text": [
      "Skipping AUC calculation for this fold due to single class in y_true.\n",
      "Skipping AUC calculation for this fold due to single class in y_true.\n",
      "Skipping AUC calculation for this fold due to single class in y_true.\n",
      "Skipping AUC calculation for this fold due to single class in y_true.\n",
      "Built 332 features\n",
      "Elapsed: 00:00 | Progress: 100%|████████████████████████████████████████████████\n"
     ]
    },
    {
     "name": "stderr",
     "output_type": "stream",
     "text": [
      "The provided callable <function mean at 0x103faa5c0> is currently using SeriesGroupBy.mean. In a future version of pandas, the provided callable will be used directly. To keep current behavior pass the string \"mean\" instead.\n",
      "The provided callable <function amax at 0x103fa98a0> is currently using SeriesGroupBy.max. In a future version of pandas, the provided callable will be used directly. To keep current behavior pass the string \"max\" instead.\n",
      "The provided callable <function sum at 0x103fa8f40> is currently using SeriesGroupBy.sum. In a future version of pandas, the provided callable will be used directly. To keep current behavior pass the string \"sum\" instead.\n",
      "The provided callable <function std at 0x103faa7a0> is currently using SeriesGroupBy.std. In a future version of pandas, the provided callable will be used directly. To keep current behavior pass the string \"std\" instead.\n",
      "The provided callable <function amin at 0x103fa9a80> is currently using SeriesGroupBy.min. In a future version of pandas, the provided callable will be used directly. To keep current behavior pass the string \"min\" instead.\n"
     ]
    },
    {
     "name": "stdout",
     "output_type": "stream",
     "text": [
      "Skipping AUC calculation for this fold due to single class in y_true.\n",
      "Skipping AUC calculation for this fold due to single class in y_true.\n",
      "Skipping AUC calculation for this fold due to single class in y_true.\n",
      "Skipping AUC calculation for this fold due to single class in y_true.\n",
      "Built 332 features\n",
      "Elapsed: 00:00 | Progress: 100%|████████████████████████████████████████████████\n"
     ]
    },
    {
     "name": "stderr",
     "output_type": "stream",
     "text": [
      "The provided callable <function mean at 0x103faa5c0> is currently using SeriesGroupBy.mean. In a future version of pandas, the provided callable will be used directly. To keep current behavior pass the string \"mean\" instead.\n",
      "The provided callable <function amax at 0x103fa98a0> is currently using SeriesGroupBy.max. In a future version of pandas, the provided callable will be used directly. To keep current behavior pass the string \"max\" instead.\n",
      "The provided callable <function sum at 0x103fa8f40> is currently using SeriesGroupBy.sum. In a future version of pandas, the provided callable will be used directly. To keep current behavior pass the string \"sum\" instead.\n",
      "The provided callable <function std at 0x103faa7a0> is currently using SeriesGroupBy.std. In a future version of pandas, the provided callable will be used directly. To keep current behavior pass the string \"std\" instead.\n",
      "The provided callable <function amin at 0x103fa9a80> is currently using SeriesGroupBy.min. In a future version of pandas, the provided callable will be used directly. To keep current behavior pass the string \"min\" instead.\n"
     ]
    },
    {
     "name": "stdout",
     "output_type": "stream",
     "text": [
      "Skipping AUC calculation for this fold due to single class in y_true.\n",
      "Skipping AUC calculation for this fold due to single class in y_true.\n",
      "Skipping AUC calculation for this fold due to single class in y_true.\n",
      "Skipping AUC calculation for this fold due to single class in y_true.\n",
      "Built 332 features\n",
      "Elapsed: 00:00 | Progress: 100%|████████████████████████████████████████████████\n"
     ]
    },
    {
     "name": "stderr",
     "output_type": "stream",
     "text": [
      "The provided callable <function mean at 0x103faa5c0> is currently using SeriesGroupBy.mean. In a future version of pandas, the provided callable will be used directly. To keep current behavior pass the string \"mean\" instead.\n",
      "The provided callable <function amax at 0x103fa98a0> is currently using SeriesGroupBy.max. In a future version of pandas, the provided callable will be used directly. To keep current behavior pass the string \"max\" instead.\n",
      "The provided callable <function sum at 0x103fa8f40> is currently using SeriesGroupBy.sum. In a future version of pandas, the provided callable will be used directly. To keep current behavior pass the string \"sum\" instead.\n",
      "The provided callable <function std at 0x103faa7a0> is currently using SeriesGroupBy.std. In a future version of pandas, the provided callable will be used directly. To keep current behavior pass the string \"std\" instead.\n",
      "The provided callable <function amin at 0x103fa9a80> is currently using SeriesGroupBy.min. In a future version of pandas, the provided callable will be used directly. To keep current behavior pass the string \"min\" instead.\n"
     ]
    },
    {
     "name": "stdout",
     "output_type": "stream",
     "text": [
      "Skipping AUC calculation for this fold due to single class in y_true.\n",
      "Skipping AUC calculation for this fold due to single class in y_true.\n",
      "Skipping AUC calculation for this fold due to single class in y_true.\n",
      "Skipping AUC calculation for this fold due to single class in y_true.\n",
      "Built 332 features\n",
      "Elapsed: 00:00 | Progress: 100%|████████████████████████████████████████████████\n"
     ]
    },
    {
     "name": "stderr",
     "output_type": "stream",
     "text": [
      "The provided callable <function mean at 0x103faa5c0> is currently using SeriesGroupBy.mean. In a future version of pandas, the provided callable will be used directly. To keep current behavior pass the string \"mean\" instead.\n",
      "The provided callable <function amax at 0x103fa98a0> is currently using SeriesGroupBy.max. In a future version of pandas, the provided callable will be used directly. To keep current behavior pass the string \"max\" instead.\n",
      "The provided callable <function sum at 0x103fa8f40> is currently using SeriesGroupBy.sum. In a future version of pandas, the provided callable will be used directly. To keep current behavior pass the string \"sum\" instead.\n",
      "The provided callable <function std at 0x103faa7a0> is currently using SeriesGroupBy.std. In a future version of pandas, the provided callable will be used directly. To keep current behavior pass the string \"std\" instead.\n",
      "The provided callable <function amin at 0x103fa9a80> is currently using SeriesGroupBy.min. In a future version of pandas, the provided callable will be used directly. To keep current behavior pass the string \"min\" instead.\n"
     ]
    },
    {
     "name": "stdout",
     "output_type": "stream",
     "text": [
      "Skipping AUC calculation for this fold due to single class in y_true.\n",
      "Skipping AUC calculation for this fold due to single class in y_true.\n",
      "Skipping AUC calculation for this fold due to single class in y_true.\n",
      "Skipping AUC calculation for this fold due to single class in y_true.\n",
      "Built 332 features\n",
      "Elapsed: 00:00 | Progress: 100%|████████████████████████████████████████████████\n"
     ]
    },
    {
     "name": "stderr",
     "output_type": "stream",
     "text": [
      "The provided callable <function mean at 0x103faa5c0> is currently using SeriesGroupBy.mean. In a future version of pandas, the provided callable will be used directly. To keep current behavior pass the string \"mean\" instead.\n",
      "The provided callable <function amax at 0x103fa98a0> is currently using SeriesGroupBy.max. In a future version of pandas, the provided callable will be used directly. To keep current behavior pass the string \"max\" instead.\n",
      "The provided callable <function sum at 0x103fa8f40> is currently using SeriesGroupBy.sum. In a future version of pandas, the provided callable will be used directly. To keep current behavior pass the string \"sum\" instead.\n",
      "The provided callable <function std at 0x103faa7a0> is currently using SeriesGroupBy.std. In a future version of pandas, the provided callable will be used directly. To keep current behavior pass the string \"std\" instead.\n",
      "The provided callable <function amin at 0x103fa9a80> is currently using SeriesGroupBy.min. In a future version of pandas, the provided callable will be used directly. To keep current behavior pass the string \"min\" instead.\n"
     ]
    },
    {
     "name": "stdout",
     "output_type": "stream",
     "text": [
      "Skipping AUC calculation for this fold due to single class in y_true.\n",
      "Skipping AUC calculation for this fold due to single class in y_true.\n",
      "Skipping AUC calculation for this fold due to single class in y_true.\n",
      "Skipping AUC calculation for this fold due to single class in y_true.\n",
      "Built 332 features\n",
      "Elapsed: 00:00 | Progress: 100%|████████████████████████████████████████████████\n"
     ]
    },
    {
     "name": "stderr",
     "output_type": "stream",
     "text": [
      "The provided callable <function mean at 0x103faa5c0> is currently using SeriesGroupBy.mean. In a future version of pandas, the provided callable will be used directly. To keep current behavior pass the string \"mean\" instead.\n",
      "The provided callable <function amax at 0x103fa98a0> is currently using SeriesGroupBy.max. In a future version of pandas, the provided callable will be used directly. To keep current behavior pass the string \"max\" instead.\n",
      "The provided callable <function sum at 0x103fa8f40> is currently using SeriesGroupBy.sum. In a future version of pandas, the provided callable will be used directly. To keep current behavior pass the string \"sum\" instead.\n",
      "The provided callable <function std at 0x103faa7a0> is currently using SeriesGroupBy.std. In a future version of pandas, the provided callable will be used directly. To keep current behavior pass the string \"std\" instead.\n",
      "The provided callable <function amin at 0x103fa9a80> is currently using SeriesGroupBy.min. In a future version of pandas, the provided callable will be used directly. To keep current behavior pass the string \"min\" instead.\n"
     ]
    },
    {
     "name": "stdout",
     "output_type": "stream",
     "text": [
      "Skipping AUC calculation for this fold due to single class in y_true.\n",
      "Skipping AUC calculation for this fold due to single class in y_true.\n",
      "Skipping AUC calculation for this fold due to single class in y_true.\n",
      "Skipping AUC calculation for this fold due to single class in y_true.\n",
      "Built 332 features\n",
      "Elapsed: 00:00 | Progress: 100%|████████████████████████████████████████████████\n"
     ]
    },
    {
     "name": "stderr",
     "output_type": "stream",
     "text": [
      "The provided callable <function mean at 0x103faa5c0> is currently using SeriesGroupBy.mean. In a future version of pandas, the provided callable will be used directly. To keep current behavior pass the string \"mean\" instead.\n",
      "The provided callable <function amax at 0x103fa98a0> is currently using SeriesGroupBy.max. In a future version of pandas, the provided callable will be used directly. To keep current behavior pass the string \"max\" instead.\n",
      "The provided callable <function sum at 0x103fa8f40> is currently using SeriesGroupBy.sum. In a future version of pandas, the provided callable will be used directly. To keep current behavior pass the string \"sum\" instead.\n",
      "The provided callable <function std at 0x103faa7a0> is currently using SeriesGroupBy.std. In a future version of pandas, the provided callable will be used directly. To keep current behavior pass the string \"std\" instead.\n",
      "The provided callable <function amin at 0x103fa9a80> is currently using SeriesGroupBy.min. In a future version of pandas, the provided callable will be used directly. To keep current behavior pass the string \"min\" instead.\n"
     ]
    },
    {
     "name": "stdout",
     "output_type": "stream",
     "text": [
      "Skipping AUC calculation for this fold due to single class in y_true.\n",
      "Skipping AUC calculation for this fold due to single class in y_true.\n",
      "Skipping AUC calculation for this fold due to single class in y_true.\n",
      "Skipping AUC calculation for this fold due to single class in y_true.\n",
      "Built 332 features\n",
      "Elapsed: 00:00 | Progress: 100%|████████████████████████████████████████████████\n"
     ]
    },
    {
     "name": "stderr",
     "output_type": "stream",
     "text": [
      "The provided callable <function mean at 0x103faa5c0> is currently using SeriesGroupBy.mean. In a future version of pandas, the provided callable will be used directly. To keep current behavior pass the string \"mean\" instead.\n",
      "The provided callable <function amax at 0x103fa98a0> is currently using SeriesGroupBy.max. In a future version of pandas, the provided callable will be used directly. To keep current behavior pass the string \"max\" instead.\n",
      "The provided callable <function sum at 0x103fa8f40> is currently using SeriesGroupBy.sum. In a future version of pandas, the provided callable will be used directly. To keep current behavior pass the string \"sum\" instead.\n",
      "The provided callable <function std at 0x103faa7a0> is currently using SeriesGroupBy.std. In a future version of pandas, the provided callable will be used directly. To keep current behavior pass the string \"std\" instead.\n",
      "The provided callable <function amin at 0x103fa9a80> is currently using SeriesGroupBy.min. In a future version of pandas, the provided callable will be used directly. To keep current behavior pass the string \"min\" instead.\n"
     ]
    },
    {
     "name": "stdout",
     "output_type": "stream",
     "text": [
      "Skipping AUC calculation for this fold due to single class in y_true.\n",
      "Skipping AUC calculation for this fold due to single class in y_true.\n",
      "Skipping AUC calculation for this fold due to single class in y_true.\n",
      "Skipping AUC calculation for this fold due to single class in y_true.\n",
      "Built 332 features\n",
      "Elapsed: 00:00 | Progress: 100%|████████████████████████████████████████████████\n"
     ]
    },
    {
     "name": "stderr",
     "output_type": "stream",
     "text": [
      "The provided callable <function mean at 0x103faa5c0> is currently using SeriesGroupBy.mean. In a future version of pandas, the provided callable will be used directly. To keep current behavior pass the string \"mean\" instead.\n",
      "The provided callable <function amax at 0x103fa98a0> is currently using SeriesGroupBy.max. In a future version of pandas, the provided callable will be used directly. To keep current behavior pass the string \"max\" instead.\n",
      "The provided callable <function sum at 0x103fa8f40> is currently using SeriesGroupBy.sum. In a future version of pandas, the provided callable will be used directly. To keep current behavior pass the string \"sum\" instead.\n",
      "The provided callable <function std at 0x103faa7a0> is currently using SeriesGroupBy.std. In a future version of pandas, the provided callable will be used directly. To keep current behavior pass the string \"std\" instead.\n",
      "The provided callable <function amin at 0x103fa9a80> is currently using SeriesGroupBy.min. In a future version of pandas, the provided callable will be used directly. To keep current behavior pass the string \"min\" instead.\n"
     ]
    },
    {
     "name": "stdout",
     "output_type": "stream",
     "text": [
      "Skipping AUC calculation for this fold due to single class in y_true.\n",
      "Skipping AUC calculation for this fold due to single class in y_true.\n",
      "Skipping AUC calculation for this fold due to single class in y_true.\n",
      "Skipping AUC calculation for this fold due to single class in y_true.\n",
      "Built 332 features\n",
      "Elapsed: 00:00 | Progress: 100%|████████████████████████████████████████████████\n"
     ]
    },
    {
     "name": "stderr",
     "output_type": "stream",
     "text": [
      "The provided callable <function mean at 0x103faa5c0> is currently using SeriesGroupBy.mean. In a future version of pandas, the provided callable will be used directly. To keep current behavior pass the string \"mean\" instead.\n",
      "The provided callable <function amax at 0x103fa98a0> is currently using SeriesGroupBy.max. In a future version of pandas, the provided callable will be used directly. To keep current behavior pass the string \"max\" instead.\n",
      "The provided callable <function sum at 0x103fa8f40> is currently using SeriesGroupBy.sum. In a future version of pandas, the provided callable will be used directly. To keep current behavior pass the string \"sum\" instead.\n",
      "The provided callable <function std at 0x103faa7a0> is currently using SeriesGroupBy.std. In a future version of pandas, the provided callable will be used directly. To keep current behavior pass the string \"std\" instead.\n",
      "The provided callable <function amin at 0x103fa9a80> is currently using SeriesGroupBy.min. In a future version of pandas, the provided callable will be used directly. To keep current behavior pass the string \"min\" instead.\n"
     ]
    },
    {
     "name": "stdout",
     "output_type": "stream",
     "text": [
      "Skipping AUC calculation for this fold due to single class in y_true.\n",
      "Skipping AUC calculation for this fold due to single class in y_true.\n",
      "Skipping AUC calculation for this fold due to single class in y_true.\n",
      "Skipping AUC calculation for this fold due to single class in y_true.\n",
      "Built 332 features\n",
      "Elapsed: 00:00 | Progress: 100%|████████████████████████████████████████████████\n"
     ]
    },
    {
     "name": "stderr",
     "output_type": "stream",
     "text": [
      "The provided callable <function mean at 0x103faa5c0> is currently using SeriesGroupBy.mean. In a future version of pandas, the provided callable will be used directly. To keep current behavior pass the string \"mean\" instead.\n",
      "The provided callable <function amax at 0x103fa98a0> is currently using SeriesGroupBy.max. In a future version of pandas, the provided callable will be used directly. To keep current behavior pass the string \"max\" instead.\n",
      "The provided callable <function sum at 0x103fa8f40> is currently using SeriesGroupBy.sum. In a future version of pandas, the provided callable will be used directly. To keep current behavior pass the string \"sum\" instead.\n",
      "The provided callable <function std at 0x103faa7a0> is currently using SeriesGroupBy.std. In a future version of pandas, the provided callable will be used directly. To keep current behavior pass the string \"std\" instead.\n",
      "The provided callable <function amin at 0x103fa9a80> is currently using SeriesGroupBy.min. In a future version of pandas, the provided callable will be used directly. To keep current behavior pass the string \"min\" instead.\n"
     ]
    },
    {
     "name": "stdout",
     "output_type": "stream",
     "text": [
      "Skipping AUC calculation for this fold due to single class in y_true.\n",
      "Skipping AUC calculation for this fold due to single class in y_true.\n",
      "Skipping AUC calculation for this fold due to single class in y_true.\n",
      "Skipping AUC calculation for this fold due to single class in y_true.\n",
      "Built 332 features\n",
      "Elapsed: 00:00 | Progress: 100%|████████████████████████████████████████████████\n"
     ]
    },
    {
     "name": "stderr",
     "output_type": "stream",
     "text": [
      "The provided callable <function mean at 0x103faa5c0> is currently using SeriesGroupBy.mean. In a future version of pandas, the provided callable will be used directly. To keep current behavior pass the string \"mean\" instead.\n",
      "The provided callable <function amax at 0x103fa98a0> is currently using SeriesGroupBy.max. In a future version of pandas, the provided callable will be used directly. To keep current behavior pass the string \"max\" instead.\n",
      "The provided callable <function sum at 0x103fa8f40> is currently using SeriesGroupBy.sum. In a future version of pandas, the provided callable will be used directly. To keep current behavior pass the string \"sum\" instead.\n",
      "The provided callable <function std at 0x103faa7a0> is currently using SeriesGroupBy.std. In a future version of pandas, the provided callable will be used directly. To keep current behavior pass the string \"std\" instead.\n",
      "The provided callable <function amin at 0x103fa9a80> is currently using SeriesGroupBy.min. In a future version of pandas, the provided callable will be used directly. To keep current behavior pass the string \"min\" instead.\n"
     ]
    },
    {
     "name": "stdout",
     "output_type": "stream",
     "text": [
      "Skipping AUC calculation for this fold due to single class in y_true.\n",
      "Skipping AUC calculation for this fold due to single class in y_true.\n",
      "Skipping AUC calculation for this fold due to single class in y_true.\n",
      "Skipping AUC calculation for this fold due to single class in y_true.\n",
      "Built 332 features\n",
      "Elapsed: 00:00 | Progress: 100%|████████████████████████████████████████████████\n"
     ]
    },
    {
     "name": "stderr",
     "output_type": "stream",
     "text": [
      "The provided callable <function mean at 0x103faa5c0> is currently using SeriesGroupBy.mean. In a future version of pandas, the provided callable will be used directly. To keep current behavior pass the string \"mean\" instead.\n",
      "The provided callable <function amax at 0x103fa98a0> is currently using SeriesGroupBy.max. In a future version of pandas, the provided callable will be used directly. To keep current behavior pass the string \"max\" instead.\n",
      "The provided callable <function sum at 0x103fa8f40> is currently using SeriesGroupBy.sum. In a future version of pandas, the provided callable will be used directly. To keep current behavior pass the string \"sum\" instead.\n",
      "The provided callable <function std at 0x103faa7a0> is currently using SeriesGroupBy.std. In a future version of pandas, the provided callable will be used directly. To keep current behavior pass the string \"std\" instead.\n",
      "The provided callable <function amin at 0x103fa9a80> is currently using SeriesGroupBy.min. In a future version of pandas, the provided callable will be used directly. To keep current behavior pass the string \"min\" instead.\n"
     ]
    },
    {
     "name": "stdout",
     "output_type": "stream",
     "text": [
      "Skipping AUC calculation for this fold due to single class in y_true.\n",
      "Skipping AUC calculation for this fold due to single class in y_true.\n",
      "Skipping AUC calculation for this fold due to single class in y_true.\n",
      "Skipping AUC calculation for this fold due to single class in y_true.\n",
      "Built 332 features\n",
      "Elapsed: 00:00 | Progress: 100%|████████████████████████████████████████████████\n"
     ]
    },
    {
     "name": "stderr",
     "output_type": "stream",
     "text": [
      "The provided callable <function mean at 0x103faa5c0> is currently using SeriesGroupBy.mean. In a future version of pandas, the provided callable will be used directly. To keep current behavior pass the string \"mean\" instead.\n",
      "The provided callable <function amax at 0x103fa98a0> is currently using SeriesGroupBy.max. In a future version of pandas, the provided callable will be used directly. To keep current behavior pass the string \"max\" instead.\n",
      "The provided callable <function sum at 0x103fa8f40> is currently using SeriesGroupBy.sum. In a future version of pandas, the provided callable will be used directly. To keep current behavior pass the string \"sum\" instead.\n",
      "The provided callable <function std at 0x103faa7a0> is currently using SeriesGroupBy.std. In a future version of pandas, the provided callable will be used directly. To keep current behavior pass the string \"std\" instead.\n",
      "The provided callable <function amin at 0x103fa9a80> is currently using SeriesGroupBy.min. In a future version of pandas, the provided callable will be used directly. To keep current behavior pass the string \"min\" instead.\n"
     ]
    },
    {
     "name": "stdout",
     "output_type": "stream",
     "text": [
      "Skipping AUC calculation for this fold due to single class in y_true.\n",
      "Skipping AUC calculation for this fold due to single class in y_true.\n",
      "Skipping AUC calculation for this fold due to single class in y_true.\n",
      "Skipping AUC calculation for this fold due to single class in y_true.\n",
      "Built 332 features\n",
      "Elapsed: 00:00 | Progress: 100%|████████████████████████████████████████████████\n"
     ]
    },
    {
     "name": "stderr",
     "output_type": "stream",
     "text": [
      "The provided callable <function mean at 0x103faa5c0> is currently using SeriesGroupBy.mean. In a future version of pandas, the provided callable will be used directly. To keep current behavior pass the string \"mean\" instead.\n",
      "The provided callable <function amax at 0x103fa98a0> is currently using SeriesGroupBy.max. In a future version of pandas, the provided callable will be used directly. To keep current behavior pass the string \"max\" instead.\n",
      "The provided callable <function sum at 0x103fa8f40> is currently using SeriesGroupBy.sum. In a future version of pandas, the provided callable will be used directly. To keep current behavior pass the string \"sum\" instead.\n",
      "The provided callable <function std at 0x103faa7a0> is currently using SeriesGroupBy.std. In a future version of pandas, the provided callable will be used directly. To keep current behavior pass the string \"std\" instead.\n",
      "The provided callable <function amin at 0x103fa9a80> is currently using SeriesGroupBy.min. In a future version of pandas, the provided callable will be used directly. To keep current behavior pass the string \"min\" instead.\n"
     ]
    },
    {
     "name": "stdout",
     "output_type": "stream",
     "text": [
      "Skipping AUC calculation for this fold due to single class in y_true.\n",
      "Skipping AUC calculation for this fold due to single class in y_true.\n",
      "Skipping AUC calculation for this fold due to single class in y_true.\n",
      "Skipping AUC calculation for this fold due to single class in y_true.\n"
     ]
    }
   ],
   "source": [
    "auc_days_n_kfold = []\n",
    "auc_days_n_loocv = []\n",
    "\n",
    "for i in range(1, 31):\n",
    "    def get_records(data):\n",
    "        if len(data) > i:\n",
    "            return data.head(i)\n",
    "        return data\n",
    "    \n",
    "    X_days_n = df.groupby('User').apply(get_records).reset_index(drop=True)\n",
    "\n",
    "    X_days_n = X_days_n.drop(['label', 'Date'], axis = 1)\n",
    "    \n",
    "    days_n_feature_matrix = feature_engineer(X_days_n) #feature engineer\n",
    "    important_features = preliminary_model(days_n_feature_matrix, y) #preliminary predictive model\n",
    "    X_days_n_filtered =  days_n_feature_matrix[important_features]\n",
    "    aucs = final_model1(X_days_n_filtered, y) #final model repeated k fold\n",
    "    all_y_test, all_yhat_probs = final_model2(X_days_n_filtered, y) #final model loocv\n",
    "    \n",
    "    auc_days_n_kfold.append(np.nanmean(aucs))\n",
    "    auc_days_n_loocv.append(roc_auc_score(all_y_test, all_yhat_probs))"
   ]
  },
  {
   "cell_type": "code",
   "execution_count": 16,
   "metadata": {
    "scrolled": true
   },
   "outputs": [
    {
     "data": {
      "text/plain": [
       "[0.8055555555555556,\n",
       " 0.884920634920635,\n",
       " 0.742063492063492,\n",
       " 0.9761904761904762,\n",
       " 0.9722222222222223,\n",
       " 0.9047619047619048,\n",
       " 0.9682539682539681,\n",
       " 0.9682539682539681,\n",
       " 0.9087301587301588,\n",
       " 0.9404761904761905,\n",
       " 0.8928571428571429,\n",
       " 0.9404761904761905,\n",
       " 0.9444444444444445,\n",
       " 0.984126984126984,\n",
       " 0.984126984126984,\n",
       " 0.9682539682539681,\n",
       " 0.9682539682539681,\n",
       " 0.9206349206349206,\n",
       " 0.9087301587301587,\n",
       " 0.9523809523809523,\n",
       " 1.0,\n",
       " 0.984126984126984,\n",
       " 1.0,\n",
       " 0.9603174603174602,\n",
       " 0.984126984126984,\n",
       " 0.984126984126984,\n",
       " 1.0,\n",
       " 0.984126984126984,\n",
       " 0.9722222222222221,\n",
       " 0.9722222222222221]"
      ]
     },
     "execution_count": 16,
     "metadata": {},
     "output_type": "execute_result"
    }
   ],
   "source": [
    "auc_days_n_kfold"
   ]
  },
  {
   "cell_type": "code",
   "execution_count": 17,
   "metadata": {
    "scrolled": true
   },
   "outputs": [
    {
     "data": {
      "text/plain": [
       "[0.75,\n",
       " 0.875,\n",
       " 0.6354166666666666,\n",
       " 0.9895833333333334,\n",
       " 0.90625,\n",
       " 0.8437500000000001,\n",
       " 0.9166666666666667,\n",
       " 0.9479166666666666,\n",
       " 0.8645833333333333,\n",
       " 0.9375,\n",
       " 0.8958333333333334,\n",
       " 0.9270833333333333,\n",
       " 0.9479166666666666,\n",
       " 0.9375,\n",
       " 0.9479166666666667,\n",
       " 0.90625,\n",
       " 0.90625,\n",
       " 0.90625,\n",
       " 0.8958333333333334,\n",
       " 0.9791666666666666,\n",
       " 1.0,\n",
       " 0.9791666666666666,\n",
       " 1.0,\n",
       " 0.9583333333333333,\n",
       " 0.9791666666666666,\n",
       " 0.9895833333333334,\n",
       " 0.9895833333333334,\n",
       " 0.9895833333333334,\n",
       " 0.9479166666666666,\n",
       " 0.9479166666666667]"
      ]
     },
     "execution_count": 17,
     "metadata": {},
     "output_type": "execute_result"
    }
   ],
   "source": [
    "auc_days_n_loocv"
   ]
  },
  {
   "cell_type": "code",
   "execution_count": 19,
   "metadata": {
    "scrolled": true
   },
   "outputs": [
    {
     "data": {
      "image/png": "[encoded data removed]",
      "text/plain": [
       "<Figure size 800x600 with 1 Axes>"
      ]
     },
     "metadata": {},
     "output_type": "display_data"
    }
   ],
   "source": [
    "plt.figure(figsize=(8, 6))\n",
    "plt.plot(range(1, 31), auc_days_n_kfold, marker='o')\n",
    "plt.xlabel('Number of Days', fontsize=10)\n",
    "plt.ylabel('Average AUC', fontsize=10)\n",
    "plt.title('Performance vs. Number of Days', fontweight='bold', fontsize=15, pad=10)\n",
    "plt.savefig('Min days K fold.pdf', dpi=1000, bbox_inches='tight')\n",
    "plt.show()"
   ]
  },
  {
   "cell_type": "code",
   "execution_count": 20,
   "metadata": {
    "scrolled": true
   },
   "outputs": [
    {
     "data": {
      "image/png": "[encoded data removed]",
      "text/plain": [
       "<Figure size 800x600 with 1 Axes>"
      ]
     },
     "metadata": {},
     "output_type": "display_data"
    }
   ],
   "source": [
    "plt.figure(figsize=(8, 6))\n",
    "plt.plot(range(1, 31), auc_days_n_loocv, marker='o')\n",
    "plt.xlabel('Number of Days', fontsize=10)\n",
    "plt.ylabel('AUC', fontsize=10)\n",
    "plt.title('Performance vs. Number of Days', fontweight='bold', fontsize=15, pad=10)\n",
    "plt.savefig('Min days loocv.pdf', dpi=1000, bbox_inches='tight')\n",
    "plt.show()"
   ]
  },
  {
   "cell_type": "code",
   "execution_count": null,
   "metadata": {},
   "outputs": [],
   "source": []
  }
 ],
 "metadata": {
  "kernelspec": {
   "display_name": "Python 3.11",
   "language": "python",
   "name": "python-3.11"
  },
  "language_info": {
   "codemirror_mode": {
    "name": "ipython",
    "version": 3
   },
   "file_extension": ".py",
   "mimetype": "text/x-python",
   "name": "python",
   "nbconvert_exporter": "python",
   "pygments_lexer": "ipython3",
   "version": "3.11.1"
  }
 },
 "nbformat": 4,
 "nbformat_minor": 4
}
