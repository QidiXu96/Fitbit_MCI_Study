{
 "cells": [
  {
   "cell_type": "code",
   "execution_count": 6,
   "metadata": {},
   "outputs": [],
   "source": [
    "import pandas as pd\n",
    "import numpy as np\n",
    "import featuretools as ft\n",
    "import matplotlib.pyplot as plt\n",
    "import sklearn\n",
    "import shap\n",
    "from catboost import CatBoostClassifier\n",
    "from sklearn.preprocessing import StandardScaler\n",
    "from sklearn.model_selection import KFold\n",
    "from sklearn.model_selection import RepeatedKFold\n",
    "from sklearn.model_selection import LeaveOneOut\n",
    "from sklearn.metrics import roc_curve, roc_auc_score, auc"
   ]
  },
  {
   "cell_type": "code",
   "execution_count": 7,
   "metadata": {},
   "outputs": [],
   "source": [
    "import warnings\n",
    "warnings.filterwarnings(\"ignore\", \"is_categorical_dtype\")"
   ]
  },
  {
   "cell_type": "markdown",
   "metadata": {},
   "source": [
    "## Read Data"
   ]
  },
  {
   "cell_type": "code",
   "execution_count": 11,
   "metadata": {},
   "outputs": [],
   "source": [
    "activity = pd.read_csv('activity.txt', sep='\\t') \n",
    "activity = activity.drop(['gender', 'race', 'caloriesBMR'], axis = 1)"
   ]
  },
  {
   "cell_type": "code",
   "execution_count": 12,
   "metadata": {
    "scrolled": false
   },
   "outputs": [],
   "source": [
    "sleep = pd.read_csv('sleep.txt', sep='\\t') "
   ]
  },
  {
   "cell_type": "code",
   "execution_count": 13,
   "metadata": {},
   "outputs": [],
   "source": [
    "#divide into main sleep and naps\n",
    "def classify_sleep(row):\n",
    "    main_sleep_conditions = all(pd.isna(row[key]) for key in ['asleep_count', 'asleep_minutes', \n",
    "                                                             'awake_count', 'awake_minutes',\n",
    "                                                             'restless_minutes', 'restless_count'])\n",
    "    nap_conditions = all(pd.isna(row[key]) for key in ['deep_count', 'deep_minutes', 'deep_thirtyDayAvgMinutes', \n",
    "                                                      'light_count', 'light_minutes', 'light_thirtyDayAvgMinutes',\n",
    "                                                      'rem_count', 'rem_minutes', 'rem_thirtyDayAvgMinutes',\n",
    "                                                      'wake_count', 'wake_minutes', 'wake_thirtyDayAvgMinutes'])\n",
    "    if nap_conditions:\n",
    "        return \"Nap\"\n",
    "    elif main_sleep_conditions:\n",
    "        return \"Main Sleep\"\n",
    "    else:\n",
    "        return \"Inconclusive\" \n",
    "\n",
    "sleep['classification'] = sleep.apply(classify_sleep, axis=1)"
   ]
  },
  {
   "cell_type": "code",
   "execution_count": 14,
   "metadata": {},
   "outputs": [],
   "source": [
    "mainsleep = sleep[sleep['classification']=='Main Sleep']\n",
    "mainsleep = mainsleep.drop(['isMainSleep', 'classification',\n",
    "                'gender', 'race'], axis=1) \n",
    "mainsleep = mainsleep.dropna(axis = 1)"
   ]
  },
  {
   "cell_type": "markdown",
   "metadata": {},
   "source": [
    "## activity + heart rate + mian sleep"
   ]
  },
  {
   "cell_type": "code",
   "execution_count": 16,
   "metadata": {},
   "outputs": [],
   "source": [
    "common_features = ['label', 'participant', 'age', 'date']\n",
    "df = pd.merge(activity, mainsleep, on=common_features, how='inner')"
   ]
  },
  {
   "cell_type": "code",
   "execution_count": 18,
   "metadata": {},
   "outputs": [],
   "source": [
    "unique_df = df[['participant', 'label']].drop_duplicates()\n",
    "unique_df.set_index('participant', inplace=True)"
   ]
  },
  {
   "cell_type": "code",
   "execution_count": 20,
   "metadata": {},
   "outputs": [],
   "source": [
    "df = df.drop(['label', 'date'], axis = 1)"
   ]
  },
  {
   "cell_type": "markdown",
   "metadata": {},
   "source": [
    "## Featuretools"
   ]
  },
  {
   "cell_type": "code",
   "execution_count": 21,
   "metadata": {},
   "outputs": [
    {
     "data": {
      "text/plain": [
       "Entityset: data_activities_heart_mainsleep\n",
       "  DataFrames:\n",
       "    AHM [Rows: 570, Columns: 58]\n",
       "  Relationships:\n",
       "    No relationships"
      ]
     },
     "execution_count": 21,
     "metadata": {},
     "output_type": "execute_result"
    }
   ],
   "source": [
    "es = ft.EntitySet(id = 'data_activities_heart_mainsleep')\n",
    "es.add_dataframe(dataframe_name = 'AHM', dataframe = df, make_index = True, index = 'ahm_index')"
   ]
  },
  {
   "cell_type": "code",
   "execution_count": 22,
   "metadata": {},
   "outputs": [
    {
     "data": {
      "text/plain": [
       "Entityset: data_activities_heart_mainsleep\n",
       "  DataFrames:\n",
       "    AHM [Rows: 570, Columns: 57]\n",
       "    person [Rows: 20, Columns: 2]\n",
       "  Relationships:\n",
       "    AHM.participant -> person.participant"
      ]
     },
     "execution_count": 22,
     "metadata": {},
     "output_type": "execute_result"
    }
   ],
   "source": [
    "es.normalize_dataframe(base_dataframe_name='AHM', new_dataframe_name='person', index = 'participant', \n",
    "            additional_columns = ['age'])"
   ]
  },
  {
   "cell_type": "code",
   "execution_count": 23,
   "metadata": {},
   "outputs": [
    {
     "name": "stdout",
     "output_type": "stream",
     "text": [
      "Built 332 features\n",
      "Elapsed: 00:00 | Progress: 100%|████████████████████████████████████████████████\n"
     ]
    }
   ],
   "source": [
    "feature_matrix, feature_names = ft.dfs(entityset=es, \n",
    "target_dataframe_name = 'person', \n",
    "max_depth = 2, \n",
    "verbose = 1 \n",
    ")"
   ]
  },
  {
   "cell_type": "markdown",
   "metadata": {},
   "source": [
    "## Feature Selection"
   ]
  },
  {
   "cell_type": "code",
   "execution_count": 24,
   "metadata": {},
   "outputs": [],
   "source": [
    "y = unique_df['label']\n",
    "X = feature_matrix"
   ]
  },
  {
   "cell_type": "code",
   "execution_count": 93,
   "metadata": {},
   "outputs": [],
   "source": [
    "alpha = 0.02\n",
    "kf = KFold(n_splits=5, shuffle=True, random_state=42) \n",
    "\n",
    "ix_training, ix_test = [], []\n",
    "\n",
    "for fold in kf.split(X):\n",
    "    ix_training.append(fold[0]), ix_test.append(fold[1])\n",
    "\n",
    "models = []\n",
    "auc_scores = []\n",
    "feature_occurrences = {} \n",
    "\n",
    "for i, (train_outer_ix, test_outer_ix) in enumerate(zip(ix_training, ix_test)): \n",
    "    X_train, y_train = X.iloc[train_outer_ix], y.iloc[train_outer_ix]\n",
    "    X_test, y_test = X.iloc[test_outer_ix], y.iloc[test_outer_ix]\n",
    "    \n",
    "    #model\n",
    "    model = CatBoostClassifier(iterations=200, learning_rate=0.01, depth=6, l2_leaf_reg=3, random_seed=8, \n",
    "                               loss_function='Logloss')\n",
    "    model.fit(X_train, y_train, cat_features = [], verbose = 0)\n",
    "    \n",
    "    #SHAP in training\n",
    "    explainer = shap.TreeExplainer(model)\n",
    "    shap_values = explainer.shap_values(X_train) \n",
    "    shap_importance = np.mean(np.abs(np.array(shap_values)), axis = 0)\n",
    "    important_features = np.array(X_train.columns)[shap_importance > alpha]\n",
    "\n",
    "    #count\n",
    "    for feature in important_features:\n",
    "        if feature in feature_occurrences:\n",
    "            feature_occurrences[feature] += 1\n",
    "        else:\n",
    "            feature_occurrences[feature] = 1\n",
    "\n",
    "    #test with selected features\n",
    "    X_train_selected = X_train[important_features]\n",
    "    X_test_selected = X_test[important_features]\n",
    "\n",
    "    model.fit(X_train_selected, y_train, cat_features = [], verbose = 0)\n",
    "    \n",
    "    yhat_probs = model.predict_proba(X_test_selected)[:, 1]\n",
    "    \n",
    "    try:\n",
    "        auc = roc_auc_score(y_test, yhat_probs)\n",
    "        auc_scores.append(auc)\n",
    "    except ValueError:\n",
    "        auc_scores.append(float('nan'))\n",
    "        \n",
    "    models.append(model)\n"
   ]
  },
  {
   "cell_type": "code",
   "execution_count": 94,
   "metadata": {},
   "outputs": [
    {
     "name": "stdout",
     "output_type": "stream",
     "text": [
      "The mean AUC of the 5 folds is  1.0\n",
      "The std AUC of the 5 folds is  0.0\n"
     ]
    }
   ],
   "source": [
    "print('The mean AUC of the 5 folds is ', np.nanmean(auc_scores))\n",
    "print('The std AUC of the 5 folds is ', np.nanstd(auc_scores))"
   ]
  },
  {
   "cell_type": "code",
   "execution_count": 95,
   "metadata": {},
   "outputs": [],
   "source": [
    "final_selected_features = [feature for feature, count in feature_occurrences.items() if count >= 2]"
   ]
  },
  {
   "cell_type": "code",
   "execution_count": 96,
   "metadata": {},
   "outputs": [],
   "source": [
    "X_filtered = X[final_selected_features]"
   ]
  },
  {
   "cell_type": "code",
   "execution_count": 97,
   "metadata": {},
   "outputs": [
    {
     "name": "stdout",
     "output_type": "stream",
     "text": [
      "(20, 17)\n",
      "(20,)\n"
     ]
    }
   ],
   "source": [
    "print(X_filtered.shape)\n",
    "print(y.shape)"
   ]
  },
  {
   "cell_type": "code",
   "execution_count": 99,
   "metadata": {},
   "outputs": [],
   "source": [
    "from sklearn.preprocessing import StandardScaler\n",
    "scaler_z = StandardScaler()\n",
    "original_index = X_filtered.index\n",
    "scaled_data = scaler_z.fit_transform(X_filtered)\n",
    "X_filtered = pd.DataFrame(scaled_data, index=original_index, columns=X_filtered.columns)"
   ]
  },
  {
   "cell_type": "markdown",
   "metadata": {},
   "source": [
    "## Evaluation"
   ]
  },
  {
   "cell_type": "markdown",
   "metadata": {},
   "source": [
    "### Catboost"
   ]
  },
  {
   "cell_type": "code",
   "execution_count": 105,
   "metadata": {},
   "outputs": [],
   "source": [
    "rkf = RepeatedKFold(n_splits=5, n_repeats=5, random_state=42)\n",
    "\n",
    "models = []\n",
    "r_auc_scores = []\n",
    "all_shap_values = []\n",
    "all_X_tests = []\n",
    "\n",
    "for i, (train_outer_ix, test_outer_ix) in enumerate(rkf.split(X_filtered)): \n",
    "    X_train, y_train = X_filtered.iloc[train_outer_ix], y.iloc[train_outer_ix]\n",
    "    X_test, y_test = X_filtered.iloc[test_outer_ix], y.iloc[test_outer_ix]\n",
    "    \n",
    "    model = CatBoostClassifier(iterations=200, learning_rate=0.01, depth=8, l2_leaf_reg=3, random_seed=8, \n",
    "                               loss_function='Logloss')\n",
    "    model.fit(X_train, y_train, cat_features=[], verbose=0)\n",
    "    \n",
    "    #test\n",
    "    yhat_probs = model.predict_proba(X_test)[:, 1]\n",
    "    yhat_labels = model.predict(X_test)\n",
    "    \n",
    "    #auc\n",
    "    try:\n",
    "        auc = roc_auc_score(y_test, yhat_probs)\n",
    "        r_auc_scores.append(auc)\n",
    "    except ValueError:\n",
    "        r_auc_scores.append(float('nan')) \n",
    "        \n",
    "    #compute SHAP values for the current test set\n",
    "    explainer = shap.Explainer(model)\n",
    "    shap_values = explainer.shap_values(X_test)\n",
    "    all_shap_values.append(shap_values)\n",
    "    all_X_tests.append(X_test)\n",
    "\n",
    "    models.append(model)"
   ]
  },
  {
   "cell_type": "code",
   "execution_count": 106,
   "metadata": {},
   "outputs": [
    {
     "name": "stdout",
     "output_type": "stream",
     "text": [
      "Mean AUC using Kfold after feature selection: 1.0\n"
     ]
    }
   ],
   "source": [
    "mean_auc = np.nanmean(r_auc_scores)\n",
    "print(\"Mean AUC using Kfold after feature selection:\", mean_auc)"
   ]
  },
  {
   "cell_type": "code",
   "execution_count": 112,
   "metadata": {},
   "outputs": [],
   "source": [
    "cv = LeaveOneOut()\n",
    "\n",
    "models = []\n",
    "all_y_test = []\n",
    "all_yhat_probs = []\n",
    "\n",
    "for train_ix, test_ix in cv.split(X_filtered):\n",
    "    X_train, y_train = X_filtered.iloc[train_ix], y.iloc[train_ix]\n",
    "    X_test, y_test = X_filtered.iloc[test_ix], y.iloc[test_ix]\n",
    "    \n",
    "    userids_test = X_filtered.iloc[test_ix].index.values\n",
    "\n",
    "    model = CatBoostClassifier(iterations=200, learning_rate=0.01, depth=8, l2_leaf_reg=3, random_seed=7, \n",
    "                               loss_function='Logloss')\n",
    "    model.fit(X_train, y_train, cat_features = [], verbose = 0)\n",
    "\n",
    "    yhat_probs = model.predict_proba(X_test)[:, 1]\n",
    "    \n",
    "    #predict labels\n",
    "    yhat_labels = model.predict(X_test)\n",
    "    \n",
    "    all_y_test.extend(y_test)\n",
    "    all_yhat_probs.extend(yhat_probs)\n",
    "        \n",
    "    models.append(model)"
   ]
  },
  {
   "cell_type": "code",
   "execution_count": 113,
   "metadata": {},
   "outputs": [
    {
     "name": "stdout",
     "output_type": "stream",
     "text": [
      "AUC Score across all LOOCV iterations: 1.0\n"
     ]
    }
   ],
   "source": [
    "auc = roc_auc_score(all_y_test, all_yhat_probs)\n",
    "print(\"AUC Score across all LOOCV iterations:\", auc)"
   ]
  },
  {
   "cell_type": "markdown",
   "metadata": {},
   "source": [
    "### RF"
   ]
  },
  {
   "cell_type": "code",
   "execution_count": 116,
   "metadata": {},
   "outputs": [],
   "source": [
    "from sklearn.ensemble import RandomForestClassifier\n",
    "\n",
    "rkf = RepeatedKFold(n_splits=5, n_repeats=5, random_state=42)\n",
    "\n",
    "models = []\n",
    "r_auc_scores = []\n",
    "\n",
    "for i, (train_outer_ix, test_outer_ix) in enumerate(rkf.split(X_filtered)): \n",
    "    X_train, y_train = X_filtered.iloc[train_outer_ix], y.iloc[train_outer_ix]\n",
    "    X_test, y_test = X_filtered.iloc[test_outer_ix], y.iloc[test_outer_ix]\n",
    "    \n",
    "    model = RandomForestClassifier(n_estimators=200, max_depth=8, random_state=7)\n",
    "    model.fit(X_train, y_train)\n",
    "    \n",
    "    #test\n",
    "    yhat_probs = model.predict_proba(X_test)[:, 1]\n",
    "    \n",
    "    #auc\n",
    "    try:\n",
    "        auc = roc_auc_score(y_test, yhat_probs)\n",
    "        r_auc_scores.append(auc)\n",
    "    except ValueError:\n",
    "        r_auc_scores.append(float('nan')) \n",
    "    \n",
    "    models.append(model)"
   ]
  },
  {
   "cell_type": "code",
   "execution_count": 117,
   "metadata": {},
   "outputs": [
    {
     "name": "stdout",
     "output_type": "stream",
     "text": [
      "Mean AUC using Repeated Kfold after feature selection: 0.9880952380952381\n"
     ]
    }
   ],
   "source": [
    "mean_auc = np.nanmean(r_auc_scores)\n",
    "print(\"Mean AUC using Repeated Kfold after feature selection:\", mean_auc)"
   ]
  },
  {
   "cell_type": "code",
   "execution_count": 120,
   "metadata": {},
   "outputs": [],
   "source": [
    "cv = LeaveOneOut()\n",
    "\n",
    "models = []\n",
    "all_y_test = []\n",
    "all_yhat_probs = []\n",
    "\n",
    "for train_ix, test_ix in cv.split(X_filtered):\n",
    "    X_train, y_train = X_filtered.iloc[train_ix], y.iloc[train_ix]\n",
    "    X_test, y_test = X_filtered.iloc[test_ix], y.iloc[test_ix]\n",
    "\n",
    "    model = RandomForestClassifier(n_estimators=200, max_depth=8, random_state=7)\n",
    "    model.fit(X_train, y_train)\n",
    "\n",
    "    yhat_probs = model.predict_proba(X_test)[:, 1]\n",
    "    \n",
    "    all_y_test.extend(y_test)\n",
    "    all_yhat_probs.extend(yhat_probs)\n",
    "        \n",
    "    models.append(model)"
   ]
  },
  {
   "cell_type": "code",
   "execution_count": 121,
   "metadata": {},
   "outputs": [
    {
     "name": "stdout",
     "output_type": "stream",
     "text": [
      "AUC Score across all LOOCV iterations: 0.9791666666666666\n"
     ]
    }
   ],
   "source": [
    "auc = roc_auc_score(all_y_test, all_yhat_probs)\n",
    "print(\"AUC Score across all LOOCV iterations:\", auc)"
   ]
  },
  {
   "cell_type": "markdown",
   "metadata": {},
   "source": [
    "### XGBoost"
   ]
  },
  {
   "cell_type": "code",
   "execution_count": 122,
   "metadata": {},
   "outputs": [],
   "source": [
    "import xgboost as xgb\n",
    "rkf = RepeatedKFold(n_splits=5, n_repeats=5, random_state=42)\n",
    "\n",
    "models = []\n",
    "r_auc_scores = []\n",
    "\n",
    "for i, (train_outer_ix, test_outer_ix) in enumerate(rkf.split(X_filtered)): \n",
    "    X_train, y_train = X_filtered.iloc[train_outer_ix], y.iloc[train_outer_ix]\n",
    "    X_test, y_test = X_filtered.iloc[test_outer_ix], y.iloc[test_outer_ix]\n",
    "    \n",
    "    model = xgb.XGBClassifier(n_estimators=200, learning_rate=0.01, max_depth=8, \n",
    "                              random_state=7, use_label_encoder=False, eval_metric=\"logloss\")\n",
    "    model.fit(X_train, y_train, verbose=0)\n",
    "    \n",
    "    #test\n",
    "    yhat_probs = model.predict_proba(X_test)[:, 1]\n",
    "    \n",
    "    #auc\n",
    "    try:\n",
    "        auc = roc_auc_score(y_test, yhat_probs)\n",
    "        r_auc_scores.append(auc)\n",
    "    except ValueError:\n",
    "        r_auc_scores.append(float('nan')) \n",
    "    \n",
    "    models.append(model)"
   ]
  },
  {
   "cell_type": "code",
   "execution_count": 123,
   "metadata": {},
   "outputs": [
    {
     "name": "stdout",
     "output_type": "stream",
     "text": [
      "Mean AUC using Repeated Kfold after feature selection: 0.9166666666666666\n"
     ]
    }
   ],
   "source": [
    "mean_auc = np.nanmean(r_auc_scores)\n",
    "print(\"Mean AUC using Repeated Kfold after feature selection:\", mean_auc)"
   ]
  },
  {
   "cell_type": "code",
   "execution_count": 124,
   "metadata": {},
   "outputs": [],
   "source": [
    "cv = LeaveOneOut()\n",
    "\n",
    "models = []\n",
    "all_y_test = []\n",
    "all_yhat_probs = []\n",
    "\n",
    "for train_ix, test_ix in cv.split(X_filtered):\n",
    "    X_train, y_train = X_filtered.iloc[train_ix], y.iloc[train_ix]\n",
    "    X_test, y_test = X_filtered.iloc[test_ix], y.iloc[test_ix]\n",
    "\n",
    "    model = xgb.XGBClassifier(n_estimators=200, learning_rate=0.01, max_depth=8, \n",
    "                              random_state=7, use_label_encoder=False, eval_metric=\"logloss\")\n",
    "    model.fit(X_train, y_train, verbose=10)\n",
    "\n",
    "    yhat_probs = model.predict_proba(X_test)[:, 1]\n",
    "    \n",
    "    all_y_test.extend(y_test)\n",
    "    all_yhat_probs.extend(yhat_probs)\n",
    "        \n",
    "    models.append(model)"
   ]
  },
  {
   "cell_type": "code",
   "execution_count": 125,
   "metadata": {},
   "outputs": [
    {
     "name": "stdout",
     "output_type": "stream",
     "text": [
      "AUC Score across all LOOCV iterations: 0.8333333333333333\n"
     ]
    }
   ],
   "source": [
    "auc = roc_auc_score(all_y_test, all_yhat_probs)\n",
    "print(\"AUC Score across all LOOCV iterations:\", auc)"
   ]
  },
  {
   "cell_type": "markdown",
   "metadata": {},
   "source": [
    "### SVM"
   ]
  },
  {
   "cell_type": "code",
   "execution_count": 126,
   "metadata": {},
   "outputs": [],
   "source": [
    "from sklearn.svm import SVC\n",
    "\n",
    "rkf = RepeatedKFold(n_splits=5, n_repeats=5, random_state=42)\n",
    "\n",
    "models = []\n",
    "r_auc_scores = []\n",
    "\n",
    "for i, (train_outer_ix, test_outer_ix) in enumerate(rkf.split(X_filtered)): \n",
    "    X_train, y_train = X_filtered.iloc[train_outer_ix], y.iloc[train_outer_ix]\n",
    "    X_test, y_test = X_filtered.iloc[test_outer_ix], y.iloc[test_outer_ix]\n",
    "    \n",
    "    model = SVC(probability=True, kernel='linear', random_state=7)\n",
    "    model.fit(X_train, y_train)\n",
    "    \n",
    "    #test\n",
    "    yhat_probs = model.predict_proba(X_test)[:, 1]\n",
    "    \n",
    "    #auc\n",
    "    try:\n",
    "        auc = roc_auc_score(y_test, yhat_probs)\n",
    "        r_auc_scores.append(auc)\n",
    "    except ValueError:\n",
    "        r_auc_scores.append(float('nan')) \n",
    "    \n",
    "    models.append(model)"
   ]
  },
  {
   "cell_type": "code",
   "execution_count": 127,
   "metadata": {},
   "outputs": [
    {
     "name": "stdout",
     "output_type": "stream",
     "text": [
      "Mean AUC using Repeated Kfold after feature selection: 0.9484126984126983\n"
     ]
    }
   ],
   "source": [
    "mean_auc = np.nanmean(r_auc_scores)\n",
    "print(\"Mean AUC using Repeated Kfold after feature selection:\", mean_auc)"
   ]
  },
  {
   "cell_type": "code",
   "execution_count": 130,
   "metadata": {},
   "outputs": [],
   "source": [
    "cv = LeaveOneOut()\n",
    "\n",
    "models = []\n",
    "all_y_test = []\n",
    "all_yhat_probs = []\n",
    "\n",
    "for train_ix, test_ix in cv.split(X_filtered):\n",
    "    X_train, y_train = X_filtered.iloc[train_ix], y.iloc[train_ix]\n",
    "    X_test, y_test = X_filtered.iloc[test_ix], y.iloc[test_ix]\n",
    "\n",
    "    model = SVC(probability=True, kernel='linear', random_state=7)\n",
    "    model.fit(X_train, y_train)\n",
    "    \n",
    "    yhat_probs = model.predict_proba(X_test)[:, 1]\n",
    "    \n",
    "    all_y_test.extend(y_test)\n",
    "    all_yhat_probs.extend(yhat_probs)\n",
    "        \n",
    "    models.append(model)"
   ]
  },
  {
   "cell_type": "code",
   "execution_count": 131,
   "metadata": {},
   "outputs": [
    {
     "name": "stdout",
     "output_type": "stream",
     "text": [
      "AUC Score across all LOOCV iterations: 0.9270833333333334\n"
     ]
    }
   ],
   "source": [
    "auc = roc_auc_score(all_y_test, all_yhat_probs)\n",
    "print(\"AUC Score across all LOOCV iterations:\", auc)"
   ]
  },
  {
   "cell_type": "markdown",
   "metadata": {},
   "source": [
    "### LR"
   ]
  },
  {
   "cell_type": "code",
   "execution_count": 132,
   "metadata": {},
   "outputs": [],
   "source": [
    "from sklearn.linear_model import LogisticRegression\n",
    "\n",
    "rkf = RepeatedKFold(n_splits=5, n_repeats=5, random_state=42)\n",
    "\n",
    "models = []\n",
    "r_auc_scores = []\n",
    "\n",
    "for i, (train_outer_ix, test_outer_ix) in enumerate(rkf.split(X_filtered)): \n",
    "    X_train, y_train = X_filtered.iloc[train_outer_ix], y.iloc[train_outer_ix]\n",
    "    X_test, y_test = X_filtered.iloc[test_outer_ix], y.iloc[test_outer_ix]\n",
    "    \n",
    "    model = LogisticRegression(random_state=7, max_iter=200)\n",
    "    model.fit(X_train, y_train)\n",
    "    \n",
    "    #test\n",
    "    yhat_probs = model.predict_proba(X_test)[:, 1]\n",
    "    \n",
    "    #auc\n",
    "    try:\n",
    "        auc = roc_auc_score(y_test, yhat_probs)\n",
    "        r_auc_scores.append(auc)\n",
    "    except ValueError:\n",
    "        r_auc_scores.append(float('nan')) \n",
    "    \n",
    "    models.append(model)"
   ]
  },
  {
   "cell_type": "code",
   "execution_count": 133,
   "metadata": {},
   "outputs": [
    {
     "name": "stdout",
     "output_type": "stream",
     "text": [
      "Mean AUC using Repeated Kfold after feature selection: 0.9603174603174602\n"
     ]
    }
   ],
   "source": [
    "mean_auc = np.nanmean(r_auc_scores)\n",
    "print(\"Mean AUC using Repeated Kfold after feature selection:\", mean_auc)"
   ]
  },
  {
   "cell_type": "code",
   "execution_count": 134,
   "metadata": {},
   "outputs": [],
   "source": [
    "cv = LeaveOneOut()\n",
    "\n",
    "models = []\n",
    "all_y_test = []\n",
    "all_yhat_probs = []\n",
    "\n",
    "for train_ix, test_ix in cv.split(X_filtered):\n",
    "    X_train, y_train = X_filtered.iloc[train_ix], y.iloc[train_ix]\n",
    "    X_test, y_test = X_filtered.iloc[test_ix], y.iloc[test_ix]\n",
    "\n",
    "    model = LogisticRegression(random_state=7, max_iter=200)\n",
    "    model.fit(X_train, y_train)\n",
    "    \n",
    "    yhat_probs = model.predict_proba(X_test)[:, 1]\n",
    "    \n",
    "    all_y_test.extend(y_test)\n",
    "    all_yhat_probs.extend(yhat_probs)\n",
    "        \n",
    "    models.append(model)"
   ]
  },
  {
   "cell_type": "code",
   "execution_count": 135,
   "metadata": {},
   "outputs": [
    {
     "name": "stdout",
     "output_type": "stream",
     "text": [
      "AUC Score across all LOOCV iterations: 0.9791666666666666\n"
     ]
    }
   ],
   "source": [
    "auc = roc_auc_score(all_y_test, all_yhat_probs)\n",
    "print(\"AUC Score across all LOOCV iterations:\", auc)"
   ]
  },
  {
   "cell_type": "markdown",
   "metadata": {},
   "source": [
    "### GNB"
   ]
  },
  {
   "cell_type": "code",
   "execution_count": 136,
   "metadata": {},
   "outputs": [],
   "source": [
    "from sklearn.naive_bayes import GaussianNB\n",
    "\n",
    "rkf = RepeatedKFold(n_splits=5, n_repeats=5, random_state=42)\n",
    "\n",
    "models = []\n",
    "r_auc_scores = []\n",
    "\n",
    "for i, (train_outer_ix, test_outer_ix) in enumerate(rkf.split(X_filtered)): \n",
    "    X_train, y_train = X_filtered.iloc[train_outer_ix], y.iloc[train_outer_ix]\n",
    "    X_test, y_test = X_filtered.iloc[test_outer_ix], y.iloc[test_outer_ix]\n",
    "    \n",
    "    model = GaussianNB()\n",
    "    model.fit(X_train, y_train)\n",
    "    \n",
    "    #test\n",
    "    yhat_probs = model.predict_proba(X_test)[:, 1]\n",
    "    \n",
    "    #auc\n",
    "    try:\n",
    "        auc = roc_auc_score(y_test, yhat_probs)\n",
    "        r_auc_scores.append(auc)\n",
    "    except ValueError:\n",
    "        r_auc_scores.append(float('nan')) \n",
    "    \n",
    "    models.append(model)"
   ]
  },
  {
   "cell_type": "code",
   "execution_count": 137,
   "metadata": {},
   "outputs": [
    {
     "name": "stdout",
     "output_type": "stream",
     "text": [
      "Mean AUC using Repeated Kfold after feature selection: 0.9841269841269842\n"
     ]
    }
   ],
   "source": [
    "mean_auc = np.nanmean(r_auc_scores)\n",
    "print(\"Mean AUC using Repeated Kfold after feature selection:\", mean_auc)"
   ]
  },
  {
   "cell_type": "code",
   "execution_count": 138,
   "metadata": {},
   "outputs": [],
   "source": [
    "cv = LeaveOneOut()\n",
    "\n",
    "models = []\n",
    "all_y_test = []\n",
    "all_yhat_probs = []\n",
    "\n",
    "for train_ix, test_ix in cv.split(X_filtered):\n",
    "    X_train, y_train = X_filtered.iloc[train_ix], y.iloc[train_ix]\n",
    "    X_test, y_test = X_filtered.iloc[test_ix], y.iloc[test_ix]\n",
    "\n",
    "    model = GaussianNB()\n",
    "    model.fit(X_train, y_train)\n",
    "    \n",
    "    yhat_probs = model.predict_proba(X_test)[:, 1]\n",
    "    \n",
    "    all_y_test.extend(y_test)\n",
    "    all_yhat_probs.extend(yhat_probs)\n",
    "        \n",
    "    models.append(model)"
   ]
  },
  {
   "cell_type": "code",
   "execution_count": 139,
   "metadata": {},
   "outputs": [
    {
     "name": "stdout",
     "output_type": "stream",
     "text": [
      "AUC Score across all LOOCV iterations: 0.9375\n"
     ]
    }
   ],
   "source": [
    "auc = roc_auc_score(all_y_test, all_yhat_probs)\n",
    "print(\"AUC Score across all LOOCV iterations:\", auc)"
   ]
  },
  {
   "cell_type": "code",
   "execution_count": null,
   "metadata": {},
   "outputs": [],
   "source": []
  },
  {
   "cell_type": "code",
   "execution_count": null,
   "metadata": {},
   "outputs": [],
   "source": []
  },
  {
   "cell_type": "markdown",
   "metadata": {},
   "source": [
    "## activity + heart rate + naps"
   ]
  },
  {
   "cell_type": "code",
   "execution_count": 140,
   "metadata": {},
   "outputs": [],
   "source": [
    "naps = sleep[sleep['classification']=='Nap']\n",
    "naps = naps.drop(['isMainSleep', 'classification', 'gender', 'race'], axis=1) \n",
    "naps = naps.dropna(axis = 1)"
   ]
  },
  {
   "cell_type": "code",
   "execution_count": 141,
   "metadata": {},
   "outputs": [],
   "source": [
    "common_features = ['label', 'participant', 'age', 'date']\n",
    "df = pd.merge(activity, naps, on=common_features, how='inner')"
   ]
  },
  {
   "cell_type": "code",
   "execution_count": 143,
   "metadata": {},
   "outputs": [],
   "source": [
    "unique_df = df[['participant', 'label']].drop_duplicates()\n",
    "unique_df.set_index('participant', inplace=True)"
   ]
  },
  {
   "cell_type": "code",
   "execution_count": 144,
   "metadata": {},
   "outputs": [],
   "source": [
    "df = df.drop(['label', 'date'], axis = 1)"
   ]
  },
  {
   "cell_type": "markdown",
   "metadata": {},
   "source": [
    "## Featuretools"
   ]
  },
  {
   "cell_type": "code",
   "execution_count": 145,
   "metadata": {},
   "outputs": [
    {
     "data": {
      "text/plain": [
       "Entityset: data_activities_heart_nap\n",
       "  DataFrames:\n",
       "    AHN [Rows: 204, Columns: 52]\n",
       "  Relationships:\n",
       "    No relationships"
      ]
     },
     "execution_count": 145,
     "metadata": {},
     "output_type": "execute_result"
    }
   ],
   "source": [
    "es = ft.EntitySet(id = 'data_activities_heart_nap')\n",
    "es.add_dataframe(dataframe_name = 'AHN', dataframe = df, make_index = True, index = 'ahn_index')"
   ]
  },
  {
   "cell_type": "code",
   "execution_count": 147,
   "metadata": {},
   "outputs": [
    {
     "data": {
      "text/plain": [
       "Entityset: data_activities_heart_nap\n",
       "  DataFrames:\n",
       "    AHN [Rows: 204, Columns: 51]\n",
       "    person [Rows: 15, Columns: 2]\n",
       "  Relationships:\n",
       "    AHN.participant -> person.participant"
      ]
     },
     "execution_count": 147,
     "metadata": {},
     "output_type": "execute_result"
    }
   ],
   "source": [
    "es.normalize_dataframe(base_dataframe_name='AHN', new_dataframe_name='person', index = 'participant', \n",
    "            additional_columns = ['age'])"
   ]
  },
  {
   "cell_type": "code",
   "execution_count": 148,
   "metadata": {},
   "outputs": [
    {
     "name": "stdout",
     "output_type": "stream",
     "text": [
      "Built 296 features\n",
      "Elapsed: 00:00 | Progress: 100%|████████████████████████████████████████████████\n"
     ]
    }
   ],
   "source": [
    "feature_matrix, feature_names = ft.dfs(entityset=es, \n",
    "target_dataframe_name = 'person', \n",
    "max_depth = 2, \n",
    "verbose = 1 \n",
    ")"
   ]
  },
  {
   "cell_type": "markdown",
   "metadata": {},
   "source": [
    "## Feature Selection"
   ]
  },
  {
   "cell_type": "code",
   "execution_count": 149,
   "metadata": {},
   "outputs": [],
   "source": [
    "y = unique_df['label']\n",
    "X = feature_matrix"
   ]
  },
  {
   "cell_type": "code",
   "execution_count": 167,
   "metadata": {},
   "outputs": [],
   "source": [
    "alpha = 0.02\n",
    "kf = KFold(n_splits=5, shuffle=True, random_state=40) \n",
    "\n",
    "ix_training, ix_test = [], []\n",
    "\n",
    "for fold in kf.split(X):\n",
    "    ix_training.append(fold[0]), ix_test.append(fold[1])\n",
    "\n",
    "models = []\n",
    "auc_scores = []\n",
    "feature_occurrences = {} \n",
    "\n",
    "for i, (train_outer_ix, test_outer_ix) in enumerate(zip(ix_training, ix_test)): \n",
    "    X_train, y_train = X.iloc[train_outer_ix], y.iloc[train_outer_ix]\n",
    "    X_test, y_test = X.iloc[test_outer_ix], y.iloc[test_outer_ix]\n",
    "    \n",
    "    #model\n",
    "    model = CatBoostClassifier(iterations=200, learning_rate=0.01, depth=6, l2_leaf_reg=3, random_seed=7, \n",
    "                               loss_function='Logloss')\n",
    "    model.fit(X_train, y_train, cat_features = [], verbose = 0)\n",
    "\n",
    "    #SHAP in training\n",
    "    explainer = shap.TreeExplainer(model)\n",
    "    shap_values = explainer.shap_values(X_train) \n",
    "    shap_importance = np.mean(np.abs(np.array(shap_values)), axis = 0)\n",
    "    important_features = np.array(X_train.columns)[shap_importance > alpha]\n",
    "\n",
    "    #count\n",
    "    for feature in important_features:\n",
    "        if feature in feature_occurrences:\n",
    "            feature_occurrences[feature] += 1\n",
    "        else:\n",
    "            feature_occurrences[feature] = 1\n",
    "\n",
    "    #test with selected features\n",
    "    X_train_selected = X_train[important_features]\n",
    "    X_test_selected = X_test[important_features]\n",
    "\n",
    "    model.fit(X_train_selected, y_train, cat_features = [], verbose = 0)\n",
    "    \n",
    "    yhat_probs = model.predict_proba(X_test_selected)[:, 1]\n",
    "    \n",
    "    try:\n",
    "        auc = roc_auc_score(y_test, yhat_probs)\n",
    "        auc_scores.append(auc)\n",
    "    except ValueError:\n",
    "        auc_scores.append(float('nan'))\n",
    "        \n",
    "    models.append(model)"
   ]
  },
  {
   "cell_type": "code",
   "execution_count": 168,
   "metadata": {},
   "outputs": [
    {
     "name": "stdout",
     "output_type": "stream",
     "text": [
      "The mean AUC of the 5 folds is  0.6666666666666666\n",
      "The std AUC of the 5 folds is  0.23570226039551584\n"
     ]
    }
   ],
   "source": [
    "print('The mean AUC of the 5 folds is ', np.nanmean(auc_scores))\n",
    "print('The std AUC of the 5 folds is ', np.nanstd(auc_scores))"
   ]
  },
  {
   "cell_type": "code",
   "execution_count": 169,
   "metadata": {},
   "outputs": [],
   "source": [
    "final_selected_features = [feature for feature, count in feature_occurrences.items() if count >= 2]"
   ]
  },
  {
   "cell_type": "code",
   "execution_count": 170,
   "metadata": {},
   "outputs": [
    {
     "name": "stdout",
     "output_type": "stream",
     "text": [
      "(15, 19)\n",
      "(15,)\n"
     ]
    }
   ],
   "source": [
    "X_filtered = X[final_selected_features]\n",
    "print(X_filtered.shape)\n",
    "print(y.shape)"
   ]
  },
  {
   "cell_type": "code",
   "execution_count": 173,
   "metadata": {},
   "outputs": [],
   "source": [
    "from sklearn.preprocessing import StandardScaler\n",
    "scaler_z = StandardScaler()\n",
    "original_index = X_filtered.index\n",
    "scaled_data = scaler_z.fit_transform(X_filtered)\n",
    "X_filtered = pd.DataFrame(scaled_data, index=original_index, columns=X_filtered.columns)"
   ]
  },
  {
   "cell_type": "code",
   "execution_count": 174,
   "metadata": {},
   "outputs": [],
   "source": [
    "from sklearn.impute import KNNImputer\n",
    "original_index = X_filtered.index\n",
    "imputer = KNNImputer(n_neighbors=4)\n",
    "X_imputed = imputer.fit_transform(X_filtered)\n",
    "X_filtered = pd.DataFrame(X_imputed, index=original_index, columns=X_filtered.columns)"
   ]
  },
  {
   "cell_type": "markdown",
   "metadata": {},
   "source": [
    "## Evaluation"
   ]
  },
  {
   "cell_type": "markdown",
   "metadata": {},
   "source": [
    "### CatBoost"
   ]
  },
  {
   "cell_type": "code",
   "execution_count": 176,
   "metadata": {},
   "outputs": [],
   "source": [
    "rkf = RepeatedKFold(n_splits=5, n_repeats=5, random_state=42)\n",
    "\n",
    "models = []\n",
    "r_auc_scores = []\n",
    "all_shap_values = []\n",
    "all_X_tests = []\n",
    "\n",
    "\n",
    "for i, (train_outer_ix, test_outer_ix) in enumerate(rkf.split(X_filtered)): \n",
    "    X_train, y_train = X_filtered.iloc[train_outer_ix], y.iloc[train_outer_ix]\n",
    "    X_test, y_test = X_filtered.iloc[test_outer_ix], y.iloc[test_outer_ix]\n",
    "    \n",
    "    model = CatBoostClassifier(iterations=200, learning_rate=0.01, depth=8, l2_leaf_reg=3, random_seed=7, \n",
    "                               loss_function='Logloss')\n",
    "    model.fit(X_train, y_train, cat_features=[], verbose=0)\n",
    "    \n",
    "    #test\n",
    "    yhat_probs = model.predict_proba(X_test)[:, 1]\n",
    "    \n",
    "    #auc\n",
    "    try:\n",
    "        auc = roc_auc_score(y_test, yhat_probs)\n",
    "        r_auc_scores.append(auc)\n",
    "    except ValueError:\n",
    "        r_auc_scores.append(float('nan')) \n",
    "    \n",
    "    models.append(model)"
   ]
  },
  {
   "cell_type": "code",
   "execution_count": 177,
   "metadata": {},
   "outputs": [
    {
     "name": "stdout",
     "output_type": "stream",
     "text": [
      "Mean AUC using Kfold after feature selection: 0.9444444444444444\n"
     ]
    }
   ],
   "source": [
    "mean_auc = np.nanmean(r_auc_scores)\n",
    "print(\"Mean AUC using Kfold after feature selection:\", mean_auc)"
   ]
  },
  {
   "cell_type": "code",
   "execution_count": 178,
   "metadata": {},
   "outputs": [],
   "source": [
    "cv = LeaveOneOut()\n",
    "\n",
    "models = []\n",
    "all_y_test = []\n",
    "all_yhat_probs = []\n",
    "all_results = []\n",
    "\n",
    "for train_ix, test_ix in cv.split(X_filtered):\n",
    "    X_train, y_train = X_filtered.iloc[train_ix], y.iloc[train_ix]\n",
    "    X_test, y_test = X_filtered.iloc[test_ix], y.iloc[test_ix]\n",
    "    \n",
    "    userids_test = X_filtered.iloc[test_ix].index.values\n",
    "\n",
    "    model = CatBoostClassifier(iterations=200, learning_rate=0.01, depth=8, l2_leaf_reg=3, random_seed=7, \n",
    "                               loss_function='Logloss')\n",
    "    model.fit(X_train, y_train, cat_features = [], verbose = 0)\n",
    "\n",
    "    yhat_probs = model.predict_proba(X_test)[:, 1]\n",
    "    \n",
    "    all_y_test.extend(y_test)\n",
    "    all_yhat_probs.extend(yhat_probs)\n",
    "        \n",
    "    models.append(model)"
   ]
  },
  {
   "cell_type": "code",
   "execution_count": 179,
   "metadata": {},
   "outputs": [
    {
     "name": "stdout",
     "output_type": "stream",
     "text": [
      "AUC Score across all LOOCV iterations: 0.9545454545454546\n"
     ]
    }
   ],
   "source": [
    "auc = roc_auc_score(all_y_test, all_yhat_probs)\n",
    "print(\"AUC Score across all LOOCV iterations:\", auc)"
   ]
  },
  {
   "cell_type": "markdown",
   "metadata": {},
   "source": [
    "### RF"
   ]
  },
  {
   "cell_type": "code",
   "execution_count": 180,
   "metadata": {},
   "outputs": [],
   "source": [
    "from sklearn.ensemble import RandomForestClassifier\n",
    "\n",
    "rkf = RepeatedKFold(n_splits=5, n_repeats=5, random_state=42)\n",
    "\n",
    "models = []\n",
    "r_auc_scores = []\n",
    "\n",
    "for i, (train_outer_ix, test_outer_ix) in enumerate(rkf.split(X_filtered)): \n",
    "    X_train, y_train = X_filtered.iloc[train_outer_ix], y.iloc[train_outer_ix]\n",
    "    X_test, y_test = X_filtered.iloc[test_outer_ix], y.iloc[test_outer_ix]\n",
    "    \n",
    "    model = RandomForestClassifier(n_estimators=200, max_depth=8, random_state=7)\n",
    "    model.fit(X_train, y_train)\n",
    "    \n",
    "    #test\n",
    "    yhat_probs = model.predict_proba(X_test)[:, 1]\n",
    "    \n",
    "    #auc\n",
    "    try:\n",
    "        auc = roc_auc_score(y_test, yhat_probs)\n",
    "        r_auc_scores.append(auc)\n",
    "    except ValueError:\n",
    "        r_auc_scores.append(float('nan')) \n",
    "    \n",
    "    models.append(model)"
   ]
  },
  {
   "cell_type": "code",
   "execution_count": 181,
   "metadata": {},
   "outputs": [
    {
     "name": "stdout",
     "output_type": "stream",
     "text": [
      "Mean AUC using Repeated Kfold after feature selection: 0.9166666666666666\n"
     ]
    }
   ],
   "source": [
    "mean_auc = np.nanmean(r_auc_scores)\n",
    "print(\"Mean AUC using Repeated Kfold after feature selection:\", mean_auc)"
   ]
  },
  {
   "cell_type": "code",
   "execution_count": 182,
   "metadata": {},
   "outputs": [],
   "source": [
    "cv = LeaveOneOut()\n",
    "\n",
    "models = []\n",
    "all_y_test = []\n",
    "all_yhat_probs = []\n",
    "\n",
    "for train_ix, test_ix in cv.split(X_filtered):\n",
    "    X_train, y_train = X_filtered.iloc[train_ix], y.iloc[train_ix]\n",
    "    X_test, y_test = X_filtered.iloc[test_ix], y.iloc[test_ix]\n",
    "\n",
    "    model = RandomForestClassifier(n_estimators=200, max_depth=8, random_state=7)\n",
    "    model.fit(X_train, y_train)\n",
    "\n",
    "    yhat_probs = model.predict_proba(X_test)[:, 1]\n",
    "    \n",
    "    all_y_test.extend(y_test)\n",
    "    all_yhat_probs.extend(yhat_probs)\n",
    "        \n",
    "    models.append(model)"
   ]
  },
  {
   "cell_type": "code",
   "execution_count": 183,
   "metadata": {},
   "outputs": [
    {
     "name": "stdout",
     "output_type": "stream",
     "text": [
      "AUC Score across all LOOCV iterations: 0.8636363636363636\n"
     ]
    }
   ],
   "source": [
    "auc = roc_auc_score(all_y_test, all_yhat_probs)\n",
    "print(\"AUC Score across all LOOCV iterations:\", auc)"
   ]
  },
  {
   "cell_type": "markdown",
   "metadata": {},
   "source": [
    "### XGBoost"
   ]
  },
  {
   "cell_type": "code",
   "execution_count": 184,
   "metadata": {},
   "outputs": [],
   "source": [
    "import xgboost as xgb\n",
    "rkf = RepeatedKFold(n_splits=5, n_repeats=5, random_state=42)\n",
    "\n",
    "models = []\n",
    "r_auc_scores = []\n",
    "\n",
    "for i, (train_outer_ix, test_outer_ix) in enumerate(rkf.split(X_filtered)): \n",
    "    X_train, y_train = X_filtered.iloc[train_outer_ix], y.iloc[train_outer_ix]\n",
    "    X_test, y_test = X_filtered.iloc[test_outer_ix], y.iloc[test_outer_ix]\n",
    "    \n",
    "    model = xgb.XGBClassifier(n_estimators=200, learning_rate=0.01, max_depth=8, \n",
    "                              random_state=7, use_label_encoder=False, eval_metric=\"logloss\")\n",
    "    model.fit(X_train, y_train, verbose=0)\n",
    "    \n",
    "    #test\n",
    "    yhat_probs = model.predict_proba(X_test)[:, 1]\n",
    "    \n",
    "    #auc\n",
    "    try:\n",
    "        auc = roc_auc_score(y_test, yhat_probs)\n",
    "        r_auc_scores.append(auc)\n",
    "    except ValueError:\n",
    "        r_auc_scores.append(float('nan')) \n",
    "    \n",
    "    models.append(model)"
   ]
  },
  {
   "cell_type": "code",
   "execution_count": 185,
   "metadata": {},
   "outputs": [
    {
     "name": "stdout",
     "output_type": "stream",
     "text": [
      "Mean AUC using Repeated Kfold after feature selection: 0.9444444444444444\n"
     ]
    }
   ],
   "source": [
    "mean_auc = np.nanmean(r_auc_scores)\n",
    "print(\"Mean AUC using Repeated Kfold after feature selection:\", mean_auc)"
   ]
  },
  {
   "cell_type": "code",
   "execution_count": 186,
   "metadata": {},
   "outputs": [],
   "source": [
    "cv = LeaveOneOut()\n",
    "\n",
    "models = []\n",
    "all_y_test = []\n",
    "all_yhat_probs = []\n",
    "\n",
    "for train_ix, test_ix in cv.split(X_filtered):\n",
    "    X_train, y_train = X_filtered.iloc[train_ix], y.iloc[train_ix]\n",
    "    X_test, y_test = X_filtered.iloc[test_ix], y.iloc[test_ix]\n",
    "\n",
    "    model = xgb.XGBClassifier(n_estimators=200, learning_rate=0.01, max_depth=8, \n",
    "                              random_state=7, use_label_encoder=False, eval_metric=\"logloss\")\n",
    "    model.fit(X_train, y_train, verbose=0)\n",
    "\n",
    "    yhat_probs = model.predict_proba(X_test)[:, 1]\n",
    "    \n",
    "    all_y_test.extend(y_test)\n",
    "    all_yhat_probs.extend(yhat_probs)\n",
    "        \n",
    "    models.append(model)"
   ]
  },
  {
   "cell_type": "code",
   "execution_count": 187,
   "metadata": {},
   "outputs": [
    {
     "name": "stdout",
     "output_type": "stream",
     "text": [
      "AUC Score across all LOOCV iterations: 0.8181818181818182\n"
     ]
    }
   ],
   "source": [
    "auc = roc_auc_score(all_y_test, all_yhat_probs)\n",
    "print(\"AUC Score across all LOOCV iterations:\", auc)"
   ]
  },
  {
   "cell_type": "markdown",
   "metadata": {},
   "source": [
    "### SVM"
   ]
  },
  {
   "cell_type": "code",
   "execution_count": 188,
   "metadata": {},
   "outputs": [],
   "source": [
    "from sklearn.svm import SVC\n",
    "\n",
    "rkf = RepeatedKFold(n_splits=5, n_repeats=5, random_state=42)\n",
    "\n",
    "models = []\n",
    "r_auc_scores = []\n",
    "\n",
    "for i, (train_outer_ix, test_outer_ix) in enumerate(rkf.split(X_filtered)): \n",
    "    X_train, y_train = X_filtered.iloc[train_outer_ix], y.iloc[train_outer_ix]\n",
    "    X_test, y_test = X_filtered.iloc[test_outer_ix], y.iloc[test_outer_ix]\n",
    "    \n",
    "    model = SVC(probability=True, kernel='linear', random_state=7)\n",
    "    model.fit(X_train, y_train)\n",
    "    \n",
    "    #test\n",
    "    yhat_probs = model.predict_proba(X_test)[:, 1]\n",
    "    \n",
    "    #auc\n",
    "    try:\n",
    "        auc = roc_auc_score(y_test, yhat_probs)\n",
    "        r_auc_scores.append(auc)\n",
    "    except ValueError:\n",
    "        r_auc_scores.append(float('nan')) \n",
    "    \n",
    "    models.append(model)"
   ]
  },
  {
   "cell_type": "code",
   "execution_count": 189,
   "metadata": {},
   "outputs": [
    {
     "name": "stdout",
     "output_type": "stream",
     "text": [
      "Mean AUC using Repeated Kfold after feature selection: 0.8888888888888888\n"
     ]
    }
   ],
   "source": [
    "mean_auc = np.nanmean(r_auc_scores)\n",
    "print(\"Mean AUC using Repeated Kfold after feature selection:\", mean_auc)"
   ]
  },
  {
   "cell_type": "code",
   "execution_count": 190,
   "metadata": {},
   "outputs": [],
   "source": [
    "cv = LeaveOneOut()\n",
    "\n",
    "models = []\n",
    "all_y_test = []\n",
    "all_yhat_probs = []\n",
    "\n",
    "for train_ix, test_ix in cv.split(X_filtered):\n",
    "    X_train, y_train = X_filtered.iloc[train_ix], y.iloc[train_ix]\n",
    "    X_test, y_test = X_filtered.iloc[test_ix], y.iloc[test_ix]\n",
    "\n",
    "    model = SVC(probability=True, kernel='linear', random_state=7)\n",
    "    model.fit(X_train, y_train)\n",
    "    \n",
    "    yhat_probs = model.predict_proba(X_test)[:, 1]\n",
    "    \n",
    "    all_y_test.extend(y_test)\n",
    "    all_yhat_probs.extend(yhat_probs)\n",
    "        \n",
    "    models.append(model)"
   ]
  },
  {
   "cell_type": "code",
   "execution_count": 191,
   "metadata": {},
   "outputs": [
    {
     "name": "stdout",
     "output_type": "stream",
     "text": [
      "AUC Score across all LOOCV iterations: 0.8863636363636364\n"
     ]
    }
   ],
   "source": [
    "auc = roc_auc_score(all_y_test, all_yhat_probs)\n",
    "print(\"AUC Score across all LOOCV iterations:\", auc)"
   ]
  },
  {
   "cell_type": "markdown",
   "metadata": {},
   "source": [
    "### RF"
   ]
  },
  {
   "cell_type": "code",
   "execution_count": 193,
   "metadata": {},
   "outputs": [],
   "source": [
    "from sklearn.linear_model import LogisticRegression\n",
    "\n",
    "rkf = RepeatedKFold(n_splits=5, n_repeats=5, random_state=42)\n",
    "\n",
    "models = []\n",
    "r_auc_scores = []\n",
    "\n",
    "for i, (train_outer_ix, test_outer_ix) in enumerate(rkf.split(X_filtered)): \n",
    "    X_train, y_train = X_filtered.iloc[train_outer_ix], y.iloc[train_outer_ix]\n",
    "    X_test, y_test = X_filtered.iloc[test_outer_ix], y.iloc[test_outer_ix]\n",
    "    \n",
    "    model = LogisticRegression(random_state=8, max_iter=200)\n",
    "    model.fit(X_train, y_train)\n",
    "    \n",
    "    #test\n",
    "    yhat_probs = model.predict_proba(X_test)[:, 1]\n",
    "    \n",
    "    #auc\n",
    "    try:\n",
    "        auc = roc_auc_score(y_test, yhat_probs)\n",
    "        r_auc_scores.append(auc)\n",
    "    except ValueError:\n",
    "        r_auc_scores.append(float('nan')) \n",
    "    \n",
    "    models.append(model)"
   ]
  },
  {
   "cell_type": "code",
   "execution_count": 194,
   "metadata": {},
   "outputs": [
    {
     "name": "stdout",
     "output_type": "stream",
     "text": [
      "Mean AUC using Repeated Kfold after feature selection: 0.9166666666666666\n"
     ]
    }
   ],
   "source": [
    "mean_auc = np.nanmean(r_auc_scores)\n",
    "print(\"Mean AUC using Repeated Kfold after feature selection:\", mean_auc)"
   ]
  },
  {
   "cell_type": "code",
   "execution_count": 195,
   "metadata": {},
   "outputs": [],
   "source": [
    "cv = LeaveOneOut()\n",
    "\n",
    "models = []\n",
    "all_y_test = []\n",
    "all_yhat_probs = []\n",
    "\n",
    "for train_ix, test_ix in cv.split(X_filtered):\n",
    "    X_train, y_train = X_filtered.iloc[train_ix], y.iloc[train_ix]\n",
    "    X_test, y_test = X_filtered.iloc[test_ix], y.iloc[test_ix]\n",
    "\n",
    "    model = LogisticRegression(random_state=8, max_iter=200)\n",
    "    model.fit(X_train, y_train)\n",
    "    \n",
    "    yhat_probs = model.predict_proba(X_test)[:, 1]\n",
    "    \n",
    "    all_y_test.extend(y_test)\n",
    "    all_yhat_probs.extend(yhat_probs)\n",
    "        \n",
    "    models.append(model)"
   ]
  },
  {
   "cell_type": "code",
   "execution_count": 196,
   "metadata": {},
   "outputs": [
    {
     "name": "stdout",
     "output_type": "stream",
     "text": [
      "AUC Score across all LOOCV iterations: 0.9545454545454546\n"
     ]
    }
   ],
   "source": [
    "auc = roc_auc_score(all_y_test, all_yhat_probs)\n",
    "print(\"AUC Score across all LOOCV iterations:\", auc)"
   ]
  },
  {
   "cell_type": "markdown",
   "metadata": {},
   "source": [
    "### GNB"
   ]
  },
  {
   "cell_type": "code",
   "execution_count": 198,
   "metadata": {},
   "outputs": [],
   "source": [
    "from sklearn.naive_bayes import GaussianNB\n",
    "\n",
    "rkf = RepeatedKFold(n_splits=5, n_repeats=5, random_state=42)\n",
    "\n",
    "models = []\n",
    "r_auc_scores = []\n",
    "\n",
    "for i, (train_outer_ix, test_outer_ix) in enumerate(rkf.split(X_filtered)): \n",
    "    X_train, y_train = X_filtered.iloc[train_outer_ix], y.iloc[train_outer_ix]\n",
    "    X_test, y_test = X_filtered.iloc[test_outer_ix], y.iloc[test_outer_ix]\n",
    "    \n",
    "    model = GaussianNB()\n",
    "    model.fit(X_train, y_train)\n",
    "    \n",
    "    #test\n",
    "    yhat_probs = model.predict_proba(X_test)[:, 1]\n",
    "    \n",
    "    #auc\n",
    "    try:\n",
    "        auc = roc_auc_score(y_test, yhat_probs)\n",
    "        r_auc_scores.append(auc)\n",
    "    except ValueError:\n",
    "        r_auc_scores.append(float('nan')) \n",
    "    \n",
    "    models.append(model)"
   ]
  },
  {
   "cell_type": "code",
   "execution_count": 199,
   "metadata": {},
   "outputs": [
    {
     "name": "stdout",
     "output_type": "stream",
     "text": [
      "Mean AUC using Repeated Kfold after feature selection: 0.6388888888888888\n"
     ]
    }
   ],
   "source": [
    "mean_auc = np.nanmean(r_auc_scores)\n",
    "print(\"Mean AUC using Repeated Kfold after feature selection:\", mean_auc)"
   ]
  },
  {
   "cell_type": "code",
   "execution_count": 200,
   "metadata": {},
   "outputs": [],
   "source": [
    "cv = LeaveOneOut()\n",
    "\n",
    "models = []\n",
    "all_y_test = []\n",
    "all_yhat_probs = []\n",
    "\n",
    "for train_ix, test_ix in cv.split(X_filtered):\n",
    "    X_train, y_train = X_filtered.iloc[train_ix], y.iloc[train_ix]\n",
    "    X_test, y_test = X_filtered.iloc[test_ix], y.iloc[test_ix]\n",
    "\n",
    "    model = GaussianNB()\n",
    "    model.fit(X_train, y_train)\n",
    "    \n",
    "    yhat_probs = model.predict_proba(X_test)[:, 1]\n",
    "    \n",
    "    all_y_test.extend(y_test)\n",
    "    all_yhat_probs.extend(yhat_probs)\n",
    "        \n",
    "    models.append(model)\n"
   ]
  },
  {
   "cell_type": "code",
   "execution_count": 201,
   "metadata": {},
   "outputs": [
    {
     "name": "stdout",
     "output_type": "stream",
     "text": [
      "AUC Score across all LOOCV iterations: 0.5909090909090908\n"
     ]
    }
   ],
   "source": [
    "auc = roc_auc_score(all_y_test, all_yhat_probs)\n",
    "print(\"AUC Score across all LOOCV iterations:\", auc)"
   ]
  },
  {
   "cell_type": "code",
   "execution_count": null,
   "metadata": {},
   "outputs": [],
   "source": []
  }
 ],
 "metadata": {
  "kernelspec": {
   "display_name": "My Virtual Environment",
   "language": "python",
   "name": "myenv"
  },
  "language_info": {
   "codemirror_mode": {
    "name": "ipython",
    "version": 3
   },
   "file_extension": ".py",
   "mimetype": "text/x-python",
   "name": "python",
   "nbconvert_exporter": "python",
   "pygments_lexer": "ipython3",
   "version": "3.7.6"
  }
 },
 "nbformat": 4,
 "nbformat_minor": 4
}
